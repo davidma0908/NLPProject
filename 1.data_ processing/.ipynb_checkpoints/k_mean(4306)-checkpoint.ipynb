{
 "cells": [
  {
   "cell_type": "markdown",
   "metadata": {},
   "source": [
    "## 用 K means對(旅遊, 美食)4306篇文章重新分類\n",
    "(4,9)＝(旅遊, 美食) 4306篇\n",
    "1. loading jieba cut words result\n",
    "2. Doc2Vec\n",
    "3. K_means\n",
    "4. define K_means label"
   ]
  },
  {
   "cell_type": "markdown",
   "metadata": {},
   "source": [
    "#### stpe1 loading jieba cut words"
   ]
  },
  {
   "cell_type": "code",
   "execution_count": 7,
   "metadata": {},
   "outputs": [
    {
     "data": {
      "text/plain": [
       "'/project/jt071-group23/jt071078'"
      ]
     },
     "execution_count": 7,
     "metadata": {},
     "output_type": "execute_result"
    }
   ],
   "source": [
    "import pickle\n",
    "from gensim.models import Doc2Vec, doc2vec\n",
    "from gensim.models import word2vec\n",
    "import random\n",
    "import numpy as np\n",
    "import pandas as pd\n",
    "import logging\n",
    "import os\n",
    "\n",
    "## turn back to main directory\n",
    "# os.chdir(\"../\")\n",
    "os.getcwd()"
   ]
  },
  {
   "cell_type": "code",
   "execution_count": 8,
   "metadata": {},
   "outputs": [],
   "source": [
    "logging.basicConfig(format='%(asctime)s: %(levelname)s: %(message)s')\n",
    "logging.root.setLevel(level=logging.INFO)"
   ]
  },
  {
   "cell_type": "code",
   "execution_count": 9,
   "metadata": {},
   "outputs": [],
   "source": [
    "# load article cutted\n",
    "with open('/project/jt071-group23/jt071078/data/for_kmeans_two_label_cut_words(4306)', 'rb') as file:\n",
    "    data = pickle.load(file)"
   ]
  },
  {
   "cell_type": "markdown",
   "metadata": {},
   "source": [
    "#### step2 doc2vec"
   ]
  },
  {
   "cell_type": "code",
   "execution_count": 10,
   "metadata": {},
   "outputs": [],
   "source": [
    "## create a document id map\n",
    "sentence_list = []\n",
    "\n",
    "for i,l in enumerate(data):\n",
    "    sentence_list.append(doc2vec.LabeledSentence(l, tags=[str(i)]))"
   ]
  },
  {
   "cell_type": "code",
   "execution_count": 11,
   "metadata": {},
   "outputs": [
    {
     "name": "stdout",
     "output_type": "stream",
     "text": [
      "LabeledSentence(['MeTravel', '「', '燈會', '地方', '錯過', '嘉義', '好', '拍', 'IG', '熱點', '美食', 'VOGUEme', 'MeTravel', '嘉義', '嘉義', '燈會', '過年', '走春', '南部', '雞肉飯', '景點', 'IG', '好', '拍', '美食', '熱點', 'HappyLab', '花海', '節', '沉睡', '森林', '玉山', '旅社', '咖啡', '嘉義市', '史蹟', '資料館', '月影', '潭心', '蘭潭', '德爾', '芙', '快捷酒店', '說', '嘉義', '大部分', '人', '聯想', '阿里山', '雞肉飯', '嘉義市', '保留', '許多', '建築', '傳統', '小吃', '好', '味道', '深藏不露', '平民', '美食', '拍', '美的', '小', '景點', '今年', '燈會', '月', '日至', '月', '日', '嘉義', '舉辦', '規劃', '一場', '兩天', '一夜', '小', '旅行', '這次', '精心', '挑選', 'IG', '熱門', '景點', '人', '推薦', '美食', '腳步', '一起', '玩翻', '嘉義'], ['0'])\n"
     ]
    }
   ],
   "source": [
    "print(sentence_list[0])"
   ]
  },
  {
   "cell_type": "code",
   "execution_count": 12,
   "metadata": {},
   "outputs": [],
   "source": [
    "# 設定轉換器參數\n",
    "model = Doc2Vec(size=256, min_count=5, window=4)"
   ]
  },
  {
   "cell_type": "code",
   "execution_count": 13,
   "metadata": {},
   "outputs": [
    {
     "name": "stderr",
     "output_type": "stream",
     "text": [
      "2018-10-20 07:15:45,092: INFO: collecting all words and their counts\n",
      "2018-10-20 07:15:45,094: INFO: PROGRESS: at example #0, processed 0 words (0/s), 0 word types, 0 tags\n",
      "2018-10-20 07:15:45,514: INFO: collected 105096 word types and 4306 unique tags from a corpus of 4306 examples and 1863540 words\n",
      "2018-10-20 07:15:45,515: INFO: Loading a fresh vocabulary\n",
      "2018-10-20 07:15:45,600: INFO: min_count=5 retains 30112 unique words (28% of original 105096, drops 74984)\n",
      "2018-10-20 07:15:45,601: INFO: min_count=5 leaves 1740379 word corpus (93% of original 1863540, drops 123161)\n",
      "2018-10-20 07:15:45,683: INFO: deleting the raw counts dictionary of 105096 items\n",
      "2018-10-20 07:15:45,686: INFO: sample=0.001 downsamples 16 most-common words\n",
      "2018-10-20 07:15:45,687: INFO: downsampling leaves estimated 1705882 word corpus (98.0% of prior 1740379)\n",
      "2018-10-20 07:15:45,688: INFO: estimated required memory for 30112 words and 256 dimensions: 81995920 bytes\n",
      "2018-10-20 07:15:45,767: INFO: resetting layer weights\n"
     ]
    }
   ],
   "source": [
    "# build vocaburlary\n",
    "model.build_vocab(sentence_list)"
   ]
  },
  {
   "cell_type": "code",
   "execution_count": 14,
   "metadata": {},
   "outputs": [
    {
     "name": "stderr",
     "output_type": "stream",
     "text": [
      "2018-10-20 07:15:48,390: INFO: training model with 3 workers on 30112 vocabulary and 256 features, using sg=0 hs=0 sample=0.001 negative=5 window=4\n",
      "2018-10-20 07:15:49,397: INFO: PROGRESS: at 55.13% examples, 915398 words/s, in_qsize 6, out_qsize 0\n",
      "2018-10-20 07:15:50,316: INFO: worker thread finished; awaiting finish of 2 more threads\n",
      "2018-10-20 07:15:50,321: INFO: worker thread finished; awaiting finish of 1 more threads\n",
      "2018-10-20 07:15:50,325: INFO: worker thread finished; awaiting finish of 0 more threads\n",
      "2018-10-20 07:15:50,326: INFO: training on 1863540 raw words (1710066 effective words) took 1.9s, 885423 effective words/s\n",
      "2018-10-20 07:15:50,336: INFO: training model with 3 workers on 30112 vocabulary and 256 features, using sg=0 hs=0 sample=0.001 negative=5 window=4\n",
      "2018-10-20 07:15:51,358: INFO: PROGRESS: at 57.78% examples, 968609 words/s, in_qsize 5, out_qsize 0\n",
      "2018-10-20 07:15:52,080: INFO: worker thread finished; awaiting finish of 2 more threads\n",
      "2018-10-20 07:15:52,091: INFO: worker thread finished; awaiting finish of 1 more threads\n",
      "2018-10-20 07:15:52,096: INFO: worker thread finished; awaiting finish of 0 more threads\n",
      "2018-10-20 07:15:52,097: INFO: training on 1863540 raw words (1710240 effective words) took 1.8s, 974091 effective words/s\n",
      "2018-10-20 07:15:52,105: INFO: training model with 3 workers on 30112 vocabulary and 256 features, using sg=0 hs=0 sample=0.001 negative=5 window=4\n",
      "2018-10-20 07:15:53,122: INFO: PROGRESS: at 47.93% examples, 805202 words/s, in_qsize 6, out_qsize 0\n",
      "2018-10-20 07:15:54,097: INFO: worker thread finished; awaiting finish of 2 more threads\n",
      "2018-10-20 07:15:54,102: INFO: worker thread finished; awaiting finish of 1 more threads\n",
      "2018-10-20 07:15:54,111: INFO: worker thread finished; awaiting finish of 0 more threads\n",
      "2018-10-20 07:15:54,112: INFO: training on 1863540 raw words (1710112 effective words) took 2.0s, 854274 effective words/s\n",
      "2018-10-20 07:15:54,122: INFO: training model with 3 workers on 30112 vocabulary and 256 features, using sg=0 hs=0 sample=0.001 negative=5 window=4\n",
      "2018-10-20 07:15:55,138: INFO: PROGRESS: at 48.26% examples, 810620 words/s, in_qsize 6, out_qsize 0\n",
      "2018-10-20 07:15:56,067: INFO: worker thread finished; awaiting finish of 2 more threads\n",
      "2018-10-20 07:15:56,084: INFO: worker thread finished; awaiting finish of 1 more threads\n",
      "2018-10-20 07:15:56,086: INFO: worker thread finished; awaiting finish of 0 more threads\n",
      "2018-10-20 07:15:56,086: INFO: training on 1863540 raw words (1710376 effective words) took 2.0s, 872485 effective words/s\n",
      "2018-10-20 07:15:56,091: INFO: training model with 3 workers on 30112 vocabulary and 256 features, using sg=0 hs=0 sample=0.001 negative=5 window=4\n",
      "2018-10-20 07:15:57,104: INFO: PROGRESS: at 53.92% examples, 931468 words/s, in_qsize 6, out_qsize 0\n",
      "2018-10-20 07:15:57,873: INFO: worker thread finished; awaiting finish of 2 more threads\n",
      "2018-10-20 07:15:57,884: INFO: worker thread finished; awaiting finish of 1 more threads\n",
      "2018-10-20 07:15:57,886: INFO: worker thread finished; awaiting finish of 0 more threads\n",
      "2018-10-20 07:15:57,886: INFO: training on 1863540 raw words (1710147 effective words) took 1.8s, 955650 effective words/s\n",
      "2018-10-20 07:15:57,892: INFO: training model with 3 workers on 30112 vocabulary and 256 features, using sg=0 hs=0 sample=0.001 negative=5 window=4\n",
      "2018-10-20 07:15:58,909: INFO: PROGRESS: at 58.31% examples, 980606 words/s, in_qsize 6, out_qsize 0\n",
      "2018-10-20 07:15:59,614: INFO: worker thread finished; awaiting finish of 2 more threads\n",
      "2018-10-20 07:15:59,618: INFO: worker thread finished; awaiting finish of 1 more threads\n",
      "2018-10-20 07:15:59,633: INFO: worker thread finished; awaiting finish of 0 more threads\n",
      "2018-10-20 07:15:59,634: INFO: training on 1863540 raw words (1710229 effective words) took 1.7s, 986111 effective words/s\n",
      "2018-10-20 07:15:59,647: INFO: training model with 3 workers on 30112 vocabulary and 256 features, using sg=0 hs=0 sample=0.001 negative=5 window=4\n",
      "2018-10-20 07:16:00,655: INFO: PROGRESS: at 57.69% examples, 980296 words/s, in_qsize 6, out_qsize 0\n",
      "2018-10-20 07:16:01,369: INFO: worker thread finished; awaiting finish of 2 more threads\n",
      "2018-10-20 07:16:01,390: INFO: worker thread finished; awaiting finish of 1 more threads\n",
      "2018-10-20 07:16:01,394: INFO: worker thread finished; awaiting finish of 0 more threads\n",
      "2018-10-20 07:16:01,395: INFO: training on 1863540 raw words (1710160 effective words) took 1.7s, 981062 effective words/s\n",
      "2018-10-20 07:16:01,405: INFO: training model with 3 workers on 30112 vocabulary and 256 features, using sg=0 hs=0 sample=0.001 negative=5 window=4\n",
      "2018-10-20 07:16:02,411: INFO: PROGRESS: at 57.06% examples, 975351 words/s, in_qsize 5, out_qsize 0\n",
      "2018-10-20 07:16:03,122: INFO: worker thread finished; awaiting finish of 2 more threads\n",
      "2018-10-20 07:16:03,126: INFO: worker thread finished; awaiting finish of 1 more threads\n",
      "2018-10-20 07:16:03,142: INFO: worker thread finished; awaiting finish of 0 more threads\n",
      "2018-10-20 07:16:03,143: INFO: training on 1863540 raw words (1710290 effective words) took 1.7s, 985602 effective words/s\n",
      "2018-10-20 07:16:03,154: INFO: training model with 3 workers on 30112 vocabulary and 256 features, using sg=0 hs=0 sample=0.001 negative=5 window=4\n",
      "2018-10-20 07:16:04,171: INFO: PROGRESS: at 58.73% examples, 987361 words/s, in_qsize 6, out_qsize 0\n",
      "2018-10-20 07:16:04,889: INFO: worker thread finished; awaiting finish of 2 more threads\n",
      "2018-10-20 07:16:04,895: INFO: worker thread finished; awaiting finish of 1 more threads\n",
      "2018-10-20 07:16:04,912: INFO: worker thread finished; awaiting finish of 0 more threads\n",
      "2018-10-20 07:16:04,913: INFO: training on 1863540 raw words (1710074 effective words) took 1.8s, 975998 effective words/s\n",
      "2018-10-20 07:16:04,920: INFO: training model with 3 workers on 30112 vocabulary and 256 features, using sg=0 hs=0 sample=0.001 negative=5 window=4\n",
      "2018-10-20 07:16:05,936: INFO: PROGRESS: at 59.10% examples, 990424 words/s, in_qsize 6, out_qsize 0\n",
      "2018-10-20 07:16:06,658: INFO: worker thread finished; awaiting finish of 2 more threads\n",
      "2018-10-20 07:16:06,664: INFO: worker thread finished; awaiting finish of 1 more threads\n",
      "2018-10-20 07:16:06,675: INFO: worker thread finished; awaiting finish of 0 more threads\n",
      "2018-10-20 07:16:06,676: INFO: training on 1863540 raw words (1710203 effective words) took 1.8s, 976240 effective words/s\n",
      "2018-10-20 07:16:06,683: INFO: training model with 3 workers on 30112 vocabulary and 256 features, using sg=0 hs=0 sample=0.001 negative=5 window=4\n",
      "2018-10-20 07:16:07,692: INFO: PROGRESS: at 56.57% examples, 959525 words/s, in_qsize 5, out_qsize 0\n",
      "2018-10-20 07:16:08,416: INFO: worker thread finished; awaiting finish of 2 more threads\n",
      "2018-10-20 07:16:08,431: INFO: worker thread finished; awaiting finish of 1 more threads\n",
      "2018-10-20 07:16:08,438: INFO: worker thread finished; awaiting finish of 0 more threads\n",
      "2018-10-20 07:16:08,439: INFO: training on 1863540 raw words (1710123 effective words) took 1.7s, 978132 effective words/s\n",
      "2018-10-20 07:16:08,443: INFO: training model with 3 workers on 30112 vocabulary and 256 features, using sg=0 hs=0 sample=0.001 negative=5 window=4\n",
      "2018-10-20 07:16:09,465: INFO: PROGRESS: at 59.15% examples, 979140 words/s, in_qsize 5, out_qsize 0\n",
      "2018-10-20 07:16:10,151: INFO: worker thread finished; awaiting finish of 2 more threads\n",
      "2018-10-20 07:16:10,154: INFO: worker thread finished; awaiting finish of 1 more threads\n",
      "2018-10-20 07:16:10,164: INFO: worker thread finished; awaiting finish of 0 more threads\n",
      "2018-10-20 07:16:10,165: INFO: training on 1863540 raw words (1710340 effective words) took 1.7s, 995350 effective words/s\n",
      "2018-10-20 07:16:10,176: INFO: training model with 3 workers on 30112 vocabulary and 256 features, using sg=0 hs=0 sample=0.001 negative=5 window=4\n",
      "2018-10-20 07:16:11,182: INFO: PROGRESS: at 56.87% examples, 984058 words/s, in_qsize 6, out_qsize 0\n",
      "2018-10-20 07:16:11,894: INFO: worker thread finished; awaiting finish of 2 more threads\n",
      "2018-10-20 07:16:11,897: INFO: worker thread finished; awaiting finish of 1 more threads\n",
      "2018-10-20 07:16:11,900: INFO: worker thread finished; awaiting finish of 0 more threads\n",
      "2018-10-20 07:16:11,901: INFO: training on 1863540 raw words (1710036 effective words) took 1.7s, 994221 effective words/s\n",
      "2018-10-20 07:16:11,909: INFO: training model with 3 workers on 30112 vocabulary and 256 features, using sg=0 hs=0 sample=0.001 negative=5 window=4\n",
      "2018-10-20 07:16:12,921: INFO: PROGRESS: at 59.15% examples, 995870 words/s, in_qsize 6, out_qsize 0\n",
      "2018-10-20 07:16:13,594: INFO: worker thread finished; awaiting finish of 2 more threads\n",
      "2018-10-20 07:16:13,596: INFO: worker thread finished; awaiting finish of 1 more threads\n",
      "2018-10-20 07:16:13,604: INFO: worker thread finished; awaiting finish of 0 more threads\n",
      "2018-10-20 07:16:13,605: INFO: training on 1863540 raw words (1709959 effective words) took 1.7s, 1010785 effective words/s\n",
      "2018-10-20 07:16:13,615: INFO: training model with 3 workers on 30112 vocabulary and 256 features, using sg=0 hs=0 sample=0.001 negative=5 window=4\n",
      "2018-10-20 07:16:14,622: INFO: PROGRESS: at 58.20% examples, 1004320 words/s, in_qsize 6, out_qsize 0\n",
      "2018-10-20 07:16:15,325: INFO: worker thread finished; awaiting finish of 2 more threads\n",
      "2018-10-20 07:16:15,334: INFO: worker thread finished; awaiting finish of 1 more threads\n",
      "2018-10-20 07:16:15,340: INFO: worker thread finished; awaiting finish of 0 more threads\n",
      "2018-10-20 07:16:15,341: INFO: training on 1863540 raw words (1710281 effective words) took 1.7s, 994510 effective words/s\n",
      "2018-10-20 07:16:15,353: INFO: training model with 3 workers on 30112 vocabulary and 256 features, using sg=0 hs=0 sample=0.001 negative=5 window=4\n",
      "2018-10-20 07:16:16,363: INFO: PROGRESS: at 58.99% examples, 997533 words/s, in_qsize 6, out_qsize 0\n",
      "2018-10-20 07:16:17,070: INFO: worker thread finished; awaiting finish of 2 more threads\n",
      "2018-10-20 07:16:17,073: INFO: worker thread finished; awaiting finish of 1 more threads\n",
      "2018-10-20 07:16:17,087: INFO: worker thread finished; awaiting finish of 0 more threads\n",
      "2018-10-20 07:16:17,088: INFO: training on 1863540 raw words (1710247 effective words) took 1.7s, 987628 effective words/s\n",
      "2018-10-20 07:16:17,099: INFO: training model with 3 workers on 30112 vocabulary and 256 features, using sg=0 hs=0 sample=0.001 negative=5 window=4\n",
      "2018-10-20 07:16:18,121: INFO: PROGRESS: at 57.76% examples, 980439 words/s, in_qsize 5, out_qsize 0\n",
      "2018-10-20 07:16:18,790: INFO: worker thread finished; awaiting finish of 2 more threads\n",
      "2018-10-20 07:16:18,807: INFO: worker thread finished; awaiting finish of 1 more threads\n",
      "2018-10-20 07:16:18,809: INFO: worker thread finished; awaiting finish of 0 more threads\n",
      "2018-10-20 07:16:18,810: INFO: training on 1863540 raw words (1710072 effective words) took 1.7s, 1002204 effective words/s\n",
      "2018-10-20 07:16:18,816: INFO: training model with 3 workers on 30112 vocabulary and 256 features, using sg=0 hs=0 sample=0.001 negative=5 window=4\n",
      "2018-10-20 07:16:19,831: INFO: PROGRESS: at 58.85% examples, 1004524 words/s, in_qsize 6, out_qsize 0\n",
      "2018-10-20 07:16:20,502: INFO: worker thread finished; awaiting finish of 2 more threads\n",
      "2018-10-20 07:16:20,508: INFO: worker thread finished; awaiting finish of 1 more threads\n",
      "2018-10-20 07:16:20,512: INFO: worker thread finished; awaiting finish of 0 more threads\n",
      "2018-10-20 07:16:20,513: INFO: training on 1863540 raw words (1710286 effective words) took 1.7s, 1010767 effective words/s\n",
      "2018-10-20 07:16:20,522: INFO: training model with 3 workers on 30112 vocabulary and 256 features, using sg=0 hs=0 sample=0.001 negative=5 window=4\n",
      "2018-10-20 07:16:21,538: INFO: PROGRESS: at 59.99% examples, 1008072 words/s, in_qsize 6, out_qsize 0\n",
      "2018-10-20 07:16:22,196: INFO: worker thread finished; awaiting finish of 2 more threads\n",
      "2018-10-20 07:16:22,203: INFO: worker thread finished; awaiting finish of 1 more threads\n",
      "2018-10-20 07:16:22,205: INFO: worker thread finished; awaiting finish of 0 more threads\n",
      "2018-10-20 07:16:22,206: INFO: training on 1863540 raw words (1710246 effective words) took 1.7s, 1017763 effective words/s\n",
      "2018-10-20 07:16:22,216: INFO: training model with 3 workers on 30112 vocabulary and 256 features, using sg=0 hs=0 sample=0.001 negative=5 window=4\n",
      "2018-10-20 07:16:23,229: INFO: PROGRESS: at 57.90% examples, 989233 words/s, in_qsize 5, out_qsize 0\n",
      "2018-10-20 07:16:23,911: INFO: worker thread finished; awaiting finish of 2 more threads\n",
      "2018-10-20 07:16:23,915: INFO: worker thread finished; awaiting finish of 1 more threads\n",
      "2018-10-20 07:16:23,921: INFO: worker thread finished; awaiting finish of 0 more threads\n",
      "2018-10-20 07:16:23,922: INFO: training on 1863540 raw words (1710172 effective words) took 1.7s, 1005600 effective words/s\n"
     ]
    }
   ],
   "source": [
    "for i in range(20):\n",
    "    random.shuffle(sentence_list)\n",
    "    model.train(sentence_list, total_examples=len(data), epochs=1)"
   ]
  },
  {
   "cell_type": "code",
   "execution_count": 15,
   "metadata": {},
   "outputs": [],
   "source": [
    "doc2vec_result = model.docvecs\n",
    "# list(doc2vec_result)"
   ]
  },
  {
   "cell_type": "markdown",
   "metadata": {},
   "source": [
    "#### step3 K-means clustering"
   ]
  },
  {
   "cell_type": "code",
   "execution_count": 16,
   "metadata": {},
   "outputs": [],
   "source": [
    "%matplotlib inline\n",
    "import matplotlib.pyplot as plt\n",
    "import seaborn as sns; sns.set() # for plot styling\n",
    "import numpy as np\n",
    "\n",
    "\n",
    "from sklearn.cluster import KMeans\n",
    "from collections import Counter"
   ]
  },
  {
   "cell_type": "code",
   "execution_count": 17,
   "metadata": {},
   "outputs": [
    {
     "data": {
      "text/plain": [
       "KMeans(algorithm='auto', copy_x=True, init='k-means++', max_iter=300,\n",
       "    n_clusters=2, n_init=10, n_jobs=1, precompute_distances='auto',\n",
       "    random_state=4, tol=0.0001, verbose=0)"
      ]
     },
     "execution_count": 17,
     "metadata": {},
     "output_type": "execute_result"
    }
   ],
   "source": [
    "kmeans = KMeans(n_clusters=2, random_state=4)\n",
    "kmeans.fit(doc2vec_result)"
   ]
  },
  {
   "cell_type": "code",
   "execution_count": 18,
   "metadata": {},
   "outputs": [
    {
     "name": "stdout",
     "output_type": "stream",
     "text": [
      "4306\n"
     ]
    }
   ],
   "source": [
    "kmeans_label = kmeans.labels_\n",
    "print(len(kmeans_label))"
   ]
  },
  {
   "cell_type": "code",
   "execution_count": 19,
   "metadata": {},
   "outputs": [
    {
     "data": {
      "text/plain": [
       "array([1, 0, 0, ..., 0, 0, 0], dtype=int32)"
      ]
     },
     "execution_count": 19,
     "metadata": {},
     "output_type": "execute_result"
    }
   ],
   "source": [
    "kmeans_label"
   ]
  },
  {
   "cell_type": "code",
   "execution_count": 20,
   "metadata": {},
   "outputs": [
    {
     "name": "stdout",
     "output_type": "stream",
     "text": [
      "Counter({1: 2262, 0: 2044})\n"
     ]
    }
   ],
   "source": [
    "print(Counter(kmeans_label))"
   ]
  },
  {
   "cell_type": "code",
   "execution_count": 21,
   "metadata": {},
   "outputs": [
    {
     "data": {
      "text/plain": [
       "'/project/jt071-group23/jt071078'"
      ]
     },
     "execution_count": 21,
     "metadata": {},
     "output_type": "execute_result"
    }
   ],
   "source": [
    "os.getcwd()"
   ]
  },
  {
   "cell_type": "markdown",
   "metadata": {},
   "source": [
    "#### 將kmean label 結果與for_kmean data結合"
   ]
  },
  {
   "cell_type": "code",
   "execution_count": 23,
   "metadata": {},
   "outputs": [],
   "source": [
    "for_kmean_data = pd.read_csv('/project/jt071-group23/jt071078/data/for_kmeans_two_label(4306).csv')\n",
    "for_kmean_data['kmeans_label'] = kmeans_label"
   ]
  },
  {
   "cell_type": "code",
   "execution_count": 24,
   "metadata": {},
   "outputs": [
    {
     "data": {
      "text/html": [
       "<div>\n",
       "<style scoped>\n",
       "    .dataframe tbody tr th:only-of-type {\n",
       "        vertical-align: middle;\n",
       "    }\n",
       "\n",
       "    .dataframe tbody tr th {\n",
       "        vertical-align: top;\n",
       "    }\n",
       "\n",
       "    .dataframe thead th {\n",
       "        text-align: right;\n",
       "    }\n",
       "</style>\n",
       "<table border=\"1\" class=\"dataframe\">\n",
       "  <thead>\n",
       "    <tr style=\"text-align: right;\">\n",
       "      <th></th>\n",
       "      <th>content</th>\n",
       "      <th>label_pair</th>\n",
       "      <th>sentences</th>\n",
       "      <th>sentences_1000</th>\n",
       "      <th>sentences_1000_str</th>\n",
       "      <th>kmeans_label</th>\n",
       "    </tr>\n",
       "  </thead>\n",
       "  <tbody>\n",
       "    <tr>\n",
       "      <th>1</th>\n",
       "      <td>#MeTravel「除了看燈會，這些地方也不能錯過！」嘉義好拍IG熱點＆美食都在這VOGUE...</td>\n",
       "      <td>('4', '9')</td>\n",
       "      <td>['MeTravel', '「', '燈會', '地方', '錯過', '嘉義', '好',...</td>\n",
       "      <td>['MeTravel', '「', '燈會', '地方', '錯過', '嘉義', '好',...</td>\n",
       "      <td>MeTravel 「 燈會 地方 錯過 嘉義 好 拍 IG 熱點 美食 VOGUEme Me...</td>\n",
       "      <td>1</td>\n",
       "    </tr>\n",
       "    <tr>\n",
       "      <th>2</th>\n",
       "      <td>#MeTravel吃過保證回台灣還會想著它！就連在地人都激推的6大釜山美食釜山,美食,旅遊,...</td>\n",
       "      <td>('4', '9')</td>\n",
       "      <td>['MeTravel', '吃過', '保證', '回台灣', '還會', '想', '連在...</td>\n",
       "      <td>['MeTravel', '吃過', '保證', '回台灣', '還會', '想', '連在...</td>\n",
       "      <td>MeTravel 吃過 保證 回台灣 還會 想 連在 地人 激推 釜山 美食 釜山 美食 旅...</td>\n",
       "      <td>0</td>\n",
       "    </tr>\n",
       "    <tr>\n",
       "      <th>3</th>\n",
       "      <td>(AWESOMEBURGER的BBQ鳳梨起士牛肉堡)文、圖／Kuni午後被某外場氣得臨時找其...</td>\n",
       "      <td>('4', '9')</td>\n",
       "      <td>['AWESOMEBURGER', 'BBQ', '鳳梨', '起士', '牛肉', '堡'...</td>\n",
       "      <td>['AWESOMEBURGER', 'BBQ', '鳳梨', '起士', '牛肉', '堡'...</td>\n",
       "      <td>AWESOMEBURGER BBQ 鳳梨 起士 牛肉 堡 文 圖 Kuni 午後 外場 氣得...</td>\n",
       "      <td>0</td>\n",
       "    </tr>\n",
       "    <tr>\n",
       "      <th>4</th>\n",
       "      <td>(五之神限定版拉麵好吃！)文、圖／Kuni這一篇絕對是平反文。五之神首訪後，我有好長一段時間...</td>\n",
       "      <td>('4', '9')</td>\n",
       "      <td>['五之神', '限定版', '拉', '麵', '好吃', '文', '圖', 'Kuni...</td>\n",
       "      <td>['五之神', '限定版', '拉', '麵', '好吃', '文', '圖', 'Kuni...</td>\n",
       "      <td>五之神 限定版 拉 麵 好吃 文 圖 Kuni 一篇 平反 文 五之神 首訪 後 好長 一段...</td>\n",
       "      <td>0</td>\n",
       "    </tr>\n",
       "    <tr>\n",
       "      <th>5</th>\n",
       "      <td>(山形A5臀肉蓋nice！)文、圖／Kuni這地址其實幾年前曾來過，記得是熊派牛排館。當時被...</td>\n",
       "      <td>('4', '9')</td>\n",
       "      <td>['山形', 'A5', '臀肉', '蓋', 'nice', '文', '圖', 'Kun...</td>\n",
       "      <td>['山形', 'A5', '臀肉', '蓋', 'nice', '文', '圖', 'Kun...</td>\n",
       "      <td>山形 A5 臀肉 蓋 nice 文 圖 Kuni 地址 幾年 前 曾 來過 記得 熊派 牛排...</td>\n",
       "      <td>0</td>\n",
       "    </tr>\n",
       "  </tbody>\n",
       "</table>\n",
       "</div>"
      ],
      "text/plain": [
       "                                             content  label_pair  \\\n",
       "1  #MeTravel「除了看燈會，這些地方也不能錯過！」嘉義好拍IG熱點＆美食都在這VOGUE...  ('4', '9')   \n",
       "2  #MeTravel吃過保證回台灣還會想著它！就連在地人都激推的6大釜山美食釜山,美食,旅遊,...  ('4', '9')   \n",
       "3  (AWESOMEBURGER的BBQ鳳梨起士牛肉堡)文、圖／Kuni午後被某外場氣得臨時找其...  ('4', '9')   \n",
       "4  (五之神限定版拉麵好吃！)文、圖／Kuni這一篇絕對是平反文。五之神首訪後，我有好長一段時間...  ('4', '9')   \n",
       "5  (山形A5臀肉蓋nice！)文、圖／Kuni這地址其實幾年前曾來過，記得是熊派牛排館。當時被...  ('4', '9')   \n",
       "\n",
       "                                           sentences  \\\n",
       "1  ['MeTravel', '「', '燈會', '地方', '錯過', '嘉義', '好',...   \n",
       "2  ['MeTravel', '吃過', '保證', '回台灣', '還會', '想', '連在...   \n",
       "3  ['AWESOMEBURGER', 'BBQ', '鳳梨', '起士', '牛肉', '堡'...   \n",
       "4  ['五之神', '限定版', '拉', '麵', '好吃', '文', '圖', 'Kuni...   \n",
       "5  ['山形', 'A5', '臀肉', '蓋', 'nice', '文', '圖', 'Kun...   \n",
       "\n",
       "                                      sentences_1000  \\\n",
       "1  ['MeTravel', '「', '燈會', '地方', '錯過', '嘉義', '好',...   \n",
       "2  ['MeTravel', '吃過', '保證', '回台灣', '還會', '想', '連在...   \n",
       "3  ['AWESOMEBURGER', 'BBQ', '鳳梨', '起士', '牛肉', '堡'...   \n",
       "4  ['五之神', '限定版', '拉', '麵', '好吃', '文', '圖', 'Kuni...   \n",
       "5  ['山形', 'A5', '臀肉', '蓋', 'nice', '文', '圖', 'Kun...   \n",
       "\n",
       "                                  sentences_1000_str  kmeans_label  \n",
       "1  MeTravel 「 燈會 地方 錯過 嘉義 好 拍 IG 熱點 美食 VOGUEme Me...             1  \n",
       "2  MeTravel 吃過 保證 回台灣 還會 想 連在 地人 激推 釜山 美食 釜山 美食 旅...             0  \n",
       "3  AWESOMEBURGER BBQ 鳳梨 起士 牛肉 堡 文 圖 Kuni 午後 外場 氣得...             0  \n",
       "4  五之神 限定版 拉 麵 好吃 文 圖 Kuni 一篇 平反 文 五之神 首訪 後 好長 一段...             0  \n",
       "5  山形 A5 臀肉 蓋 nice 文 圖 Kuni 地址 幾年 前 曾 來過 記得 熊派 牛排...             0  "
      ]
     },
     "execution_count": 24,
     "metadata": {},
     "output_type": "execute_result"
    }
   ],
   "source": [
    "for_kmean_data.head()"
   ]
  },
  {
   "cell_type": "markdown",
   "metadata": {},
   "source": [
    "#### step4 define k means label"
   ]
  },
  {
   "cell_type": "code",
   "execution_count": 25,
   "metadata": {},
   "outputs": [
    {
     "data": {
      "text/plain": [
       "'/project/jt071-group23/jt071078'"
      ]
     },
     "execution_count": 25,
     "metadata": {},
     "output_type": "execute_result"
    }
   ],
   "source": [
    "os.getcwd()"
   ]
  },
  {
   "cell_type": "code",
   "execution_count": 32,
   "metadata": {},
   "outputs": [],
   "source": [
    "# df = pd.read_csv('home/jovyan/jt071-group23/jt071078/data/data(11097).csv')"
   ]
  },
  {
   "cell_type": "code",
   "execution_count": 33,
   "metadata": {},
   "outputs": [],
   "source": [
    "# df['kmeans_label'] = kmeans_label\n",
    "# df.head()"
   ]
  },
  {
   "cell_type": "code",
   "execution_count": 26,
   "metadata": {},
   "outputs": [
    {
     "data": {
      "text/plain": [
       "{0: '蘋果專區_網頁資料(10000).csv',\n",
       " 1: 'AI與大數據_網頁資料(6482).csv',\n",
       " 2: '汽車_網頁資料(10005).csv',\n",
       " 3: '財經_網頁資料(10024).csv',\n",
       " 4: '旅遊_網頁資料(10021).csv',\n",
       " 5: '美妝保養_網頁資料(5272).csv',\n",
       " 6: '3C產品_網頁資料(2624).csv',\n",
       " 7: '醫療健康_網頁資料(10016).csv',\n",
       " 8: '職涯_網頁資料(10012).csv',\n",
       " 9: '美食_網頁資料(10000).csv',\n",
       " 10: '理財_網頁資料(7480).csv',\n",
       " 11: '無人駕駛_網頁資料(2003).csv',\n",
       " 12: '房地產_網頁資料(3951).csv',\n",
       " 13: '區塊鏈技術_網頁資料(4735).csv'}"
      ]
     },
     "execution_count": 26,
     "metadata": {},
     "output_type": "execute_result"
    }
   ],
   "source": [
    "from os import listdir\n",
    "\n",
    "# 原本的類別名稱與label\n",
    "news_path = '/project/jt071-group23/news/'\n",
    "files = listdir(news_path)\n",
    "\n",
    "if '.ipynb_checkpoints' in files:\n",
    "    files.remove('.ipynb_checkpoints')\n",
    "    \n",
    "label_value = []\n",
    "label_name = []\n",
    "\n",
    "for i,foldName in enumerate(files):\n",
    "    label_value.append(i)\n",
    "    label_name.append(foldName)\n",
    "\n",
    "label_key_value = dict(zip(label_name, label_value))\n",
    "label_value_key = dict(zip(label_value, label_name))\n",
    "label_value_key"
   ]
  },
  {
   "cell_type": "code",
   "execution_count": 27,
   "metadata": {},
   "outputs": [],
   "source": [
    "# # 定義 14個 kmeans_label\n",
    "# kmeans_label_key = np.arange(14)\n",
    "# original_label_value = []\n",
    "\n",
    "# for i in kmeans_label_key:\n",
    "#     dict_ = Counter(df[df['kmeans_label']==i]['label'])\n",
    "#     original_label = max(dict_, key=dict_.get)\n",
    "#     original_label_value.append(original_label)\n",
    "#     print('Kmeans_label為{}，original_label為{}，{} '.format(i, original_label, label_value_key.get(original_label)))    \n",
    "    \n",
    "# kmeans_label_mapping=dict(zip(kmeans_label_key, original_label_value))"
   ]
  },
  {
   "cell_type": "code",
   "execution_count": 28,
   "metadata": {},
   "outputs": [],
   "source": [
    "# # 定義 2個 kmeans_label (0,1)=(4,9)=(旅遊:美食)\n",
    "kmeans_label_mapping={0:4, 1:9}"
   ]
  },
  {
   "cell_type": "code",
   "execution_count": 29,
   "metadata": {},
   "outputs": [
    {
     "data": {
      "text/html": [
       "<div>\n",
       "<style scoped>\n",
       "    .dataframe tbody tr th:only-of-type {\n",
       "        vertical-align: middle;\n",
       "    }\n",
       "\n",
       "    .dataframe tbody tr th {\n",
       "        vertical-align: top;\n",
       "    }\n",
       "\n",
       "    .dataframe thead th {\n",
       "        text-align: right;\n",
       "    }\n",
       "</style>\n",
       "<table border=\"1\" class=\"dataframe\">\n",
       "  <thead>\n",
       "    <tr style=\"text-align: right;\">\n",
       "      <th></th>\n",
       "      <th>content</th>\n",
       "      <th>sentences</th>\n",
       "      <th>sentences_1000</th>\n",
       "      <th>sentences_1000_str</th>\n",
       "      <th>label</th>\n",
       "    </tr>\n",
       "  </thead>\n",
       "  <tbody>\n",
       "    <tr>\n",
       "      <th>1</th>\n",
       "      <td>#MeTravel「除了看燈會，這些地方也不能錯過！」嘉義好拍IG熱點＆美食都在這VOGUE...</td>\n",
       "      <td>['MeTravel', '「', '燈會', '地方', '錯過', '嘉義', '好',...</td>\n",
       "      <td>['MeTravel', '「', '燈會', '地方', '錯過', '嘉義', '好',...</td>\n",
       "      <td>MeTravel 「 燈會 地方 錯過 嘉義 好 拍 IG 熱點 美食 VOGUEme Me...</td>\n",
       "      <td>9</td>\n",
       "    </tr>\n",
       "    <tr>\n",
       "      <th>2</th>\n",
       "      <td>#MeTravel吃過保證回台灣還會想著它！就連在地人都激推的6大釜山美食釜山,美食,旅遊,...</td>\n",
       "      <td>['MeTravel', '吃過', '保證', '回台灣', '還會', '想', '連在...</td>\n",
       "      <td>['MeTravel', '吃過', '保證', '回台灣', '還會', '想', '連在...</td>\n",
       "      <td>MeTravel 吃過 保證 回台灣 還會 想 連在 地人 激推 釜山 美食 釜山 美食 旅...</td>\n",
       "      <td>4</td>\n",
       "    </tr>\n",
       "    <tr>\n",
       "      <th>3</th>\n",
       "      <td>(AWESOMEBURGER的BBQ鳳梨起士牛肉堡)文、圖／Kuni午後被某外場氣得臨時找其...</td>\n",
       "      <td>['AWESOMEBURGER', 'BBQ', '鳳梨', '起士', '牛肉', '堡'...</td>\n",
       "      <td>['AWESOMEBURGER', 'BBQ', '鳳梨', '起士', '牛肉', '堡'...</td>\n",
       "      <td>AWESOMEBURGER BBQ 鳳梨 起士 牛肉 堡 文 圖 Kuni 午後 外場 氣得...</td>\n",
       "      <td>4</td>\n",
       "    </tr>\n",
       "    <tr>\n",
       "      <th>4</th>\n",
       "      <td>(五之神限定版拉麵好吃！)文、圖／Kuni這一篇絕對是平反文。五之神首訪後，我有好長一段時間...</td>\n",
       "      <td>['五之神', '限定版', '拉', '麵', '好吃', '文', '圖', 'Kuni...</td>\n",
       "      <td>['五之神', '限定版', '拉', '麵', '好吃', '文', '圖', 'Kuni...</td>\n",
       "      <td>五之神 限定版 拉 麵 好吃 文 圖 Kuni 一篇 平反 文 五之神 首訪 後 好長 一段...</td>\n",
       "      <td>4</td>\n",
       "    </tr>\n",
       "    <tr>\n",
       "      <th>5</th>\n",
       "      <td>(山形A5臀肉蓋nice！)文、圖／Kuni這地址其實幾年前曾來過，記得是熊派牛排館。當時被...</td>\n",
       "      <td>['山形', 'A5', '臀肉', '蓋', 'nice', '文', '圖', 'Kun...</td>\n",
       "      <td>['山形', 'A5', '臀肉', '蓋', 'nice', '文', '圖', 'Kun...</td>\n",
       "      <td>山形 A5 臀肉 蓋 nice 文 圖 Kuni 地址 幾年 前 曾 來過 記得 熊派 牛排...</td>\n",
       "      <td>4</td>\n",
       "    </tr>\n",
       "  </tbody>\n",
       "</table>\n",
       "</div>"
      ],
      "text/plain": [
       "                                             content  \\\n",
       "1  #MeTravel「除了看燈會，這些地方也不能錯過！」嘉義好拍IG熱點＆美食都在這VOGUE...   \n",
       "2  #MeTravel吃過保證回台灣還會想著它！就連在地人都激推的6大釜山美食釜山,美食,旅遊,...   \n",
       "3  (AWESOMEBURGER的BBQ鳳梨起士牛肉堡)文、圖／Kuni午後被某外場氣得臨時找其...   \n",
       "4  (五之神限定版拉麵好吃！)文、圖／Kuni這一篇絕對是平反文。五之神首訪後，我有好長一段時間...   \n",
       "5  (山形A5臀肉蓋nice！)文、圖／Kuni這地址其實幾年前曾來過，記得是熊派牛排館。當時被...   \n",
       "\n",
       "                                           sentences  \\\n",
       "1  ['MeTravel', '「', '燈會', '地方', '錯過', '嘉義', '好',...   \n",
       "2  ['MeTravel', '吃過', '保證', '回台灣', '還會', '想', '連在...   \n",
       "3  ['AWESOMEBURGER', 'BBQ', '鳳梨', '起士', '牛肉', '堡'...   \n",
       "4  ['五之神', '限定版', '拉', '麵', '好吃', '文', '圖', 'Kuni...   \n",
       "5  ['山形', 'A5', '臀肉', '蓋', 'nice', '文', '圖', 'Kun...   \n",
       "\n",
       "                                      sentences_1000  \\\n",
       "1  ['MeTravel', '「', '燈會', '地方', '錯過', '嘉義', '好',...   \n",
       "2  ['MeTravel', '吃過', '保證', '回台灣', '還會', '想', '連在...   \n",
       "3  ['AWESOMEBURGER', 'BBQ', '鳳梨', '起士', '牛肉', '堡'...   \n",
       "4  ['五之神', '限定版', '拉', '麵', '好吃', '文', '圖', 'Kuni...   \n",
       "5  ['山形', 'A5', '臀肉', '蓋', 'nice', '文', '圖', 'Kun...   \n",
       "\n",
       "                                  sentences_1000_str  label  \n",
       "1  MeTravel 「 燈會 地方 錯過 嘉義 好 拍 IG 熱點 美食 VOGUEme Me...      9  \n",
       "2  MeTravel 吃過 保證 回台灣 還會 想 連在 地人 激推 釜山 美食 釜山 美食 旅...      4  \n",
       "3  AWESOMEBURGER BBQ 鳳梨 起士 牛肉 堡 文 圖 Kuni 午後 外場 氣得...      4  \n",
       "4  五之神 限定版 拉 麵 好吃 文 圖 Kuni 一篇 平反 文 五之神 首訪 後 好長 一段...      4  \n",
       "5  山形 A5 臀肉 蓋 nice 文 圖 Kuni 地址 幾年 前 曾 來過 記得 熊派 牛排...      4  "
      ]
     },
     "execution_count": 29,
     "metadata": {},
     "output_type": "execute_result"
    }
   ],
   "source": [
    "# 重新標記原本的label\n",
    "for_kmean_data['label'] = for_kmean_data['kmeans_label'].map(kmeans_label_mapping)\n",
    "for_kmean_data.head()\n",
    "\n",
    "df_data_two_label = for_kmean_data.drop(['label_pair','kmeans_label'], axis=1).copy()\n",
    "df_data_two_label.head()"
   ]
  },
  {
   "cell_type": "markdown",
   "metadata": {},
   "source": [
    "#### Plot kmean result\n",
    "*Doc2Vec需要用PCA降成2維"
   ]
  },
  {
   "cell_type": "code",
   "execution_count": 30,
   "metadata": {},
   "outputs": [
    {
     "data": {
      "text/html": [
       "<div>\n",
       "<style scoped>\n",
       "    .dataframe tbody tr th:only-of-type {\n",
       "        vertical-align: middle;\n",
       "    }\n",
       "\n",
       "    .dataframe tbody tr th {\n",
       "        vertical-align: top;\n",
       "    }\n",
       "\n",
       "    .dataframe thead th {\n",
       "        text-align: right;\n",
       "    }\n",
       "</style>\n",
       "<table border=\"1\" class=\"dataframe\">\n",
       "  <thead>\n",
       "    <tr style=\"text-align: right;\">\n",
       "      <th></th>\n",
       "      <th>content</th>\n",
       "      <th>label_pair</th>\n",
       "      <th>sentences</th>\n",
       "      <th>sentences_1000</th>\n",
       "      <th>sentences_1000_str</th>\n",
       "      <th>kmeans_label</th>\n",
       "      <th>label</th>\n",
       "    </tr>\n",
       "  </thead>\n",
       "  <tbody>\n",
       "    <tr>\n",
       "      <th>1</th>\n",
       "      <td>#MeTravel「除了看燈會，這些地方也不能錯過！」嘉義好拍IG熱點＆美食都在這VOGUE...</td>\n",
       "      <td>('4', '9')</td>\n",
       "      <td>['MeTravel', '「', '燈會', '地方', '錯過', '嘉義', '好',...</td>\n",
       "      <td>['MeTravel', '「', '燈會', '地方', '錯過', '嘉義', '好',...</td>\n",
       "      <td>MeTravel 「 燈會 地方 錯過 嘉義 好 拍 IG 熱點 美食 VOGUEme Me...</td>\n",
       "      <td>1</td>\n",
       "      <td>9</td>\n",
       "    </tr>\n",
       "    <tr>\n",
       "      <th>2</th>\n",
       "      <td>#MeTravel吃過保證回台灣還會想著它！就連在地人都激推的6大釜山美食釜山,美食,旅遊,...</td>\n",
       "      <td>('4', '9')</td>\n",
       "      <td>['MeTravel', '吃過', '保證', '回台灣', '還會', '想', '連在...</td>\n",
       "      <td>['MeTravel', '吃過', '保證', '回台灣', '還會', '想', '連在...</td>\n",
       "      <td>MeTravel 吃過 保證 回台灣 還會 想 連在 地人 激推 釜山 美食 釜山 美食 旅...</td>\n",
       "      <td>0</td>\n",
       "      <td>4</td>\n",
       "    </tr>\n",
       "    <tr>\n",
       "      <th>3</th>\n",
       "      <td>(AWESOMEBURGER的BBQ鳳梨起士牛肉堡)文、圖／Kuni午後被某外場氣得臨時找其...</td>\n",
       "      <td>('4', '9')</td>\n",
       "      <td>['AWESOMEBURGER', 'BBQ', '鳳梨', '起士', '牛肉', '堡'...</td>\n",
       "      <td>['AWESOMEBURGER', 'BBQ', '鳳梨', '起士', '牛肉', '堡'...</td>\n",
       "      <td>AWESOMEBURGER BBQ 鳳梨 起士 牛肉 堡 文 圖 Kuni 午後 外場 氣得...</td>\n",
       "      <td>0</td>\n",
       "      <td>4</td>\n",
       "    </tr>\n",
       "    <tr>\n",
       "      <th>4</th>\n",
       "      <td>(五之神限定版拉麵好吃！)文、圖／Kuni這一篇絕對是平反文。五之神首訪後，我有好長一段時間...</td>\n",
       "      <td>('4', '9')</td>\n",
       "      <td>['五之神', '限定版', '拉', '麵', '好吃', '文', '圖', 'Kuni...</td>\n",
       "      <td>['五之神', '限定版', '拉', '麵', '好吃', '文', '圖', 'Kuni...</td>\n",
       "      <td>五之神 限定版 拉 麵 好吃 文 圖 Kuni 一篇 平反 文 五之神 首訪 後 好長 一段...</td>\n",
       "      <td>0</td>\n",
       "      <td>4</td>\n",
       "    </tr>\n",
       "    <tr>\n",
       "      <th>5</th>\n",
       "      <td>(山形A5臀肉蓋nice！)文、圖／Kuni這地址其實幾年前曾來過，記得是熊派牛排館。當時被...</td>\n",
       "      <td>('4', '9')</td>\n",
       "      <td>['山形', 'A5', '臀肉', '蓋', 'nice', '文', '圖', 'Kun...</td>\n",
       "      <td>['山形', 'A5', '臀肉', '蓋', 'nice', '文', '圖', 'Kun...</td>\n",
       "      <td>山形 A5 臀肉 蓋 nice 文 圖 Kuni 地址 幾年 前 曾 來過 記得 熊派 牛排...</td>\n",
       "      <td>0</td>\n",
       "      <td>4</td>\n",
       "    </tr>\n",
       "  </tbody>\n",
       "</table>\n",
       "</div>"
      ],
      "text/plain": [
       "                                             content  label_pair  \\\n",
       "1  #MeTravel「除了看燈會，這些地方也不能錯過！」嘉義好拍IG熱點＆美食都在這VOGUE...  ('4', '9')   \n",
       "2  #MeTravel吃過保證回台灣還會想著它！就連在地人都激推的6大釜山美食釜山,美食,旅遊,...  ('4', '9')   \n",
       "3  (AWESOMEBURGER的BBQ鳳梨起士牛肉堡)文、圖／Kuni午後被某外場氣得臨時找其...  ('4', '9')   \n",
       "4  (五之神限定版拉麵好吃！)文、圖／Kuni這一篇絕對是平反文。五之神首訪後，我有好長一段時間...  ('4', '9')   \n",
       "5  (山形A5臀肉蓋nice！)文、圖／Kuni這地址其實幾年前曾來過，記得是熊派牛排館。當時被...  ('4', '9')   \n",
       "\n",
       "                                           sentences  \\\n",
       "1  ['MeTravel', '「', '燈會', '地方', '錯過', '嘉義', '好',...   \n",
       "2  ['MeTravel', '吃過', '保證', '回台灣', '還會', '想', '連在...   \n",
       "3  ['AWESOMEBURGER', 'BBQ', '鳳梨', '起士', '牛肉', '堡'...   \n",
       "4  ['五之神', '限定版', '拉', '麵', '好吃', '文', '圖', 'Kuni...   \n",
       "5  ['山形', 'A5', '臀肉', '蓋', 'nice', '文', '圖', 'Kun...   \n",
       "\n",
       "                                      sentences_1000  \\\n",
       "1  ['MeTravel', '「', '燈會', '地方', '錯過', '嘉義', '好',...   \n",
       "2  ['MeTravel', '吃過', '保證', '回台灣', '還會', '想', '連在...   \n",
       "3  ['AWESOMEBURGER', 'BBQ', '鳳梨', '起士', '牛肉', '堡'...   \n",
       "4  ['五之神', '限定版', '拉', '麵', '好吃', '文', '圖', 'Kuni...   \n",
       "5  ['山形', 'A5', '臀肉', '蓋', 'nice', '文', '圖', 'Kun...   \n",
       "\n",
       "                                  sentences_1000_str  kmeans_label  label  \n",
       "1  MeTravel 「 燈會 地方 錯過 嘉義 好 拍 IG 熱點 美食 VOGUEme Me...             1      9  \n",
       "2  MeTravel 吃過 保證 回台灣 還會 想 連在 地人 激推 釜山 美食 釜山 美食 旅...             0      4  \n",
       "3  AWESOMEBURGER BBQ 鳳梨 起士 牛肉 堡 文 圖 Kuni 午後 外場 氣得...             0      4  \n",
       "4  五之神 限定版 拉 麵 好吃 文 圖 Kuni 一篇 平反 文 五之神 首訪 後 好長 一段...             0      4  \n",
       "5  山形 A5 臀肉 蓋 nice 文 圖 Kuni 地址 幾年 前 曾 來過 記得 熊派 牛排...             0      4  "
      ]
     },
     "execution_count": 30,
     "metadata": {},
     "output_type": "execute_result"
    }
   ],
   "source": [
    "for_kmean_data.head()"
   ]
  },
  {
   "cell_type": "code",
   "execution_count": 31,
   "metadata": {},
   "outputs": [],
   "source": [
    "random_label = for_kmean_data['label_pair'].apply(lambda x: np.random.choice(eval(x)))"
   ]
  },
  {
   "cell_type": "code",
   "execution_count": 32,
   "metadata": {},
   "outputs": [],
   "source": [
    "from sklearn.decomposition import PCA"
   ]
  },
  {
   "cell_type": "code",
   "execution_count": 33,
   "metadata": {},
   "outputs": [
    {
     "data": {
      "text/plain": [
       "array([1, 0, 0, ..., 0, 0, 0], dtype=int32)"
      ]
     },
     "execution_count": 33,
     "metadata": {},
     "output_type": "execute_result"
    }
   ],
   "source": [
    "y_means = kmeans.predict(doc2vec_result)\n",
    "y_means"
   ]
  },
  {
   "cell_type": "code",
   "execution_count": 34,
   "metadata": {},
   "outputs": [],
   "source": [
    "pca = PCA(n_components=2)\n",
    "x = pca.fit_transform(doc2vec_result)\n",
    "# y_means = pca.fit_transform()"
   ]
  },
  {
   "cell_type": "code",
   "execution_count": 91,
   "metadata": {},
   "outputs": [
    {
     "data": {
      "text/plain": [
       "<matplotlib.collections.PathCollection at 0x7f34b4389be0>"
      ]
     },
     "execution_count": 91,
     "metadata": {},
     "output_type": "execute_result"
    },
    {
     "data": {
      "image/png": "[encoded data removed]",
      "text/plain": [
       "<Figure size 432x288 with 1 Axes>"
      ]
     },
     "metadata": {},
     "output_type": "display_data"
    }
   ],
   "source": [
    "plt.scatter(x[:, 0], x[:, 1], c=y_means, s=50, cmap='Paired')"
   ]
  },
  {
   "cell_type": "code",
   "execution_count": 68,
   "metadata": {},
   "outputs": [],
   "source": [
    "plt.show()"
   ]
  },
  {
   "cell_type": "code",
   "execution_count": 5,
   "metadata": {},
   "outputs": [
    {
     "data": {
      "text/plain": [
       "<Figure size 432x288 with 0 Axes>"
      ]
     },
     "metadata": {},
     "output_type": "display_data"
    }
   ],
   "source": [
    "plt.savefig('figure/kmean(4306).png')"
   ]
  },
  {
   "cell_type": "code",
   "execution_count": 92,
   "metadata": {},
   "outputs": [
    {
     "data": {
      "text/plain": [
       "<matplotlib.collections.PathCollection at 0x7f34b432bd30>"
      ]
     },
     "execution_count": 92,
     "metadata": {},
     "output_type": "execute_result"
    },
    {
     "data": {
      "image/png": "[encoded data removed]",
      "text/plain": [
       "<Figure size 432x288 with 1 Axes>"
      ]
     },
     "metadata": {},
     "output_type": "display_data"
    }
   ],
   "source": [
    "plt.scatter(x[:, 0], x[:, 1], c=random_label, s=50, cmap='Paired')"
   ]
  },
  {
   "cell_type": "code",
   "execution_count": 6,
   "metadata": {},
   "outputs": [
    {
     "data": {
      "text/plain": [
       "<Figure size 432x288 with 0 Axes>"
      ]
     },
     "metadata": {},
     "output_type": "display_data"
    }
   ],
   "source": [
    "plt.savefig('figure/(4306).png')"
   ]
  },
  {
   "cell_type": "markdown",
   "metadata": {},
   "source": [
    "#### 與for_CNN_data(67178)的資料結合"
   ]
  },
  {
   "cell_type": "code",
   "execution_count": 47,
   "metadata": {},
   "outputs": [],
   "source": [
    "os.getcwd()\n",
    "\n",
    "df_data_one_lable = pd.read_csv('jt071078/data/data(67178).csv')\n",
    "df_data_one_lable.head()\n",
    "\n",
    "df_data_one_lable['label'].values\n",
    "\n",
    "df_data_new = pd.concat([df_data_two_label, df_data_one_lable], axis=0, ignore_index=True)\n",
    "df_data_new.shape\n",
    "\n",
    "df_data_new.head()\n",
    "\n",
    "set(df_data_new['label'])\n",
    "\n",
    "df_data_new.to_csv('jt071078/data/for_CNN_data(71484).csv', index=False)"
   ]
  },
  {
   "cell_type": "code",
   "execution_count": null,
   "metadata": {},
   "outputs": [],
   "source": []
  }
 ],
 "metadata": {
  "kernelspec": {
   "display_name": "Python 3",
   "language": "python",
   "name": "python3"
  },
  "language_info": {
   "codemirror_mode": {
    "name": "ipython",
    "version": 3
   },
   "file_extension": ".py",
   "mimetype": "text/x-python",
   "name": "python",
   "nbconvert_exporter": "python",
   "pygments_lexer": "ipython3",
   "version": "3.6.6"
  }
 },
 "nbformat": 4,
 "nbformat_minor": 2
}
