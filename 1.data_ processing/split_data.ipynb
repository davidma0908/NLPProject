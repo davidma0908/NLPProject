{
 "cells": [
  {
   "cell_type": "markdown",
   "metadata": {},
   "source": [
    "## 切割test資料\n",
    "* for_CNN_data(73081)資料切為train, valid, test\n",
    "* 新增兩類: 3C產品（label 6, 2624筆），無人駕駛(label 11, 2003筆)\n",
    "* 3C產品:  test_3C,res_3C(300)\n",
    "* 無人駕駛: test_self_drive_car, res_self_drive_car(301)\n",
    "* 其它12類: test_others, res_others\n"
   ]
  },
  {
   "cell_type": "code",
   "execution_count": 1,
   "metadata": {},
   "outputs": [],
   "source": [
    "import os \n",
    "import pandas as pd\n",
    "\n",
    "from sklearn.model_selection import train_test_split"
   ]
  },
  {
   "cell_type": "code",
   "execution_count": 2,
   "metadata": {},
   "outputs": [
    {
     "data": {
      "text/plain": [
       "'/project/jt071-group23/jt071078'"
      ]
     },
     "execution_count": 2,
     "metadata": {},
     "output_type": "execute_result"
    }
   ],
   "source": [
    "os.getcwd()"
   ]
  },
  {
   "cell_type": "markdown",
   "metadata": {},
   "source": [
    "#### load data"
   ]
  },
  {
   "cell_type": "code",
   "execution_count": 3,
   "metadata": {},
   "outputs": [],
   "source": [
    "df = pd.read_csv('data/for_CNN_data(73081).csv')"
   ]
  },
  {
   "cell_type": "code",
   "execution_count": 5,
   "metadata": {},
   "outputs": [
    {
     "name": "stdout",
     "output_type": "stream",
     "text": [
      "(73081, 5)\n"
     ]
    },
    {
     "data": {
      "text/html": [
       "<div>\n",
       "<style scoped>\n",
       "    .dataframe tbody tr th:only-of-type {\n",
       "        vertical-align: middle;\n",
       "    }\n",
       "\n",
       "    .dataframe tbody tr th {\n",
       "        vertical-align: top;\n",
       "    }\n",
       "\n",
       "    .dataframe thead th {\n",
       "        text-align: right;\n",
       "    }\n",
       "</style>\n",
       "<table border=\"1\" class=\"dataframe\">\n",
       "  <thead>\n",
       "    <tr style=\"text-align: right;\">\n",
       "      <th></th>\n",
       "      <th>content</th>\n",
       "      <th>label</th>\n",
       "      <th>sentences</th>\n",
       "      <th>sentences_1000</th>\n",
       "      <th>sentences_1000_str</th>\n",
       "    </tr>\n",
       "  </thead>\n",
       "  <tbody>\n",
       "    <tr>\n",
       "      <th>0</th>\n",
       "      <td>\"ETF關鍵報告\"台北開課公告(2018七月15日課程)綠角將在2018七月15日在台北開立...</td>\n",
       "      <td>10</td>\n",
       "      <td>['ETF', '關鍵', '報告', '台北', '開課', '公告', '七月', '日...</td>\n",
       "      <td>['ETF', '關鍵', '報告', '台北', '開課', '公告', '七月', '日...</td>\n",
       "      <td>ETF 關鍵 報告 台北 開課 公告 七月 日 課程 綠角將 七月 日 台北 開立 ETF ...</td>\n",
       "    </tr>\n",
       "    <tr>\n",
       "      <th>1</th>\n",
       "      <td>\"ETF關鍵報告\"台北開課公告(2018九月課程)此次同時公告九月預計在台北舉辦的兩個梯次\"...</td>\n",
       "      <td>10</td>\n",
       "      <td>['ETF', '關鍵', '報告', '台北', '開課', '公告', '九月', '課...</td>\n",
       "      <td>['ETF', '關鍵', '報告', '台北', '開課', '公告', '九月', '課...</td>\n",
       "      <td>ETF 關鍵 報告 台北 開課 公告 九月 課程 此次 公告 九月 預計 台北 舉辦 兩個 ...</td>\n",
       "    </tr>\n",
       "    <tr>\n",
       "      <th>2</th>\n",
       "      <td>\"ETF關鍵報告\"台北開課公告(2018八月12日課程)綠角將在2018八月12日在台北開立...</td>\n",
       "      <td>10</td>\n",
       "      <td>['ETF', '關鍵', '報告', '台北', '開課', '公告', '八月', '日...</td>\n",
       "      <td>['ETF', '關鍵', '報告', '台北', '開課', '公告', '八月', '日...</td>\n",
       "      <td>ETF 關鍵 報告 台北 開課 公告 八月 日 課程 綠角將 八月 日 台北 開立 ETF ...</td>\n",
       "    </tr>\n",
       "    <tr>\n",
       "      <th>3</th>\n",
       "      <td>#1訪客於2018/05/1114:24總覺得這股應該沒這麼慘5/11公佈季營收反而下殺.....</td>\n",
       "      <td>10</td>\n",
       "      <td>['訪客', '總覺', '這股', '應該', '慘', '公佈', '季營收', '下'...</td>\n",
       "      <td>['訪客', '總覺', '這股', '應該', '慘', '公佈', '季營收', '下'...</td>\n",
       "      <td>訪客 總覺 這股 應該 慘 公佈 季營收 下 殺 明明 新聞 已經 說 月 營收 持平 市場...</td>\n",
       "    </tr>\n",
       "    <tr>\n",
       "      <th>4</th>\n",
       "      <td>&amp;lt;圖片擷取自:MONEYCONNEXION&amp;gt;雙親「理財」身教，凡遇錢事毫不馬虎！...</td>\n",
       "      <td>10</td>\n",
       "      <td>['lt', '圖片', '擷取', 'MONEYCONNEXION', 'gt', '雙親...</td>\n",
       "      <td>['lt', '圖片', '擷取', 'MONEYCONNEXION', 'gt', '雙親...</td>\n",
       "      <td>lt 圖片 擷取 MONEYCONNEXION gt 雙親 「 理財 身教 凡遇 錢 事 馬...</td>\n",
       "    </tr>\n",
       "  </tbody>\n",
       "</table>\n",
       "</div>"
      ],
      "text/plain": [
       "                                             content  label  \\\n",
       "0  \"ETF關鍵報告\"台北開課公告(2018七月15日課程)綠角將在2018七月15日在台北開立...     10   \n",
       "1  \"ETF關鍵報告\"台北開課公告(2018九月課程)此次同時公告九月預計在台北舉辦的兩個梯次\"...     10   \n",
       "2  \"ETF關鍵報告\"台北開課公告(2018八月12日課程)綠角將在2018八月12日在台北開立...     10   \n",
       "3  #1訪客於2018/05/1114:24總覺得這股應該沒這麼慘5/11公佈季營收反而下殺.....     10   \n",
       "4  &lt;圖片擷取自:MONEYCONNEXION&gt;雙親「理財」身教，凡遇錢事毫不馬虎！...     10   \n",
       "\n",
       "                                           sentences  \\\n",
       "0  ['ETF', '關鍵', '報告', '台北', '開課', '公告', '七月', '日...   \n",
       "1  ['ETF', '關鍵', '報告', '台北', '開課', '公告', '九月', '課...   \n",
       "2  ['ETF', '關鍵', '報告', '台北', '開課', '公告', '八月', '日...   \n",
       "3  ['訪客', '總覺', '這股', '應該', '慘', '公佈', '季營收', '下'...   \n",
       "4  ['lt', '圖片', '擷取', 'MONEYCONNEXION', 'gt', '雙親...   \n",
       "\n",
       "                                      sentences_1000  \\\n",
       "0  ['ETF', '關鍵', '報告', '台北', '開課', '公告', '七月', '日...   \n",
       "1  ['ETF', '關鍵', '報告', '台北', '開課', '公告', '九月', '課...   \n",
       "2  ['ETF', '關鍵', '報告', '台北', '開課', '公告', '八月', '日...   \n",
       "3  ['訪客', '總覺', '這股', '應該', '慘', '公佈', '季營收', '下'...   \n",
       "4  ['lt', '圖片', '擷取', 'MONEYCONNEXION', 'gt', '雙親...   \n",
       "\n",
       "                                  sentences_1000_str  \n",
       "0  ETF 關鍵 報告 台北 開課 公告 七月 日 課程 綠角將 七月 日 台北 開立 ETF ...  \n",
       "1  ETF 關鍵 報告 台北 開課 公告 九月 課程 此次 公告 九月 預計 台北 舉辦 兩個 ...  \n",
       "2  ETF 關鍵 報告 台北 開課 公告 八月 日 課程 綠角將 八月 日 台北 開立 ETF ...  \n",
       "3  訪客 總覺 這股 應該 慘 公佈 季營收 下 殺 明明 新聞 已經 說 月 營收 持平 市場...  \n",
       "4  lt 圖片 擷取 MONEYCONNEXION gt 雙親 「 理財 身教 凡遇 錢 事 馬...  "
      ]
     },
     "execution_count": 5,
     "metadata": {},
     "output_type": "execute_result"
    }
   ],
   "source": [
    "print(df.shape)\n",
    "df.head()"
   ]
  },
  {
   "cell_type": "markdown",
   "metadata": {},
   "source": [
    "#### 新增類別1＿3C產品test資料切割"
   ]
  },
  {
   "cell_type": "code",
   "execution_count": 6,
   "metadata": {},
   "outputs": [
    {
     "name": "stdout",
     "output_type": "stream",
     "text": [
      "(1644, 5)\n"
     ]
    },
    {
     "data": {
      "text/html": [
       "<div>\n",
       "<style scoped>\n",
       "    .dataframe tbody tr th:only-of-type {\n",
       "        vertical-align: middle;\n",
       "    }\n",
       "\n",
       "    .dataframe tbody tr th {\n",
       "        vertical-align: top;\n",
       "    }\n",
       "\n",
       "    .dataframe thead th {\n",
       "        text-align: right;\n",
       "    }\n",
       "</style>\n",
       "<table border=\"1\" class=\"dataframe\">\n",
       "  <thead>\n",
       "    <tr style=\"text-align: right;\">\n",
       "      <th></th>\n",
       "      <th>content</th>\n",
       "      <th>label</th>\n",
       "      <th>sentences</th>\n",
       "      <th>sentences_1000</th>\n",
       "      <th>sentences_1000_str</th>\n",
       "    </tr>\n",
       "  </thead>\n",
       "  <tbody>\n",
       "    <tr>\n",
       "      <th>40659</th>\n",
       "      <td>近年來行動電源爆炸事件層出不窮，造成不少意外傷害產生，也炸得人心惶惶，深怕自己成為下一位「行...</td>\n",
       "      <td>6</td>\n",
       "      <td>['行動', '電源', '爆炸事件', '層出不窮', '造成', '意外', '傷害',...</td>\n",
       "      <td>['行動', '電源', '爆炸事件', '層出不窮', '造成', '意外', '傷害',...</td>\n",
       "      <td>行動 電源 爆炸事件 層出不窮 造成 意外 傷害 產生 炸 人心惶惶 深怕 成為 下 一位 ...</td>\n",
       "    </tr>\n",
       "    <tr>\n",
       "      <th>40660</th>\n",
       "      <td>來源：電腦王阿達作者：電腦王阿達任天堂於稍早之前，在官方網站上正式公布開發代號為「NX」的新...</td>\n",
       "      <td>6</td>\n",
       "      <td>['來源', '電腦', '王阿達', '作者', '電腦', '王阿達', '任天堂', ...</td>\n",
       "      <td>['來源', '電腦', '王阿達', '作者', '電腦', '王阿達', '任天堂', ...</td>\n",
       "      <td>來源 電腦 王阿達 作者 電腦 王阿達 任天堂 稍早 之前 官方網站 正式 公布 開發 代號...</td>\n",
       "    </tr>\n",
       "    <tr>\n",
       "      <th>40661</th>\n",
       "      <td>這幾年拜電競賽事與遊戲直播風潮之賜，「電競產業」可說大獨走，電競遊戲人口逐年增加，各家廠商無...</td>\n",
       "      <td>6</td>\n",
       "      <td>['幾年', '拜電', '競賽', '事', '遊戲', '直播', '風潮', '之賜'...</td>\n",
       "      <td>['幾年', '拜電', '競賽', '事', '遊戲', '直播', '風潮', '之賜'...</td>\n",
       "      <td>幾年 拜電 競賽 事 遊戲 直播 風潮 之賜 「 電競 產業 可說 獨走 電競 遊戲 人口 ...</td>\n",
       "    </tr>\n",
       "    <tr>\n",
       "      <th>40662</th>\n",
       "      <td>台灣小米官方日前在粉專預告，確認將在1/25舉辦線上發表會，推出去年12月在中國發表的兩款平...</td>\n",
       "      <td>6</td>\n",
       "      <td>['台灣', '小米', '官方', '日前', '粉專', '預告', '確認', '將在...</td>\n",
       "      <td>['台灣', '小米', '官方', '日前', '粉專', '預告', '確認', '將在...</td>\n",
       "      <td>台灣 小米 官方 日前 粉專 預告 確認 將在 舉辦 線上 發表 推出 去年 月 中國 發表...</td>\n",
       "    </tr>\n",
       "    <tr>\n",
       "      <th>40663</th>\n",
       "      <td>彭博社最新報導指出，蘋果將在9月新品發表會發表最新一代iPhone手機，此外，還將同時推出第...</td>\n",
       "      <td>6</td>\n",
       "      <td>['彭博社', '最新報導', '指出', '蘋果', '將在', '月', '新品', '...</td>\n",
       "      <td>['彭博社', '最新報導', '指出', '蘋果', '將在', '月', '新品', '...</td>\n",
       "      <td>彭博社 最新報導 指出 蘋果 將在 月 新品 發表 發表 最新 一代 iPhone 手機 還...</td>\n",
       "    </tr>\n",
       "  </tbody>\n",
       "</table>\n",
       "</div>"
      ],
      "text/plain": [
       "                                                 content  label  \\\n",
       "40659  近年來行動電源爆炸事件層出不窮，造成不少意外傷害產生，也炸得人心惶惶，深怕自己成為下一位「行...      6   \n",
       "40660  來源：電腦王阿達作者：電腦王阿達任天堂於稍早之前，在官方網站上正式公布開發代號為「NX」的新...      6   \n",
       "40661  這幾年拜電競賽事與遊戲直播風潮之賜，「電競產業」可說大獨走，電競遊戲人口逐年增加，各家廠商無...      6   \n",
       "40662  台灣小米官方日前在粉專預告，確認將在1/25舉辦線上發表會，推出去年12月在中國發表的兩款平...      6   \n",
       "40663  彭博社最新報導指出，蘋果將在9月新品發表會發表最新一代iPhone手機，此外，還將同時推出第...      6   \n",
       "\n",
       "                                               sentences  \\\n",
       "40659  ['行動', '電源', '爆炸事件', '層出不窮', '造成', '意外', '傷害',...   \n",
       "40660  ['來源', '電腦', '王阿達', '作者', '電腦', '王阿達', '任天堂', ...   \n",
       "40661  ['幾年', '拜電', '競賽', '事', '遊戲', '直播', '風潮', '之賜'...   \n",
       "40662  ['台灣', '小米', '官方', '日前', '粉專', '預告', '確認', '將在...   \n",
       "40663  ['彭博社', '最新報導', '指出', '蘋果', '將在', '月', '新品', '...   \n",
       "\n",
       "                                          sentences_1000  \\\n",
       "40659  ['行動', '電源', '爆炸事件', '層出不窮', '造成', '意外', '傷害',...   \n",
       "40660  ['來源', '電腦', '王阿達', '作者', '電腦', '王阿達', '任天堂', ...   \n",
       "40661  ['幾年', '拜電', '競賽', '事', '遊戲', '直播', '風潮', '之賜'...   \n",
       "40662  ['台灣', '小米', '官方', '日前', '粉專', '預告', '確認', '將在...   \n",
       "40663  ['彭博社', '最新報導', '指出', '蘋果', '將在', '月', '新品', '...   \n",
       "\n",
       "                                      sentences_1000_str  \n",
       "40659  行動 電源 爆炸事件 層出不窮 造成 意外 傷害 產生 炸 人心惶惶 深怕 成為 下 一位 ...  \n",
       "40660  來源 電腦 王阿達 作者 電腦 王阿達 任天堂 稍早 之前 官方網站 正式 公布 開發 代號...  \n",
       "40661  幾年 拜電 競賽 事 遊戲 直播 風潮 之賜 「 電競 產業 可說 獨走 電競 遊戲 人口 ...  \n",
       "40662  台灣 小米 官方 日前 粉專 預告 確認 將在 舉辦 線上 發表 推出 去年 月 中國 發表...  \n",
       "40663  彭博社 最新報導 指出 蘋果 將在 月 新品 發表 發表 最新 一代 iPhone 手機 還...  "
      ]
     },
     "execution_count": 6,
     "metadata": {},
     "output_type": "execute_result"
    }
   ],
   "source": [
    "df_3C = df[df['label']==6].copy()\n",
    "print(df_3C.shape)\n",
    "df_3C.head()"
   ]
  },
  {
   "cell_type": "code",
   "execution_count": 65,
   "metadata": {},
   "outputs": [
    {
     "data": {
      "text/plain": [
       "{6}"
      ]
     },
     "execution_count": 65,
     "metadata": {},
     "output_type": "execute_result"
    }
   ],
   "source": [
    "# 確認label\n",
    "set(df_3C['label'].values)"
   ]
  },
  {
   "cell_type": "code",
   "execution_count": 16,
   "metadata": {},
   "outputs": [
    {
     "name": "stdout",
     "output_type": "stream",
     "text": [
      "test_3C (1344, 5)\n",
      "res_3C (300, 5)\n"
     ]
    }
   ],
   "source": [
    "res_3C, test_3C = train_test_split(df_3C, test_size=0.817)\n",
    "print('test_3C',test_3C.shape)\n",
    "print('res_3C', res_3C.shape)"
   ]
  },
  {
   "cell_type": "code",
   "execution_count": 17,
   "metadata": {},
   "outputs": [],
   "source": [
    "test_3C.to_csv('data_split/test_3C(1344).csv', index=False) \n",
    "res_3C.to_csv('data_split/res_3C(300).csv', index=False) "
   ]
  },
  {
   "cell_type": "markdown",
   "metadata": {},
   "source": [
    "#### 新增類別2＿無人駕駛test資料切割"
   ]
  },
  {
   "cell_type": "code",
   "execution_count": 20,
   "metadata": {},
   "outputs": [
    {
     "name": "stdout",
     "output_type": "stream",
     "text": [
      "(1388, 5)\n"
     ]
    },
    {
     "data": {
      "text/html": [
       "<div>\n",
       "<style scoped>\n",
       "    .dataframe tbody tr th:only-of-type {\n",
       "        vertical-align: middle;\n",
       "    }\n",
       "\n",
       "    .dataframe tbody tr th {\n",
       "        vertical-align: top;\n",
       "    }\n",
       "\n",
       "    .dataframe thead th {\n",
       "        text-align: right;\n",
       "    }\n",
       "</style>\n",
       "<table border=\"1\" class=\"dataframe\">\n",
       "  <thead>\n",
       "    <tr style=\"text-align: right;\">\n",
       "      <th></th>\n",
       "      <th>content</th>\n",
       "      <th>label</th>\n",
       "      <th>sentences</th>\n",
       "      <th>sentences_1000</th>\n",
       "      <th>sentences_1000_str</th>\n",
       "    </tr>\n",
       "  </thead>\n",
       "  <tbody>\n",
       "    <tr>\n",
       "      <th>65255</th>\n",
       "      <td>儘管早從建國時就開始在戰場運用駱駝，不過以色列軍方已經準備讓動物們退役，改用無人載具。由於地...</td>\n",
       "      <td>11</td>\n",
       "      <td>['早', '建國', '時', '戰場', '運用', '駱駝', '以色列', '軍方'...</td>\n",
       "      <td>['早', '建國', '時', '戰場', '運用', '駱駝', '以色列', '軍方'...</td>\n",
       "      <td>早 建國 時 戰場 運用 駱駝 以色列 軍方 已經 準備 動物 退役 改用 無人 載具 地形...</td>\n",
       "    </tr>\n",
       "    <tr>\n",
       "      <th>65256</th>\n",
       "      <td>如果要說運動相機和無人機的結合體，你會想到什麼？這個組合最常見的方案，就是在無人機加入一個支...</td>\n",
       "      <td>11</td>\n",
       "      <td>['要說', '運動', '相機', '無人機', '結合體', '想到', '組合', '...</td>\n",
       "      <td>['要說', '運動', '相機', '無人機', '結合體', '想到', '組合', '...</td>\n",
       "      <td>要說 運動 相機 無人機 結合體 想到 組合 最 常見 方案 無人機 加入 一個 支援 運動...</td>\n",
       "    </tr>\n",
       "    <tr>\n",
       "      <th>65257</th>\n",
       "      <td>大疆創新（DJI）將在美國時間1月23日於紐約舉行產品發表會，不過前一天國外網站先揭露一系列...</td>\n",
       "      <td>11</td>\n",
       "      <td>['大疆', '創新', 'DJI', '將在', '美國', '時間', '月', '日'...</td>\n",
       "      <td>['大疆', '創新', 'DJI', '將在', '美國', '時間', '月', '日'...</td>\n",
       "      <td>大疆 創新 DJI 將在 美國 時間 月 日 紐約 舉行 產品 發表 前一天 國外 網站 先...</td>\n",
       "    </tr>\n",
       "    <tr>\n",
       "      <th>65258</th>\n",
       "      <td>大疆創新（DJI）旗下無人機產品線再添生力軍，23日於紐約發表傳聞的新機MavicAir，融...</td>\n",
       "      <td>11</td>\n",
       "      <td>['大疆', '創新', 'DJI', '旗下', '無人機', '產品線', '再添', ...</td>\n",
       "      <td>['大疆', '創新', 'DJI', '旗下', '無人機', '產品線', '再添', ...</td>\n",
       "      <td>大疆 創新 DJI 旗下 無人機 產品線 再添 生力軍 日 紐約 發表 新機 MavicAi...</td>\n",
       "    </tr>\n",
       "    <tr>\n",
       "      <th>65259</th>\n",
       "      <td>大疆創新（DJI）1月31日正式在台灣發表新款無人機MavicAir，配備4K三軸雲台相機，...</td>\n",
       "      <td>11</td>\n",
       "      <td>['大疆', '創新', 'DJI', '月', '日', '正式', '台灣', '發表'...</td>\n",
       "      <td>['大疆', '創新', 'DJI', '月', '日', '正式', '台灣', '發表'...</td>\n",
       "      <td>大疆 創新 DJI 月 日 正式 台灣 發表 新款 無人機 MavicAir 配備 三軸雲台...</td>\n",
       "    </tr>\n",
       "  </tbody>\n",
       "</table>\n",
       "</div>"
      ],
      "text/plain": [
       "                                                 content  label  \\\n",
       "65255  儘管早從建國時就開始在戰場運用駱駝，不過以色列軍方已經準備讓動物們退役，改用無人載具。由於地...     11   \n",
       "65256  如果要說運動相機和無人機的結合體，你會想到什麼？這個組合最常見的方案，就是在無人機加入一個支...     11   \n",
       "65257  大疆創新（DJI）將在美國時間1月23日於紐約舉行產品發表會，不過前一天國外網站先揭露一系列...     11   \n",
       "65258  大疆創新（DJI）旗下無人機產品線再添生力軍，23日於紐約發表傳聞的新機MavicAir，融...     11   \n",
       "65259  大疆創新（DJI）1月31日正式在台灣發表新款無人機MavicAir，配備4K三軸雲台相機，...     11   \n",
       "\n",
       "                                               sentences  \\\n",
       "65255  ['早', '建國', '時', '戰場', '運用', '駱駝', '以色列', '軍方'...   \n",
       "65256  ['要說', '運動', '相機', '無人機', '結合體', '想到', '組合', '...   \n",
       "65257  ['大疆', '創新', 'DJI', '將在', '美國', '時間', '月', '日'...   \n",
       "65258  ['大疆', '創新', 'DJI', '旗下', '無人機', '產品線', '再添', ...   \n",
       "65259  ['大疆', '創新', 'DJI', '月', '日', '正式', '台灣', '發表'...   \n",
       "\n",
       "                                          sentences_1000  \\\n",
       "65255  ['早', '建國', '時', '戰場', '運用', '駱駝', '以色列', '軍方'...   \n",
       "65256  ['要說', '運動', '相機', '無人機', '結合體', '想到', '組合', '...   \n",
       "65257  ['大疆', '創新', 'DJI', '將在', '美國', '時間', '月', '日'...   \n",
       "65258  ['大疆', '創新', 'DJI', '旗下', '無人機', '產品線', '再添', ...   \n",
       "65259  ['大疆', '創新', 'DJI', '月', '日', '正式', '台灣', '發表'...   \n",
       "\n",
       "                                      sentences_1000_str  \n",
       "65255  早 建國 時 戰場 運用 駱駝 以色列 軍方 已經 準備 動物 退役 改用 無人 載具 地形...  \n",
       "65256  要說 運動 相機 無人機 結合體 想到 組合 最 常見 方案 無人機 加入 一個 支援 運動...  \n",
       "65257  大疆 創新 DJI 將在 美國 時間 月 日 紐約 舉行 產品 發表 前一天 國外 網站 先...  \n",
       "65258  大疆 創新 DJI 旗下 無人機 產品線 再添 生力軍 日 紐約 發表 新機 MavicAi...  \n",
       "65259  大疆 創新 DJI 月 日 正式 台灣 發表 新款 無人機 MavicAir 配備 三軸雲台...  "
      ]
     },
     "execution_count": 20,
     "metadata": {},
     "output_type": "execute_result"
    }
   ],
   "source": [
    "df_self_drive_car= df[df['label']==11].copy()\n",
    "print(df_self_drive_car.shape)\n",
    "df_self_drive_car.head()"
   ]
  },
  {
   "cell_type": "code",
   "execution_count": 64,
   "metadata": {},
   "outputs": [
    {
     "data": {
      "text/plain": [
       "{11}"
      ]
     },
     "execution_count": 64,
     "metadata": {},
     "output_type": "execute_result"
    }
   ],
   "source": [
    "# 確認label\n",
    "set(df_self_drive_car['label'].values)"
   ]
  },
  {
   "cell_type": "code",
   "execution_count": 41,
   "metadata": {},
   "outputs": [
    {
     "name": "stdout",
     "output_type": "stream",
     "text": [
      "test_self_drive_car (1087, 5)\n",
      "res_self_drive_car (301, 5)\n"
     ]
    }
   ],
   "source": [
    "res_self_drive_car, test_self_drive_car = train_test_split(df_self_drive_car, test_size=0.783)\n",
    "print('test_self_drive_car',test_self_drive_car.shape)\n",
    "print('res_self_drive_car', res_self_drive_car.shape)"
   ]
  },
  {
   "cell_type": "code",
   "execution_count": 42,
   "metadata": {},
   "outputs": [],
   "source": [
    "test_self_drive_car.to_csv('data_split/test_self_drive_car(1087).csv', index=False) \n",
    "res_self_drive_car.to_csv('data_split/res_self_drive_car(301).csv', index=False) "
   ]
  },
  {
   "cell_type": "markdown",
   "metadata": {},
   "source": [
    "#### 12類新聞test資料切割"
   ]
  },
  {
   "cell_type": "code",
   "execution_count": 49,
   "metadata": {},
   "outputs": [
    {
     "name": "stdout",
     "output_type": "stream",
     "text": [
      "(70049, 5)\n"
     ]
    },
    {
     "data": {
      "text/html": [
       "<div>\n",
       "<style scoped>\n",
       "    .dataframe tbody tr th:only-of-type {\n",
       "        vertical-align: middle;\n",
       "    }\n",
       "\n",
       "    .dataframe tbody tr th {\n",
       "        vertical-align: top;\n",
       "    }\n",
       "\n",
       "    .dataframe thead th {\n",
       "        text-align: right;\n",
       "    }\n",
       "</style>\n",
       "<table border=\"1\" class=\"dataframe\">\n",
       "  <thead>\n",
       "    <tr style=\"text-align: right;\">\n",
       "      <th></th>\n",
       "      <th>content</th>\n",
       "      <th>label</th>\n",
       "      <th>sentences</th>\n",
       "      <th>sentences_1000</th>\n",
       "      <th>sentences_1000_str</th>\n",
       "    </tr>\n",
       "  </thead>\n",
       "  <tbody>\n",
       "    <tr>\n",
       "      <th>0</th>\n",
       "      <td>\"ETF關鍵報告\"台北開課公告(2018七月15日課程)綠角將在2018七月15日在台北開立...</td>\n",
       "      <td>10</td>\n",
       "      <td>['ETF', '關鍵', '報告', '台北', '開課', '公告', '七月', '日...</td>\n",
       "      <td>['ETF', '關鍵', '報告', '台北', '開課', '公告', '七月', '日...</td>\n",
       "      <td>ETF 關鍵 報告 台北 開課 公告 七月 日 課程 綠角將 七月 日 台北 開立 ETF ...</td>\n",
       "    </tr>\n",
       "    <tr>\n",
       "      <th>1</th>\n",
       "      <td>\"ETF關鍵報告\"台北開課公告(2018九月課程)此次同時公告九月預計在台北舉辦的兩個梯次\"...</td>\n",
       "      <td>10</td>\n",
       "      <td>['ETF', '關鍵', '報告', '台北', '開課', '公告', '九月', '課...</td>\n",
       "      <td>['ETF', '關鍵', '報告', '台北', '開課', '公告', '九月', '課...</td>\n",
       "      <td>ETF 關鍵 報告 台北 開課 公告 九月 課程 此次 公告 九月 預計 台北 舉辦 兩個 ...</td>\n",
       "    </tr>\n",
       "    <tr>\n",
       "      <th>2</th>\n",
       "      <td>\"ETF關鍵報告\"台北開課公告(2018八月12日課程)綠角將在2018八月12日在台北開立...</td>\n",
       "      <td>10</td>\n",
       "      <td>['ETF', '關鍵', '報告', '台北', '開課', '公告', '八月', '日...</td>\n",
       "      <td>['ETF', '關鍵', '報告', '台北', '開課', '公告', '八月', '日...</td>\n",
       "      <td>ETF 關鍵 報告 台北 開課 公告 八月 日 課程 綠角將 八月 日 台北 開立 ETF ...</td>\n",
       "    </tr>\n",
       "    <tr>\n",
       "      <th>3</th>\n",
       "      <td>#1訪客於2018/05/1114:24總覺得這股應該沒這麼慘5/11公佈季營收反而下殺.....</td>\n",
       "      <td>10</td>\n",
       "      <td>['訪客', '總覺', '這股', '應該', '慘', '公佈', '季營收', '下'...</td>\n",
       "      <td>['訪客', '總覺', '這股', '應該', '慘', '公佈', '季營收', '下'...</td>\n",
       "      <td>訪客 總覺 這股 應該 慘 公佈 季營收 下 殺 明明 新聞 已經 說 月 營收 持平 市場...</td>\n",
       "    </tr>\n",
       "    <tr>\n",
       "      <th>4</th>\n",
       "      <td>&amp;lt;圖片擷取自:MONEYCONNEXION&amp;gt;雙親「理財」身教，凡遇錢事毫不馬虎！...</td>\n",
       "      <td>10</td>\n",
       "      <td>['lt', '圖片', '擷取', 'MONEYCONNEXION', 'gt', '雙親...</td>\n",
       "      <td>['lt', '圖片', '擷取', 'MONEYCONNEXION', 'gt', '雙親...</td>\n",
       "      <td>lt 圖片 擷取 MONEYCONNEXION gt 雙親 「 理財 身教 凡遇 錢 事 馬...</td>\n",
       "    </tr>\n",
       "  </tbody>\n",
       "</table>\n",
       "</div>"
      ],
      "text/plain": [
       "                                             content  label  \\\n",
       "0  \"ETF關鍵報告\"台北開課公告(2018七月15日課程)綠角將在2018七月15日在台北開立...     10   \n",
       "1  \"ETF關鍵報告\"台北開課公告(2018九月課程)此次同時公告九月預計在台北舉辦的兩個梯次\"...     10   \n",
       "2  \"ETF關鍵報告\"台北開課公告(2018八月12日課程)綠角將在2018八月12日在台北開立...     10   \n",
       "3  #1訪客於2018/05/1114:24總覺得這股應該沒這麼慘5/11公佈季營收反而下殺.....     10   \n",
       "4  &lt;圖片擷取自:MONEYCONNEXION&gt;雙親「理財」身教，凡遇錢事毫不馬虎！...     10   \n",
       "\n",
       "                                           sentences  \\\n",
       "0  ['ETF', '關鍵', '報告', '台北', '開課', '公告', '七月', '日...   \n",
       "1  ['ETF', '關鍵', '報告', '台北', '開課', '公告', '九月', '課...   \n",
       "2  ['ETF', '關鍵', '報告', '台北', '開課', '公告', '八月', '日...   \n",
       "3  ['訪客', '總覺', '這股', '應該', '慘', '公佈', '季營收', '下'...   \n",
       "4  ['lt', '圖片', '擷取', 'MONEYCONNEXION', 'gt', '雙親...   \n",
       "\n",
       "                                      sentences_1000  \\\n",
       "0  ['ETF', '關鍵', '報告', '台北', '開課', '公告', '七月', '日...   \n",
       "1  ['ETF', '關鍵', '報告', '台北', '開課', '公告', '九月', '課...   \n",
       "2  ['ETF', '關鍵', '報告', '台北', '開課', '公告', '八月', '日...   \n",
       "3  ['訪客', '總覺', '這股', '應該', '慘', '公佈', '季營收', '下'...   \n",
       "4  ['lt', '圖片', '擷取', 'MONEYCONNEXION', 'gt', '雙親...   \n",
       "\n",
       "                                  sentences_1000_str  \n",
       "0  ETF 關鍵 報告 台北 開課 公告 七月 日 課程 綠角將 七月 日 台北 開立 ETF ...  \n",
       "1  ETF 關鍵 報告 台北 開課 公告 九月 課程 此次 公告 九月 預計 台北 舉辦 兩個 ...  \n",
       "2  ETF 關鍵 報告 台北 開課 公告 八月 日 課程 綠角將 八月 日 台北 開立 ETF ...  \n",
       "3  訪客 總覺 這股 應該 慘 公佈 季營收 下 殺 明明 新聞 已經 說 月 營收 持平 市場...  \n",
       "4  lt 圖片 擷取 MONEYCONNEXION gt 雙親 「 理財 身教 凡遇 錢 事 馬...  "
      ]
     },
     "execution_count": 49,
     "metadata": {},
     "output_type": "execute_result"
    }
   ],
   "source": [
    "mask1 = df['label']!=6\n",
    "mask2 = df['label']!=11\n",
    "df_others = df[(mask1 & mask2)].copy()\n",
    "print(df_others.shape)\n",
    "df_others.head()"
   ]
  },
  {
   "cell_type": "code",
   "execution_count": 61,
   "metadata": {},
   "outputs": [
    {
     "name": "stdout",
     "output_type": "stream",
     "text": [
      "False\n",
      "False\n"
     ]
    }
   ],
   "source": [
    "# 確認label 6與11是否被移除\n",
    "print(6 in set(df_others['label'].values))\n",
    "print(11 in set(df_others['label'].values))"
   ]
  },
  {
   "cell_type": "code",
   "execution_count": 57,
   "metadata": {},
   "outputs": [
    {
     "name": "stdout",
     "output_type": "stream",
     "text": [
      "test_others (7005, 5)\n",
      "res_others (63044, 5)\n"
     ]
    }
   ],
   "source": [
    "res_others, test_others = train_test_split(df_others, test_size=0.1)\n",
    "print('test_others',test_others.shape)\n",
    "print('res_others',res_others.shape)"
   ]
  },
  {
   "cell_type": "code",
   "execution_count": 58,
   "metadata": {},
   "outputs": [],
   "source": [
    "test_others.to_csv('data_split/test_others(7005).csv', index=False)\n",
    "res_others.to_csv('data_split/res_others(63044).csv', index=False)"
   ]
  },
  {
   "cell_type": "code",
   "execution_count": null,
   "metadata": {},
   "outputs": [],
   "source": []
  }
 ],
 "metadata": {
  "kernelspec": {
   "display_name": "Python 3",
   "language": "python",
   "name": "python3"
  },
  "language_info": {
   "codemirror_mode": {
    "name": "ipython",
    "version": 3
   },
   "file_extension": ".py",
   "mimetype": "text/x-python",
   "name": "python",
   "nbconvert_exporter": "python",
   "pygments_lexer": "ipython3",
   "version": "3.6.6"
  }
 },
 "nbformat": 4,
 "nbformat_minor": 2
}
