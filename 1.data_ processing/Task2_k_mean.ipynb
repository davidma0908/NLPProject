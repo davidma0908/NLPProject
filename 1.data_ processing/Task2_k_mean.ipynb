{
 "cells": [
  {
   "cell_type": "markdown",
   "metadata": {},
   "source": [
    "## 用 K-means對兩個新增類別文章加上label\n",
    "#### 對test_3C與test_self_drive_car進行k-means處理\n",
    "1. loading jieba cut words result\n",
    "2. Doc2Vec\n",
    "3. K_means\n",
    "4. define K_means label"
   ]
  },
  {
   "cell_type": "code",
   "execution_count": 3,
   "metadata": {},
   "outputs": [],
   "source": [
    "import pickle\n",
    "import random\n",
    "import numpy as np\n",
    "import pandas as pd\n",
    "import logging\n",
    "import os\n",
    "\n",
    "from gensim.models import Doc2Vec, doc2vec\n",
    "from gensim.models import word2vec"
   ]
  },
  {
   "cell_type": "markdown",
   "metadata": {},
   "source": [
    "#### load test_3C and test_self_drive_car data"
   ]
  },
  {
   "cell_type": "code",
   "execution_count": 2,
   "metadata": {},
   "outputs": [
    {
     "name": "stdout",
     "output_type": "stream",
     "text": [
      "(2431, 5)\n"
     ]
    },
    {
     "data": {
      "text/html": [
       "<div>\n",
       "<style scoped>\n",
       "    .dataframe tbody tr th:only-of-type {\n",
       "        vertical-align: middle;\n",
       "    }\n",
       "\n",
       "    .dataframe tbody tr th {\n",
       "        vertical-align: top;\n",
       "    }\n",
       "\n",
       "    .dataframe thead th {\n",
       "        text-align: right;\n",
       "    }\n",
       "</style>\n",
       "<table border=\"1\" class=\"dataframe\">\n",
       "  <thead>\n",
       "    <tr style=\"text-align: right;\">\n",
       "      <th></th>\n",
       "      <th>content</th>\n",
       "      <th>label</th>\n",
       "      <th>sentences</th>\n",
       "      <th>sentences_1000</th>\n",
       "      <th>sentences_1000_str</th>\n",
       "    </tr>\n",
       "  </thead>\n",
       "  <tbody>\n",
       "    <tr>\n",
       "      <th>0</th>\n",
       "      <td>六月26,2017•潮流手錶•全球穿戴式智能裝置第一季銷售報告近日終於正式出爐，相比起去年第...</td>\n",
       "      <td>6</td>\n",
       "      <td>['六月', '•', '潮流', '手錶', '•', '全球', '穿戴', '式', ...</td>\n",
       "      <td>['六月', '•', '潮流', '手錶', '•', '全球', '穿戴', '式', ...</td>\n",
       "      <td>六月 • 潮流 手錶 • 全球 穿戴 式 智能 裝置 第一季 銷售 報告 近日 終於 正式 ...</td>\n",
       "    </tr>\n",
       "    <tr>\n",
       "      <th>1</th>\n",
       "      <td>章節連結SanDiskExtremePROUHS-IIU3記憶卡！讀275寫100超高速！電...</td>\n",
       "      <td>6</td>\n",
       "      <td>['章節', '連結', 'SanDiskExtremePROUHS', 'IIU3', '...</td>\n",
       "      <td>['章節', '連結', 'SanDiskExtremePROUHS', 'IIU3', '...</td>\n",
       "      <td>章節 連結 SanDiskExtremePROUHS IIU3 記憶卡 讀 寫 超高速 電腦...</td>\n",
       "    </tr>\n",
       "    <tr>\n",
       "      <th>2</th>\n",
       "      <td>企業趨勢WesternDigital推全球最快UHS-ImicroSDTM記憶卡企業趨勢by...</td>\n",
       "      <td>6</td>\n",
       "      <td>['企業', '趨勢', 'WesternDigital', '推', '全球', '最快'...</td>\n",
       "      <td>['企業', '趨勢', 'WesternDigital', '推', '全球', '最快'...</td>\n",
       "      <td>企業 趨勢 WesternDigital 推 全球 最快 UHS ImicroSDTM 記憶...</td>\n",
       "    </tr>\n",
       "    <tr>\n",
       "      <th>3</th>\n",
       "      <td>對於現代人來說，耳機可以說是跟手機一樣，永遠不離身的配備，小小一副耳機就能讓人彷彿來到自己的...</td>\n",
       "      <td>6</td>\n",
       "      <td>['現代人', '來說', '耳機', '說', '手機', '永遠', '離身', '配備...</td>\n",
       "      <td>['現代人', '來說', '耳機', '說', '手機', '永遠', '離身', '配備...</td>\n",
       "      <td>現代人 來說 耳機 說 手機 永遠 離身 配備 小小 副耳機 人 彷彿 來到 世界 說 世紀...</td>\n",
       "    </tr>\n",
       "    <tr>\n",
       "      <th>4</th>\n",
       "      <td>華碩官方終於證實代言人孔劉將於17日來台，將代言5國行銷廣告，平面照也正式曝光。華碩供照【王...</td>\n",
       "      <td>6</td>\n",
       "      <td>['華碩', '官方', '終於', '證實', '代言人', '孔', '劉將', '日來...</td>\n",
       "      <td>['華碩', '官方', '終於', '證實', '代言人', '孔', '劉將', '日來...</td>\n",
       "      <td>華碩 官方 終於 證實 代言人 孔 劉將 日來 台 代言 國 行銷 廣告 平面 正式 曝光 ...</td>\n",
       "    </tr>\n",
       "  </tbody>\n",
       "</table>\n",
       "</div>"
      ],
      "text/plain": [
       "                                             content  label  \\\n",
       "0  六月26,2017•潮流手錶•全球穿戴式智能裝置第一季銷售報告近日終於正式出爐，相比起去年第...      6   \n",
       "1  章節連結SanDiskExtremePROUHS-IIU3記憶卡！讀275寫100超高速！電...      6   \n",
       "2  企業趨勢WesternDigital推全球最快UHS-ImicroSDTM記憶卡企業趨勢by...      6   \n",
       "3  對於現代人來說，耳機可以說是跟手機一樣，永遠不離身的配備，小小一副耳機就能讓人彷彿來到自己的...      6   \n",
       "4  華碩官方終於證實代言人孔劉將於17日來台，將代言5國行銷廣告，平面照也正式曝光。華碩供照【王...      6   \n",
       "\n",
       "                                           sentences  \\\n",
       "0  ['六月', '•', '潮流', '手錶', '•', '全球', '穿戴', '式', ...   \n",
       "1  ['章節', '連結', 'SanDiskExtremePROUHS', 'IIU3', '...   \n",
       "2  ['企業', '趨勢', 'WesternDigital', '推', '全球', '最快'...   \n",
       "3  ['現代人', '來說', '耳機', '說', '手機', '永遠', '離身', '配備...   \n",
       "4  ['華碩', '官方', '終於', '證實', '代言人', '孔', '劉將', '日來...   \n",
       "\n",
       "                                      sentences_1000  \\\n",
       "0  ['六月', '•', '潮流', '手錶', '•', '全球', '穿戴', '式', ...   \n",
       "1  ['章節', '連結', 'SanDiskExtremePROUHS', 'IIU3', '...   \n",
       "2  ['企業', '趨勢', 'WesternDigital', '推', '全球', '最快'...   \n",
       "3  ['現代人', '來說', '耳機', '說', '手機', '永遠', '離身', '配備...   \n",
       "4  ['華碩', '官方', '終於', '證實', '代言人', '孔', '劉將', '日來...   \n",
       "\n",
       "                                  sentences_1000_str  \n",
       "0  六月 • 潮流 手錶 • 全球 穿戴 式 智能 裝置 第一季 銷售 報告 近日 終於 正式 ...  \n",
       "1  章節 連結 SanDiskExtremePROUHS IIU3 記憶卡 讀 寫 超高速 電腦...  \n",
       "2  企業 趨勢 WesternDigital 推 全球 最快 UHS ImicroSDTM 記憶...  \n",
       "3  現代人 來說 耳機 說 手機 永遠 離身 配備 小小 副耳機 人 彷彿 來到 世界 說 世紀...  \n",
       "4  華碩 官方 終於 證實 代言人 孔 劉將 日來 台 代言 國 行銷 廣告 平面 正式 曝光 ...  "
      ]
     },
     "execution_count": 2,
     "metadata": {},
     "output_type": "execute_result"
    }
   ],
   "source": [
    "df_test_3C = pd.read_csv('data_split/test_3C(1344).csv')\n",
    "df_test_self_drive_car = pd.read_csv('data_split/test_self_drive_car(1087).csv')\n",
    "\n",
    "df = pd.concat([df_test_3C, df_test_self_drive_car])\n",
    "print(df.shape)\n",
    "df.head()"
   ]
  },
  {
   "cell_type": "markdown",
   "metadata": {},
   "source": [
    "#### stpe1 取出 jieba cut words (sentences column)"
   ]
  },
  {
   "cell_type": "code",
   "execution_count": 4,
   "metadata": {},
   "outputs": [],
   "source": [
    "data = df['sentences'].copy()"
   ]
  },
  {
   "cell_type": "markdown",
   "metadata": {},
   "source": [
    "#### step2 doc2vec"
   ]
  },
  {
   "cell_type": "code",
   "execution_count": 7,
   "metadata": {},
   "outputs": [],
   "source": [
    "## create a document id map\n",
    "sentence_list = []\n",
    "\n",
    "for i,l in enumerate(data):\n",
    "    sentence_list.append(doc2vec.LabeledSentence(l, tags=[str(i)]))"
   ]
  },
  {
   "cell_type": "code",
   "execution_count": 8,
   "metadata": {},
   "outputs": [
    {
     "name": "stdout",
     "output_type": "stream",
     "text": [
      "LabeledSentence(['六月', '•', '潮流', '手錶', '•', '全球', '穿戴', '式', '智能', '裝置', '第一季', '銷售', '報告', '近日', '終於', '正式', '出爐', '相比', '去年', '第四季', 'AppleWatch', '市佔率', '成', '上季', '銷售額', '已', '有所', '下滑', '反觀', 'Samsung', '取得', '不錯', '成績', '最新款', 'GearS3', '智能', '手錶', '帶動', '下', '其市', '佔率', '一躍', '晉升', '第二位', '取代', '近年', '走勢', '已', '有所', '下滑', 'Fitbit', '留意', '相加', '佔有率', '不及', 'Apple', '一半', 'GearS3', '受', '消費者', '歡迎', 'Samsung', '推出', '最新', '一代', 'GearS3', '後', '憑著', '高', '電池', '續航力', '支援', 'SamsungPay', '流動', '支付', '服務', '具備', 'GPS', '功能', '隨即', '吸引', '消費者', '垂青', '實際上', 'GearS3', '總共', '推出', '兩款', '型號', '包括', '支援', 'LTE', 'GearS3Frontier', '支援', '流動', '網絡', 'GearS3Classic', '皆', '運行', 'Samsung', 'Tizen', '系統', '並於', '季', '取得', '市場佔有率', '超越', 'Fitbit', '成為', '市場', '「', '老二', 'Apple', '主導', '穿戴', '式', '裝置', '市場', '留意', '目前', '穿戴', '式', '裝置', '市場', '始終', 'Apple', '主導', '旗下', 'AppleWatch', '相比', '一季', '銷售', '已', '有所', '回落', '佔有率', '依然', '大幅', '拋離', '緊隨其後', 'Samsung', 'Fitbit', '暫時', '已', '取得', '市場', '一定', '控制', 'Samsung', '是否', '取得成功', '言之過早', '皆', '穿戴', '式', '產品', '推出', '頻率', 'Fitbit', '今季市', '佔率', '隨時', 'Fitbit', '重新', '超越', '來源', 'TheKoreaHerald', '•', '不想', '錯過', '新', '科技', '請', 'Followunwire', 'hkFB', '專頁'], ['0'])\n"
     ]
    }
   ],
   "source": [
    "print(sentence_list[0])"
   ]
  },
  {
   "cell_type": "code",
   "execution_count": 9,
   "metadata": {},
   "outputs": [],
   "source": [
    "# 設定轉換器參數\n",
    "model = Doc2Vec(size=256, min_count=5, window=4)"
   ]
  },
  {
   "cell_type": "code",
   "execution_count": 10,
   "metadata": {},
   "outputs": [],
   "source": [
    "# build vocaburlary\n",
    "model.build_vocab(sentence_list)"
   ]
  },
  {
   "cell_type": "code",
   "execution_count": 11,
   "metadata": {},
   "outputs": [],
   "source": [
    "for i in range(20):\n",
    "    random.shuffle(sentence_list)\n",
    "    model.train(sentence_list, total_examples=len(data), epochs=1)"
   ]
  },
  {
   "cell_type": "code",
   "execution_count": 12,
   "metadata": {},
   "outputs": [],
   "source": [
    "doc2vec_result = model.docvecs\n",
    "# list(doc2vec_result)"
   ]
  },
  {
   "cell_type": "markdown",
   "metadata": {},
   "source": [
    "#### step3 K-means clustering"
   ]
  },
  {
   "cell_type": "code",
   "execution_count": 13,
   "metadata": {},
   "outputs": [],
   "source": [
    "%matplotlib inline\n",
    "import matplotlib.pyplot as plt\n",
    "import seaborn as sns; sns.set() # for plot styling\n",
    "import numpy as np\n",
    "\n",
    "\n",
    "from sklearn.cluster import KMeans\n",
    "from collections import Counter"
   ]
  },
  {
   "cell_type": "code",
   "execution_count": 14,
   "metadata": {},
   "outputs": [
    {
     "data": {
      "text/plain": [
       "KMeans(algorithm='auto', copy_x=True, init='k-means++', max_iter=300,\n",
       "    n_clusters=2, n_init=10, n_jobs=1, precompute_distances='auto',\n",
       "    random_state=4, tol=0.0001, verbose=0)"
      ]
     },
     "execution_count": 14,
     "metadata": {},
     "output_type": "execute_result"
    }
   ],
   "source": [
    "kmeans = KMeans(n_clusters=2, random_state=4)\n",
    "kmeans.fit(doc2vec_result)"
   ]
  },
  {
   "cell_type": "code",
   "execution_count": 15,
   "metadata": {},
   "outputs": [
    {
     "name": "stdout",
     "output_type": "stream",
     "text": [
      "2431\n"
     ]
    }
   ],
   "source": [
    "kmeans_label = kmeans.labels_\n",
    "print(len(kmeans_label))"
   ]
  },
  {
   "cell_type": "code",
   "execution_count": 16,
   "metadata": {},
   "outputs": [
    {
     "data": {
      "text/plain": [
       "array([1, 1, 0, ..., 0, 0, 0], dtype=int32)"
      ]
     },
     "execution_count": 16,
     "metadata": {},
     "output_type": "execute_result"
    }
   ],
   "source": [
    "kmeans_label"
   ]
  },
  {
   "cell_type": "code",
   "execution_count": 17,
   "metadata": {},
   "outputs": [
    {
     "name": "stdout",
     "output_type": "stream",
     "text": [
      "Counter({0: 1262, 1: 1169})\n"
     ]
    }
   ],
   "source": [
    "print(Counter(kmeans_label))"
   ]
  },
  {
   "cell_type": "code",
   "execution_count": 16,
   "metadata": {},
   "outputs": [
    {
     "data": {
      "text/plain": [
       "'/project/jt071-group23/jt071078'"
      ]
     },
     "execution_count": 16,
     "metadata": {},
     "output_type": "execute_result"
    }
   ],
   "source": [
    "os.getcwd()"
   ]
  },
  {
   "cell_type": "markdown",
   "metadata": {},
   "source": [
    "#### 將kmean label 結果併到df "
   ]
  },
  {
   "cell_type": "code",
   "execution_count": 18,
   "metadata": {},
   "outputs": [],
   "source": [
    "df['kmeans_label'] = kmeans_label"
   ]
  },
  {
   "cell_type": "code",
   "execution_count": 19,
   "metadata": {},
   "outputs": [
    {
     "data": {
      "text/html": [
       "<div>\n",
       "<style scoped>\n",
       "    .dataframe tbody tr th:only-of-type {\n",
       "        vertical-align: middle;\n",
       "    }\n",
       "\n",
       "    .dataframe tbody tr th {\n",
       "        vertical-align: top;\n",
       "    }\n",
       "\n",
       "    .dataframe thead th {\n",
       "        text-align: right;\n",
       "    }\n",
       "</style>\n",
       "<table border=\"1\" class=\"dataframe\">\n",
       "  <thead>\n",
       "    <tr style=\"text-align: right;\">\n",
       "      <th></th>\n",
       "      <th>content</th>\n",
       "      <th>label</th>\n",
       "      <th>sentences</th>\n",
       "      <th>sentences_1000</th>\n",
       "      <th>sentences_1000_str</th>\n",
       "      <th>kmeans_label</th>\n",
       "    </tr>\n",
       "  </thead>\n",
       "  <tbody>\n",
       "    <tr>\n",
       "      <th>0</th>\n",
       "      <td>六月26,2017•潮流手錶•全球穿戴式智能裝置第一季銷售報告近日終於正式出爐，相比起去年第...</td>\n",
       "      <td>6</td>\n",
       "      <td>['六月', '•', '潮流', '手錶', '•', '全球', '穿戴', '式', ...</td>\n",
       "      <td>['六月', '•', '潮流', '手錶', '•', '全球', '穿戴', '式', ...</td>\n",
       "      <td>六月 • 潮流 手錶 • 全球 穿戴 式 智能 裝置 第一季 銷售 報告 近日 終於 正式 ...</td>\n",
       "      <td>1</td>\n",
       "    </tr>\n",
       "    <tr>\n",
       "      <th>1</th>\n",
       "      <td>章節連結SanDiskExtremePROUHS-IIU3記憶卡！讀275寫100超高速！電...</td>\n",
       "      <td>6</td>\n",
       "      <td>['章節', '連結', 'SanDiskExtremePROUHS', 'IIU3', '...</td>\n",
       "      <td>['章節', '連結', 'SanDiskExtremePROUHS', 'IIU3', '...</td>\n",
       "      <td>章節 連結 SanDiskExtremePROUHS IIU3 記憶卡 讀 寫 超高速 電腦...</td>\n",
       "      <td>1</td>\n",
       "    </tr>\n",
       "    <tr>\n",
       "      <th>2</th>\n",
       "      <td>企業趨勢WesternDigital推全球最快UHS-ImicroSDTM記憶卡企業趨勢by...</td>\n",
       "      <td>6</td>\n",
       "      <td>['企業', '趨勢', 'WesternDigital', '推', '全球', '最快'...</td>\n",
       "      <td>['企業', '趨勢', 'WesternDigital', '推', '全球', '最快'...</td>\n",
       "      <td>企業 趨勢 WesternDigital 推 全球 最快 UHS ImicroSDTM 記憶...</td>\n",
       "      <td>0</td>\n",
       "    </tr>\n",
       "    <tr>\n",
       "      <th>3</th>\n",
       "      <td>對於現代人來說，耳機可以說是跟手機一樣，永遠不離身的配備，小小一副耳機就能讓人彷彿來到自己的...</td>\n",
       "      <td>6</td>\n",
       "      <td>['現代人', '來說', '耳機', '說', '手機', '永遠', '離身', '配備...</td>\n",
       "      <td>['現代人', '來說', '耳機', '說', '手機', '永遠', '離身', '配備...</td>\n",
       "      <td>現代人 來說 耳機 說 手機 永遠 離身 配備 小小 副耳機 人 彷彿 來到 世界 說 世紀...</td>\n",
       "      <td>1</td>\n",
       "    </tr>\n",
       "    <tr>\n",
       "      <th>4</th>\n",
       "      <td>華碩官方終於證實代言人孔劉將於17日來台，將代言5國行銷廣告，平面照也正式曝光。華碩供照【王...</td>\n",
       "      <td>6</td>\n",
       "      <td>['華碩', '官方', '終於', '證實', '代言人', '孔', '劉將', '日來...</td>\n",
       "      <td>['華碩', '官方', '終於', '證實', '代言人', '孔', '劉將', '日來...</td>\n",
       "      <td>華碩 官方 終於 證實 代言人 孔 劉將 日來 台 代言 國 行銷 廣告 平面 正式 曝光 ...</td>\n",
       "      <td>1</td>\n",
       "    </tr>\n",
       "  </tbody>\n",
       "</table>\n",
       "</div>"
      ],
      "text/plain": [
       "                                             content  label  \\\n",
       "0  六月26,2017•潮流手錶•全球穿戴式智能裝置第一季銷售報告近日終於正式出爐，相比起去年第...      6   \n",
       "1  章節連結SanDiskExtremePROUHS-IIU3記憶卡！讀275寫100超高速！電...      6   \n",
       "2  企業趨勢WesternDigital推全球最快UHS-ImicroSDTM記憶卡企業趨勢by...      6   \n",
       "3  對於現代人來說，耳機可以說是跟手機一樣，永遠不離身的配備，小小一副耳機就能讓人彷彿來到自己的...      6   \n",
       "4  華碩官方終於證實代言人孔劉將於17日來台，將代言5國行銷廣告，平面照也正式曝光。華碩供照【王...      6   \n",
       "\n",
       "                                           sentences  \\\n",
       "0  ['六月', '•', '潮流', '手錶', '•', '全球', '穿戴', '式', ...   \n",
       "1  ['章節', '連結', 'SanDiskExtremePROUHS', 'IIU3', '...   \n",
       "2  ['企業', '趨勢', 'WesternDigital', '推', '全球', '最快'...   \n",
       "3  ['現代人', '來說', '耳機', '說', '手機', '永遠', '離身', '配備...   \n",
       "4  ['華碩', '官方', '終於', '證實', '代言人', '孔', '劉將', '日來...   \n",
       "\n",
       "                                      sentences_1000  \\\n",
       "0  ['六月', '•', '潮流', '手錶', '•', '全球', '穿戴', '式', ...   \n",
       "1  ['章節', '連結', 'SanDiskExtremePROUHS', 'IIU3', '...   \n",
       "2  ['企業', '趨勢', 'WesternDigital', '推', '全球', '最快'...   \n",
       "3  ['現代人', '來說', '耳機', '說', '手機', '永遠', '離身', '配備...   \n",
       "4  ['華碩', '官方', '終於', '證實', '代言人', '孔', '劉將', '日來...   \n",
       "\n",
       "                                  sentences_1000_str  kmeans_label  \n",
       "0  六月 • 潮流 手錶 • 全球 穿戴 式 智能 裝置 第一季 銷售 報告 近日 終於 正式 ...             1  \n",
       "1  章節 連結 SanDiskExtremePROUHS IIU3 記憶卡 讀 寫 超高速 電腦...             1  \n",
       "2  企業 趨勢 WesternDigital 推 全球 最快 UHS ImicroSDTM 記憶...             0  \n",
       "3  現代人 來說 耳機 說 手機 永遠 離身 配備 小小 副耳機 人 彷彿 來到 世界 說 世紀...             1  \n",
       "4  華碩 官方 終於 證實 代言人 孔 劉將 日來 台 代言 國 行銷 廣告 平面 正式 曝光 ...             1  "
      ]
     },
     "execution_count": 19,
     "metadata": {},
     "output_type": "execute_result"
    }
   ],
   "source": [
    "df.head()"
   ]
  },
  {
   "cell_type": "code",
   "execution_count": 23,
   "metadata": {},
   "outputs": [
    {
     "data": {
      "text/plain": [
       "'多種無線充電規格百家爭鳴的戰國時代，終於即將來到尾聲。在主導市場的Qi規格面前，唯一尚一絲競爭力的Powermat，宣布加入WirelessPowerConsortium（WPC），成為Qi陣營的一員。Powermat在聲明中表示：「Qi已成為無線充電界主導的標準，其成功由最近發表的蘋果產品線上，便可見一斑。我們將會分享自己的科技創新，以協助[WPC]進一步拓展無線充電的潛力，並將加速無線充電基礎建設的成長。」Powermat本來就已經只是一息尚存，而如同他們所說的，蘋果確定投入Qi的懷抱，可以說是壓垮Powermat的最後一根稻草--為了讓顧客的蘋果手機能充電，Powermat已經不得不讓自家與Starbucks合作建置的充電系統也能支援Qi了。如此一來，基本上就確認了Qi將成為近距離無線充電的世界標準，未來一般消費者購買無線充電產品的時候，應該也就不用擔心相容性的問題了吧！'"
      ]
     },
     "execution_count": 23,
     "metadata": {},
     "output_type": "execute_result"
    }
   ],
   "source": [
    "df[df['kmeans_label']==1]['content'][117]"
   ]
  },
  {
   "cell_type": "markdown",
   "metadata": {},
   "source": [
    "#### step4 define k means label"
   ]
  },
  {
   "cell_type": "code",
   "execution_count": 24,
   "metadata": {},
   "outputs": [
    {
     "data": {
      "text/plain": [
       "'/project/jt071-group23'"
      ]
     },
     "execution_count": 24,
     "metadata": {},
     "output_type": "execute_result"
    }
   ],
   "source": [
    "os.chdir('../')\n",
    "os.getcwd()"
   ]
  },
  {
   "cell_type": "code",
   "execution_count": 23,
   "metadata": {},
   "outputs": [],
   "source": [
    "# df = pd.read_csv('home/jovyan/jt071-group23/jt071078/data/data(11097).csv')"
   ]
  },
  {
   "cell_type": "code",
   "execution_count": 24,
   "metadata": {},
   "outputs": [],
   "source": [
    "# df['kmeans_label'] = kmeans_label\n",
    "# df.head()"
   ]
  },
  {
   "cell_type": "code",
   "execution_count": 25,
   "metadata": {},
   "outputs": [
    {
     "data": {
      "text/plain": [
       "{0: '蘋果專區_網頁資料(10000).csv',\n",
       " 1: 'AI與大數據_網頁資料(6482).csv',\n",
       " 2: '汽車_網頁資料(10005).csv',\n",
       " 3: '財經_網頁資料(10024).csv',\n",
       " 4: '旅遊_網頁資料(10021).csv',\n",
       " 5: '美妝保養_網頁資料(5272).csv',\n",
       " 6: '3C產品_網頁資料(2624).csv',\n",
       " 7: '醫療健康_網頁資料(10016).csv',\n",
       " 8: '職涯_網頁資料(10012).csv',\n",
       " 9: '美食_網頁資料(10000).csv',\n",
       " 10: '理財_網頁資料(7480).csv',\n",
       " 11: '無人駕駛_網頁資料(2003).csv',\n",
       " 12: '房地產_網頁資料(3951).csv',\n",
       " 13: '區塊鏈技術_網頁資料(4735).csv'}"
      ]
     },
     "execution_count": 25,
     "metadata": {},
     "output_type": "execute_result"
    }
   ],
   "source": [
    "from os import listdir\n",
    "\n",
    "# 原本的類別名稱與label\n",
    "news_path = 'news/'\n",
    "files = listdir(news_path)\n",
    "\n",
    "if '.ipynb_checkpoints' in files:\n",
    "    files.remove('.ipynb_checkpoints')\n",
    "    \n",
    "label_value = []\n",
    "label_name = []\n",
    "\n",
    "for i,foldName in enumerate(files):\n",
    "    label_value.append(i)\n",
    "    label_name.append(foldName)\n",
    "\n",
    "label_key_value = dict(zip(label_name, label_value))\n",
    "label_value_key = dict(zip(label_value, label_name))\n",
    "label_value_key"
   ]
  },
  {
   "cell_type": "code",
   "execution_count": 26,
   "metadata": {},
   "outputs": [],
   "source": [
    "# # 定義 14個 kmeans_label\n",
    "# kmeans_label_key = np.arange(14)\n",
    "# original_label_value = []\n",
    "\n",
    "# for i in kmeans_label_key:\n",
    "#     dict_ = Counter(df[df['kmeans_label']==i]['label'])\n",
    "#     original_label = max(dict_, key=dict_.get)\n",
    "#     original_label_value.append(original_label)\n",
    "#     print('Kmeans_label為{}，original_label為{}，{} '.format(i, original_label, label_value_key.get(original_label)))    \n",
    "    \n",
    "# kmeans_label_mapping=dict(zip(kmeans_label_key, original_label_value))"
   ]
  },
  {
   "cell_type": "code",
   "execution_count": 27,
   "metadata": {},
   "outputs": [],
   "source": [
    "# # 定義 2個 kmeans_label (0,1)=(4,9)=(旅遊:美食)\n",
    "# kmeans_label_mapping={0:4, 1:9}"
   ]
  },
  {
   "cell_type": "code",
   "execution_count": 52,
   "metadata": {},
   "outputs": [],
   "source": [
    "# 定義 2個 kmeans_label (0,1)=(10,3)=(理財,財經)\n",
    "# kmeans_label_mapping={0:10, 1:3}"
   ]
  },
  {
   "cell_type": "code",
   "execution_count": 26,
   "metadata": {},
   "outputs": [],
   "source": [
    "# 定義 2個 kmeans_label (0,1)=(11,6)=(無人駕駛,3C)\n",
    "kmeans_label_mapping={0:11, 1:6}"
   ]
  },
  {
   "cell_type": "code",
   "execution_count": 27,
   "metadata": {},
   "outputs": [
    {
     "data": {
      "text/html": [
       "<div>\n",
       "<style scoped>\n",
       "    .dataframe tbody tr th:only-of-type {\n",
       "        vertical-align: middle;\n",
       "    }\n",
       "\n",
       "    .dataframe tbody tr th {\n",
       "        vertical-align: top;\n",
       "    }\n",
       "\n",
       "    .dataframe thead th {\n",
       "        text-align: right;\n",
       "    }\n",
       "</style>\n",
       "<table border=\"1\" class=\"dataframe\">\n",
       "  <thead>\n",
       "    <tr style=\"text-align: right;\">\n",
       "      <th></th>\n",
       "      <th>content</th>\n",
       "      <th>label</th>\n",
       "      <th>sentences</th>\n",
       "      <th>sentences_1000</th>\n",
       "      <th>sentences_1000_str</th>\n",
       "      <th>kmeans_label</th>\n",
       "    </tr>\n",
       "  </thead>\n",
       "  <tbody>\n",
       "    <tr>\n",
       "      <th>0</th>\n",
       "      <td>六月26,2017•潮流手錶•全球穿戴式智能裝置第一季銷售報告近日終於正式出爐，相比起去年第...</td>\n",
       "      <td>6</td>\n",
       "      <td>['六月', '•', '潮流', '手錶', '•', '全球', '穿戴', '式', ...</td>\n",
       "      <td>['六月', '•', '潮流', '手錶', '•', '全球', '穿戴', '式', ...</td>\n",
       "      <td>六月 • 潮流 手錶 • 全球 穿戴 式 智能 裝置 第一季 銷售 報告 近日 終於 正式 ...</td>\n",
       "      <td>1</td>\n",
       "    </tr>\n",
       "    <tr>\n",
       "      <th>1</th>\n",
       "      <td>章節連結SanDiskExtremePROUHS-IIU3記憶卡！讀275寫100超高速！電...</td>\n",
       "      <td>6</td>\n",
       "      <td>['章節', '連結', 'SanDiskExtremePROUHS', 'IIU3', '...</td>\n",
       "      <td>['章節', '連結', 'SanDiskExtremePROUHS', 'IIU3', '...</td>\n",
       "      <td>章節 連結 SanDiskExtremePROUHS IIU3 記憶卡 讀 寫 超高速 電腦...</td>\n",
       "      <td>1</td>\n",
       "    </tr>\n",
       "    <tr>\n",
       "      <th>2</th>\n",
       "      <td>企業趨勢WesternDigital推全球最快UHS-ImicroSDTM記憶卡企業趨勢by...</td>\n",
       "      <td>11</td>\n",
       "      <td>['企業', '趨勢', 'WesternDigital', '推', '全球', '最快'...</td>\n",
       "      <td>['企業', '趨勢', 'WesternDigital', '推', '全球', '最快'...</td>\n",
       "      <td>企業 趨勢 WesternDigital 推 全球 最快 UHS ImicroSDTM 記憶...</td>\n",
       "      <td>0</td>\n",
       "    </tr>\n",
       "    <tr>\n",
       "      <th>3</th>\n",
       "      <td>對於現代人來說，耳機可以說是跟手機一樣，永遠不離身的配備，小小一副耳機就能讓人彷彿來到自己的...</td>\n",
       "      <td>6</td>\n",
       "      <td>['現代人', '來說', '耳機', '說', '手機', '永遠', '離身', '配備...</td>\n",
       "      <td>['現代人', '來說', '耳機', '說', '手機', '永遠', '離身', '配備...</td>\n",
       "      <td>現代人 來說 耳機 說 手機 永遠 離身 配備 小小 副耳機 人 彷彿 來到 世界 說 世紀...</td>\n",
       "      <td>1</td>\n",
       "    </tr>\n",
       "    <tr>\n",
       "      <th>4</th>\n",
       "      <td>華碩官方終於證實代言人孔劉將於17日來台，將代言5國行銷廣告，平面照也正式曝光。華碩供照【王...</td>\n",
       "      <td>6</td>\n",
       "      <td>['華碩', '官方', '終於', '證實', '代言人', '孔', '劉將', '日來...</td>\n",
       "      <td>['華碩', '官方', '終於', '證實', '代言人', '孔', '劉將', '日來...</td>\n",
       "      <td>華碩 官方 終於 證實 代言人 孔 劉將 日來 台 代言 國 行銷 廣告 平面 正式 曝光 ...</td>\n",
       "      <td>1</td>\n",
       "    </tr>\n",
       "  </tbody>\n",
       "</table>\n",
       "</div>"
      ],
      "text/plain": [
       "                                             content  label  \\\n",
       "0  六月26,2017•潮流手錶•全球穿戴式智能裝置第一季銷售報告近日終於正式出爐，相比起去年第...      6   \n",
       "1  章節連結SanDiskExtremePROUHS-IIU3記憶卡！讀275寫100超高速！電...      6   \n",
       "2  企業趨勢WesternDigital推全球最快UHS-ImicroSDTM記憶卡企業趨勢by...     11   \n",
       "3  對於現代人來說，耳機可以說是跟手機一樣，永遠不離身的配備，小小一副耳機就能讓人彷彿來到自己的...      6   \n",
       "4  華碩官方終於證實代言人孔劉將於17日來台，將代言5國行銷廣告，平面照也正式曝光。華碩供照【王...      6   \n",
       "\n",
       "                                           sentences  \\\n",
       "0  ['六月', '•', '潮流', '手錶', '•', '全球', '穿戴', '式', ...   \n",
       "1  ['章節', '連結', 'SanDiskExtremePROUHS', 'IIU3', '...   \n",
       "2  ['企業', '趨勢', 'WesternDigital', '推', '全球', '最快'...   \n",
       "3  ['現代人', '來說', '耳機', '說', '手機', '永遠', '離身', '配備...   \n",
       "4  ['華碩', '官方', '終於', '證實', '代言人', '孔', '劉將', '日來...   \n",
       "\n",
       "                                      sentences_1000  \\\n",
       "0  ['六月', '•', '潮流', '手錶', '•', '全球', '穿戴', '式', ...   \n",
       "1  ['章節', '連結', 'SanDiskExtremePROUHS', 'IIU3', '...   \n",
       "2  ['企業', '趨勢', 'WesternDigital', '推', '全球', '最快'...   \n",
       "3  ['現代人', '來說', '耳機', '說', '手機', '永遠', '離身', '配備...   \n",
       "4  ['華碩', '官方', '終於', '證實', '代言人', '孔', '劉將', '日來...   \n",
       "\n",
       "                                  sentences_1000_str  kmeans_label  \n",
       "0  六月 • 潮流 手錶 • 全球 穿戴 式 智能 裝置 第一季 銷售 報告 近日 終於 正式 ...             1  \n",
       "1  章節 連結 SanDiskExtremePROUHS IIU3 記憶卡 讀 寫 超高速 電腦...             1  \n",
       "2  企業 趨勢 WesternDigital 推 全球 最快 UHS ImicroSDTM 記憶...             0  \n",
       "3  現代人 來說 耳機 說 手機 永遠 離身 配備 小小 副耳機 人 彷彿 來到 世界 說 世紀...             1  \n",
       "4  華碩 官方 終於 證實 代言人 孔 劉將 日來 台 代言 國 行銷 廣告 平面 正式 曝光 ...             1  "
      ]
     },
     "execution_count": 27,
     "metadata": {},
     "output_type": "execute_result"
    }
   ],
   "source": [
    "# 重新標記原本的label\n",
    "df['label'] = df['kmeans_label'].map(kmeans_label_mapping)\n",
    "df.head()"
   ]
  },
  {
   "cell_type": "code",
   "execution_count": 31,
   "metadata": {},
   "outputs": [
    {
     "data": {
      "text/plain": [
       "2    企業趨勢WesternDigital推全球最快UHS-ImicroSDTM記憶卡企業趨勢by...\n",
       "2    蘋果造車的傳聞還未止，他們的下一步戰略就已經出發了。日前，美國匹茲堡街道上出現了一些裝配了鏡...\n",
       "Name: content, dtype: object"
      ]
     },
     "execution_count": 31,
     "metadata": {},
     "output_type": "execute_result"
    }
   ],
   "source": [
    "df['content'][2]"
   ]
  },
  {
   "cell_type": "code",
   "execution_count": 32,
   "metadata": {},
   "outputs": [
    {
     "data": {
      "text/html": [
       "<div>\n",
       "<style scoped>\n",
       "    .dataframe tbody tr th:only-of-type {\n",
       "        vertical-align: middle;\n",
       "    }\n",
       "\n",
       "    .dataframe tbody tr th {\n",
       "        vertical-align: top;\n",
       "    }\n",
       "\n",
       "    .dataframe thead th {\n",
       "        text-align: right;\n",
       "    }\n",
       "</style>\n",
       "<table border=\"1\" class=\"dataframe\">\n",
       "  <thead>\n",
       "    <tr style=\"text-align: right;\">\n",
       "      <th></th>\n",
       "      <th>content</th>\n",
       "      <th>label</th>\n",
       "      <th>sentences</th>\n",
       "      <th>sentences_1000</th>\n",
       "      <th>sentences_1000_str</th>\n",
       "    </tr>\n",
       "  </thead>\n",
       "  <tbody>\n",
       "    <tr>\n",
       "      <th>0</th>\n",
       "      <td>六月26,2017•潮流手錶•全球穿戴式智能裝置第一季銷售報告近日終於正式出爐，相比起去年第...</td>\n",
       "      <td>6</td>\n",
       "      <td>['六月', '•', '潮流', '手錶', '•', '全球', '穿戴', '式', ...</td>\n",
       "      <td>['六月', '•', '潮流', '手錶', '•', '全球', '穿戴', '式', ...</td>\n",
       "      <td>六月 • 潮流 手錶 • 全球 穿戴 式 智能 裝置 第一季 銷售 報告 近日 終於 正式 ...</td>\n",
       "    </tr>\n",
       "    <tr>\n",
       "      <th>1</th>\n",
       "      <td>章節連結SanDiskExtremePROUHS-IIU3記憶卡！讀275寫100超高速！電...</td>\n",
       "      <td>6</td>\n",
       "      <td>['章節', '連結', 'SanDiskExtremePROUHS', 'IIU3', '...</td>\n",
       "      <td>['章節', '連結', 'SanDiskExtremePROUHS', 'IIU3', '...</td>\n",
       "      <td>章節 連結 SanDiskExtremePROUHS IIU3 記憶卡 讀 寫 超高速 電腦...</td>\n",
       "    </tr>\n",
       "    <tr>\n",
       "      <th>2</th>\n",
       "      <td>企業趨勢WesternDigital推全球最快UHS-ImicroSDTM記憶卡企業趨勢by...</td>\n",
       "      <td>11</td>\n",
       "      <td>['企業', '趨勢', 'WesternDigital', '推', '全球', '最快'...</td>\n",
       "      <td>['企業', '趨勢', 'WesternDigital', '推', '全球', '最快'...</td>\n",
       "      <td>企業 趨勢 WesternDigital 推 全球 最快 UHS ImicroSDTM 記憶...</td>\n",
       "    </tr>\n",
       "    <tr>\n",
       "      <th>3</th>\n",
       "      <td>對於現代人來說，耳機可以說是跟手機一樣，永遠不離身的配備，小小一副耳機就能讓人彷彿來到自己的...</td>\n",
       "      <td>6</td>\n",
       "      <td>['現代人', '來說', '耳機', '說', '手機', '永遠', '離身', '配備...</td>\n",
       "      <td>['現代人', '來說', '耳機', '說', '手機', '永遠', '離身', '配備...</td>\n",
       "      <td>現代人 來說 耳機 說 手機 永遠 離身 配備 小小 副耳機 人 彷彿 來到 世界 說 世紀...</td>\n",
       "    </tr>\n",
       "    <tr>\n",
       "      <th>4</th>\n",
       "      <td>華碩官方終於證實代言人孔劉將於17日來台，將代言5國行銷廣告，平面照也正式曝光。華碩供照【王...</td>\n",
       "      <td>6</td>\n",
       "      <td>['華碩', '官方', '終於', '證實', '代言人', '孔', '劉將', '日來...</td>\n",
       "      <td>['華碩', '官方', '終於', '證實', '代言人', '孔', '劉將', '日來...</td>\n",
       "      <td>華碩 官方 終於 證實 代言人 孔 劉將 日來 台 代言 國 行銷 廣告 平面 正式 曝光 ...</td>\n",
       "    </tr>\n",
       "  </tbody>\n",
       "</table>\n",
       "</div>"
      ],
      "text/plain": [
       "                                             content  label  \\\n",
       "0  六月26,2017•潮流手錶•全球穿戴式智能裝置第一季銷售報告近日終於正式出爐，相比起去年第...      6   \n",
       "1  章節連結SanDiskExtremePROUHS-IIU3記憶卡！讀275寫100超高速！電...      6   \n",
       "2  企業趨勢WesternDigital推全球最快UHS-ImicroSDTM記憶卡企業趨勢by...     11   \n",
       "3  對於現代人來說，耳機可以說是跟手機一樣，永遠不離身的配備，小小一副耳機就能讓人彷彿來到自己的...      6   \n",
       "4  華碩官方終於證實代言人孔劉將於17日來台，將代言5國行銷廣告，平面照也正式曝光。華碩供照【王...      6   \n",
       "\n",
       "                                           sentences  \\\n",
       "0  ['六月', '•', '潮流', '手錶', '•', '全球', '穿戴', '式', ...   \n",
       "1  ['章節', '連結', 'SanDiskExtremePROUHS', 'IIU3', '...   \n",
       "2  ['企業', '趨勢', 'WesternDigital', '推', '全球', '最快'...   \n",
       "3  ['現代人', '來說', '耳機', '說', '手機', '永遠', '離身', '配備...   \n",
       "4  ['華碩', '官方', '終於', '證實', '代言人', '孔', '劉將', '日來...   \n",
       "\n",
       "                                      sentences_1000  \\\n",
       "0  ['六月', '•', '潮流', '手錶', '•', '全球', '穿戴', '式', ...   \n",
       "1  ['章節', '連結', 'SanDiskExtremePROUHS', 'IIU3', '...   \n",
       "2  ['企業', '趨勢', 'WesternDigital', '推', '全球', '最快'...   \n",
       "3  ['現代人', '來說', '耳機', '說', '手機', '永遠', '離身', '配備...   \n",
       "4  ['華碩', '官方', '終於', '證實', '代言人', '孔', '劉將', '日來...   \n",
       "\n",
       "                                  sentences_1000_str  \n",
       "0  六月 • 潮流 手錶 • 全球 穿戴 式 智能 裝置 第一季 銷售 報告 近日 終於 正式 ...  \n",
       "1  章節 連結 SanDiskExtremePROUHS IIU3 記憶卡 讀 寫 超高速 電腦...  \n",
       "2  企業 趨勢 WesternDigital 推 全球 最快 UHS ImicroSDTM 記憶...  \n",
       "3  現代人 來說 耳機 說 手機 永遠 離身 配備 小小 副耳機 人 彷彿 來到 世界 說 世紀...  \n",
       "4  華碩 官方 終於 證實 代言人 孔 劉將 日來 台 代言 國 行銷 廣告 平面 正式 曝光 ...  "
      ]
     },
     "execution_count": 32,
     "metadata": {},
     "output_type": "execute_result"
    }
   ],
   "source": [
    "df = df.drop(['kmeans_label'], axis=1).copy()\n",
    "df.head()"
   ]
  },
  {
   "cell_type": "markdown",
   "metadata": {},
   "source": [
    "#### 與res_others(63044)資料結合"
   ]
  },
  {
   "cell_type": "code",
   "execution_count": 33,
   "metadata": {},
   "outputs": [
    {
     "data": {
      "text/plain": [
       "'/project/jt071-group23'"
      ]
     },
     "execution_count": 33,
     "metadata": {},
     "output_type": "execute_result"
    }
   ],
   "source": [
    "os.getcwd()"
   ]
  },
  {
   "cell_type": "code",
   "execution_count": 34,
   "metadata": {},
   "outputs": [
    {
     "data": {
      "text/html": [
       "<div>\n",
       "<style scoped>\n",
       "    .dataframe tbody tr th:only-of-type {\n",
       "        vertical-align: middle;\n",
       "    }\n",
       "\n",
       "    .dataframe tbody tr th {\n",
       "        vertical-align: top;\n",
       "    }\n",
       "\n",
       "    .dataframe thead th {\n",
       "        text-align: right;\n",
       "    }\n",
       "</style>\n",
       "<table border=\"1\" class=\"dataframe\">\n",
       "  <thead>\n",
       "    <tr style=\"text-align: right;\">\n",
       "      <th></th>\n",
       "      <th>content</th>\n",
       "      <th>label</th>\n",
       "      <th>sentences</th>\n",
       "      <th>sentences_1000</th>\n",
       "      <th>sentences_1000_str</th>\n",
       "    </tr>\n",
       "  </thead>\n",
       "  <tbody>\n",
       "    <tr>\n",
       "      <th>0</th>\n",
       "      <td>1、為什麼選你，而不是別人？不少職場人都被問過這個問題，面試得好好的，突然面試官說：一句話/...</td>\n",
       "      <td>8</td>\n",
       "      <td>['選', '職場', '人', '問過', '問題', '面試', '好好', '突然',...</td>\n",
       "      <td>['選', '職場', '人', '問過', '問題', '面試', '好好', '突然',...</td>\n",
       "      <td>選 職場 人 問過 問題 面試 好好 突然 面試官 說 一句 話 一分鐘 告訴 選擇 其他人...</td>\n",
       "    </tr>\n",
       "    <tr>\n",
       "      <th>1</th>\n",
       "      <td>「帕金森氏症」是台灣老年人三大疾病中的一種，主要是慢性中樞神經系統退化而影響到運動神經系統的...</td>\n",
       "      <td>7</td>\n",
       "      <td>['「', '帕金森氏症', '台灣', '老年人', '三大', '疾病', '中', '...</td>\n",
       "      <td>['「', '帕金森氏症', '台灣', '老年人', '三大', '疾病', '中', '...</td>\n",
       "      <td>「 帕金森氏症 台灣 老年人 三大 疾病 中 一種 主要 慢性 中樞神經 系統 退化 影響 ...</td>\n",
       "    </tr>\n",
       "    <tr>\n",
       "      <th>2</th>\n",
       "      <td>不過是吃頓飯，有什麼困難？偏偏家有學前兒的爸媽，餐餐都得耗盡心力。輕忽嬰幼兒的飲食，過敏體質...</td>\n",
       "      <td>7</td>\n",
       "      <td>['吃', '頓飯', '困難', '家有', '學前', '兒', '爸媽', '餐餐',...</td>\n",
       "      <td>['吃', '頓飯', '困難', '家有', '學前', '兒', '爸媽', '餐餐',...</td>\n",
       "      <td>吃 頓飯 困難 家有 學前 兒 爸媽 餐餐 耗盡 心力 輕忽 嬰幼兒 飲食 過敏 體質 孩子...</td>\n",
       "    </tr>\n",
       "    <tr>\n",
       "      <th>3</th>\n",
       "      <td>首頁專題讀者投書就是這麼直白：給女生的印度文就是這麼直白：給女生的印度文2017/03/07...</td>\n",
       "      <td>4</td>\n",
       "      <td>['首頁', '專題', '讀者', '投書', '直白', '女生', '印度', '文'...</td>\n",
       "      <td>['首頁', '專題', '讀者', '投書', '直白', '女生', '印度', '文'...</td>\n",
       "      <td>首頁 專題 讀者 投書 直白 女生 印度 文 直白 女生 印度 文 讀者 投書 K 女生 想...</td>\n",
       "    </tr>\n",
       "    <tr>\n",
       "      <th>4</th>\n",
       "      <td>經典裸棕、微醺紅調、夢幻藍光，2017秋冬指定色！每樣新品都想收！PicSee-Shorte...</td>\n",
       "      <td>5</td>\n",
       "      <td>['經典', '裸棕', '微醺', '紅調', '夢幻', '藍光', '秋冬', '指定...</td>\n",
       "      <td>['經典', '裸棕', '微醺', '紅調', '夢幻', '藍光', '秋冬', '指定...</td>\n",
       "      <td>經典 裸棕 微醺 紅調 夢幻 藍光 秋冬 指定 色 每樣 新品 想 收 PicSee Sho...</td>\n",
       "    </tr>\n",
       "  </tbody>\n",
       "</table>\n",
       "</div>"
      ],
      "text/plain": [
       "                                             content  label  \\\n",
       "0  1、為什麼選你，而不是別人？不少職場人都被問過這個問題，面試得好好的，突然面試官說：一句話/...      8   \n",
       "1  「帕金森氏症」是台灣老年人三大疾病中的一種，主要是慢性中樞神經系統退化而影響到運動神經系統的...      7   \n",
       "2  不過是吃頓飯，有什麼困難？偏偏家有學前兒的爸媽，餐餐都得耗盡心力。輕忽嬰幼兒的飲食，過敏體質...      7   \n",
       "3  首頁專題讀者投書就是這麼直白：給女生的印度文就是這麼直白：給女生的印度文2017/03/07...      4   \n",
       "4  經典裸棕、微醺紅調、夢幻藍光，2017秋冬指定色！每樣新品都想收！PicSee-Shorte...      5   \n",
       "\n",
       "                                           sentences  \\\n",
       "0  ['選', '職場', '人', '問過', '問題', '面試', '好好', '突然',...   \n",
       "1  ['「', '帕金森氏症', '台灣', '老年人', '三大', '疾病', '中', '...   \n",
       "2  ['吃', '頓飯', '困難', '家有', '學前', '兒', '爸媽', '餐餐',...   \n",
       "3  ['首頁', '專題', '讀者', '投書', '直白', '女生', '印度', '文'...   \n",
       "4  ['經典', '裸棕', '微醺', '紅調', '夢幻', '藍光', '秋冬', '指定...   \n",
       "\n",
       "                                      sentences_1000  \\\n",
       "0  ['選', '職場', '人', '問過', '問題', '面試', '好好', '突然',...   \n",
       "1  ['「', '帕金森氏症', '台灣', '老年人', '三大', '疾病', '中', '...   \n",
       "2  ['吃', '頓飯', '困難', '家有', '學前', '兒', '爸媽', '餐餐',...   \n",
       "3  ['首頁', '專題', '讀者', '投書', '直白', '女生', '印度', '文'...   \n",
       "4  ['經典', '裸棕', '微醺', '紅調', '夢幻', '藍光', '秋冬', '指定...   \n",
       "\n",
       "                                  sentences_1000_str  \n",
       "0  選 職場 人 問過 問題 面試 好好 突然 面試官 說 一句 話 一分鐘 告訴 選擇 其他人...  \n",
       "1  「 帕金森氏症 台灣 老年人 三大 疾病 中 一種 主要 慢性 中樞神經 系統 退化 影響 ...  \n",
       "2  吃 頓飯 困難 家有 學前 兒 爸媽 餐餐 耗盡 心力 輕忽 嬰幼兒 飲食 過敏 體質 孩子...  \n",
       "3  首頁 專題 讀者 投書 直白 女生 印度 文 直白 女生 印度 文 讀者 投書 K 女生 想...  \n",
       "4  經典 裸棕 微醺 紅調 夢幻 藍光 秋冬 指定 色 每樣 新品 想 收 PicSee Sho...  "
      ]
     },
     "execution_count": 34,
     "metadata": {},
     "output_type": "execute_result"
    }
   ],
   "source": [
    "df_res_others = pd.read_csv('jt071078/data_split/res_others(63044).csv')\n",
    "df_res_others.head()"
   ]
  },
  {
   "cell_type": "code",
   "execution_count": 35,
   "metadata": {},
   "outputs": [
    {
     "data": {
      "text/plain": [
       "(65475, 5)"
      ]
     },
     "execution_count": 35,
     "metadata": {},
     "output_type": "execute_result"
    }
   ],
   "source": [
    "df_data_new = pd.concat([df_res_others, df], axis=0, ignore_index=True)\n",
    "df_data_new.shape"
   ]
  },
  {
   "cell_type": "code",
   "execution_count": 36,
   "metadata": {},
   "outputs": [
    {
     "data": {
      "text/plain": [
       "{0, 1, 2, 3, 4, 5, 6, 7, 8, 9, 10, 11, 12, 13}"
      ]
     },
     "execution_count": 36,
     "metadata": {},
     "output_type": "execute_result"
    }
   ],
   "source": [
    "set(df_data_new['label'])"
   ]
  },
  {
   "cell_type": "code",
   "execution_count": 37,
   "metadata": {},
   "outputs": [],
   "source": [
    "df_data_new.to_csv('jt071078/data_split/res_others_kmeans(65475)', index=False)"
   ]
  },
  {
   "cell_type": "markdown",
   "metadata": {},
   "source": [
    "#### 與for_CNN_data(67178)的資料結合"
   ]
  },
  {
   "cell_type": "code",
   "execution_count": 47,
   "metadata": {},
   "outputs": [],
   "source": [
    "# os.getcwd()\n",
    "\n",
    "# df_data_one_lable = pd.read_csv('jt071078/data/data(67178).csv')\n",
    "# df_data_one_lable.head()\n",
    "\n",
    "# df_data_one_lable['label'].values\n",
    "\n",
    "# df_data_new = pd.concat([df_data_two_label, df_data_one_lable], axis=0, ignore_index=True)\n",
    "# df_data_new.shape\n",
    "\n",
    "# df_data_new.head()\n",
    "\n",
    "# set(df_data_new['label'])\n",
    "\n",
    "# df_data_new.to_csv('jt071078/data/for_CNN_data(71484).csv', index=False)"
   ]
  },
  {
   "cell_type": "markdown",
   "metadata": {},
   "source": [
    "#### Plot kmean result\n",
    "*Doc2Vec需要用PCA降成2維"
   ]
  },
  {
   "cell_type": "code",
   "execution_count": 1,
   "metadata": {},
   "outputs": [
    {
     "name": "stderr",
     "output_type": "stream",
     "text": [
      "/opt/conda/lib/python3.6/importlib/_bootstrap.py:219: RuntimeWarning: numpy.dtype size changed, may indicate binary incompatibility. Expected 96, got 88\n",
      "  return f(*args, **kwds)\n"
     ]
    }
   ],
   "source": [
    "from sklearn.decomposition import PCA"
   ]
  },
  {
   "cell_type": "code",
   "execution_count": 13,
   "metadata": {},
   "outputs": [
    {
     "data": {
      "text/plain": [
       "PCA(copy=True, iterated_power='auto', n_components=2, random_state=None,\n",
       "  svd_solver='auto', tol=0.0, whiten=False)"
      ]
     },
     "execution_count": 13,
     "metadata": {},
     "output_type": "execute_result"
    }
   ],
   "source": [
    "pca = PCA(n_components=2)\n",
    "pca.fit(doc2vec_result)"
   ]
  },
  {
   "cell_type": "code",
   "execution_count": null,
   "metadata": {},
   "outputs": [],
   "source": []
  }
 ],
 "metadata": {
  "kernelspec": {
   "display_name": "Python 3",
   "language": "python",
   "name": "python3"
  },
  "language_info": {
   "codemirror_mode": {
    "name": "ipython",
    "version": 3
   },
   "file_extension": ".py",
   "mimetype": "text/x-python",
   "name": "python",
   "nbconvert_exporter": "python",
   "pygments_lexer": "ipython3",
   "version": "3.6.6"
  }
 },
 "nbformat": 4,
 "nbformat_minor": 2
}
