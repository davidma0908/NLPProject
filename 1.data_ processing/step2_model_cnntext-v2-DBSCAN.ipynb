{
 "cells": [
  {
   "cell_type": "code",
   "execution_count": 1,
   "metadata": {},
   "outputs": [
    {
     "name": "stderr",
     "output_type": "stream",
     "text": [
      "Using TensorFlow backend.\n"
     ]
    }
   ],
   "source": [
    "%matplotlib inline\n",
    "\n",
    "import numpy as np\n",
    "import pandas as pd\n",
    "import os\n",
    "import seaborn as sns\n",
    "import matplotlib.pyplot as plt\n",
    "import pickle\n",
    "\n",
    "from sklearn.model_selection import train_test_split\n",
    "from keras import metrics"
   ]
  },
  {
   "cell_type": "code",
   "execution_count": 2,
   "metadata": {},
   "outputs": [
    {
     "data": {
      "text/plain": [
       "'/project/jt071-group23/jt071079/jt071078'"
      ]
     },
     "execution_count": 2,
     "metadata": {},
     "output_type": "execute_result"
    }
   ],
   "source": [
    "os.getcwd()"
   ]
  },
  {
   "cell_type": "markdown",
   "metadata": {},
   "source": [
    "#### data prepare\n",
    "* load data\n",
    "* concate data成 df_test, df_res "
   ]
  },
  {
   "cell_type": "code",
   "execution_count": 3,
   "metadata": {},
   "outputs": [
    {
     "name": "stdout",
     "output_type": "stream",
     "text": [
      "(9436, 5)\n"
     ]
    },
    {
     "data": {
      "text/html": [
       "<div>\n",
       "<style scoped>\n",
       "    .dataframe tbody tr th:only-of-type {\n",
       "        vertical-align: middle;\n",
       "    }\n",
       "\n",
       "    .dataframe tbody tr th {\n",
       "        vertical-align: top;\n",
       "    }\n",
       "\n",
       "    .dataframe thead th {\n",
       "        text-align: right;\n",
       "    }\n",
       "</style>\n",
       "<table border=\"1\" class=\"dataframe\">\n",
       "  <thead>\n",
       "    <tr style=\"text-align: right;\">\n",
       "      <th></th>\n",
       "      <th>content</th>\n",
       "      <th>label</th>\n",
       "      <th>sentences</th>\n",
       "      <th>sentences_1000</th>\n",
       "      <th>sentences_1000_str</th>\n",
       "    </tr>\n",
       "  </thead>\n",
       "  <tbody>\n",
       "    <tr>\n",
       "      <th>0</th>\n",
       "      <td>六月26,2017•潮流手錶•全球穿戴式智能裝置第一季銷售報告近日終於正式出爐，相比起去年第...</td>\n",
       "      <td>6</td>\n",
       "      <td>['六月', '•', '潮流', '手錶', '•', '全球', '穿戴', '式', ...</td>\n",
       "      <td>['六月', '•', '潮流', '手錶', '•', '全球', '穿戴', '式', ...</td>\n",
       "      <td>六月 • 潮流 手錶 • 全球 穿戴 式 智能 裝置 第一季 銷售 報告 近日 終於 正式 ...</td>\n",
       "    </tr>\n",
       "    <tr>\n",
       "      <th>1</th>\n",
       "      <td>章節連結SanDiskExtremePROUHS-IIU3記憶卡！讀275寫100超高速！電...</td>\n",
       "      <td>6</td>\n",
       "      <td>['章節', '連結', 'SanDiskExtremePROUHS', 'IIU3', '...</td>\n",
       "      <td>['章節', '連結', 'SanDiskExtremePROUHS', 'IIU3', '...</td>\n",
       "      <td>章節 連結 SanDiskExtremePROUHS IIU3 記憶卡 讀 寫 超高速 電腦...</td>\n",
       "    </tr>\n",
       "    <tr>\n",
       "      <th>2</th>\n",
       "      <td>企業趨勢WesternDigital推全球最快UHS-ImicroSDTM記憶卡企業趨勢by...</td>\n",
       "      <td>6</td>\n",
       "      <td>['企業', '趨勢', 'WesternDigital', '推', '全球', '最快'...</td>\n",
       "      <td>['企業', '趨勢', 'WesternDigital', '推', '全球', '最快'...</td>\n",
       "      <td>企業 趨勢 WesternDigital 推 全球 最快 UHS ImicroSDTM 記憶...</td>\n",
       "    </tr>\n",
       "    <tr>\n",
       "      <th>3</th>\n",
       "      <td>對於現代人來說，耳機可以說是跟手機一樣，永遠不離身的配備，小小一副耳機就能讓人彷彿來到自己的...</td>\n",
       "      <td>6</td>\n",
       "      <td>['現代人', '來說', '耳機', '說', '手機', '永遠', '離身', '配備...</td>\n",
       "      <td>['現代人', '來說', '耳機', '說', '手機', '永遠', '離身', '配備...</td>\n",
       "      <td>現代人 來說 耳機 說 手機 永遠 離身 配備 小小 副耳機 人 彷彿 來到 世界 說 世紀...</td>\n",
       "    </tr>\n",
       "    <tr>\n",
       "      <th>4</th>\n",
       "      <td>華碩官方終於證實代言人孔劉將於17日來台，將代言5國行銷廣告，平面照也正式曝光。華碩供照【王...</td>\n",
       "      <td>6</td>\n",
       "      <td>['華碩', '官方', '終於', '證實', '代言人', '孔', '劉將', '日來...</td>\n",
       "      <td>['華碩', '官方', '終於', '證實', '代言人', '孔', '劉將', '日來...</td>\n",
       "      <td>華碩 官方 終於 證實 代言人 孔 劉將 日來 台 代言 國 行銷 廣告 平面 正式 曝光 ...</td>\n",
       "    </tr>\n",
       "  </tbody>\n",
       "</table>\n",
       "</div>"
      ],
      "text/plain": [
       "                                             content  label  \\\n",
       "0  六月26,2017•潮流手錶•全球穿戴式智能裝置第一季銷售報告近日終於正式出爐，相比起去年第...      6   \n",
       "1  章節連結SanDiskExtremePROUHS-IIU3記憶卡！讀275寫100超高速！電...      6   \n",
       "2  企業趨勢WesternDigital推全球最快UHS-ImicroSDTM記憶卡企業趨勢by...      6   \n",
       "3  對於現代人來說，耳機可以說是跟手機一樣，永遠不離身的配備，小小一副耳機就能讓人彷彿來到自己的...      6   \n",
       "4  華碩官方終於證實代言人孔劉將於17日來台，將代言5國行銷廣告，平面照也正式曝光。華碩供照【王...      6   \n",
       "\n",
       "                                           sentences  \\\n",
       "0  ['六月', '•', '潮流', '手錶', '•', '全球', '穿戴', '式', ...   \n",
       "1  ['章節', '連結', 'SanDiskExtremePROUHS', 'IIU3', '...   \n",
       "2  ['企業', '趨勢', 'WesternDigital', '推', '全球', '最快'...   \n",
       "3  ['現代人', '來說', '耳機', '說', '手機', '永遠', '離身', '配備...   \n",
       "4  ['華碩', '官方', '終於', '證實', '代言人', '孔', '劉將', '日來...   \n",
       "\n",
       "                                      sentences_1000  \\\n",
       "0  ['六月', '•', '潮流', '手錶', '•', '全球', '穿戴', '式', ...   \n",
       "1  ['章節', '連結', 'SanDiskExtremePROUHS', 'IIU3', '...   \n",
       "2  ['企業', '趨勢', 'WesternDigital', '推', '全球', '最快'...   \n",
       "3  ['現代人', '來說', '耳機', '說', '手機', '永遠', '離身', '配備...   \n",
       "4  ['華碩', '官方', '終於', '證實', '代言人', '孔', '劉將', '日來...   \n",
       "\n",
       "                                  sentences_1000_str  \n",
       "0  六月 • 潮流 手錶 • 全球 穿戴 式 智能 裝置 第一季 銷售 報告 近日 終於 正式 ...  \n",
       "1  章節 連結 SanDiskExtremePROUHS IIU3 記憶卡 讀 寫 超高速 電腦...  \n",
       "2  企業 趨勢 WesternDigital 推 全球 最快 UHS ImicroSDTM 記憶...  \n",
       "3  現代人 來說 耳機 說 手機 永遠 離身 配備 小小 副耳機 人 彷彿 來到 世界 說 世紀...  \n",
       "4  華碩 官方 終於 證實 代言人 孔 劉將 日來 台 代言 國 行銷 廣告 平面 正式 曝光 ...  "
      ]
     },
     "execution_count": 3,
     "metadata": {},
     "output_type": "execute_result"
    }
   ],
   "source": [
    "# load test data\n",
    "df_test_3C = pd.read_csv('/project/jt071-group23/jt071078/data_split/test_3C(1344).csv')\n",
    "df_test_others = pd.read_csv('/project/jt071-group23/jt071078/data_split/test_others(7005).csv')\n",
    "df_self_drive_car = pd.read_csv('/project/jt071-group23/jt071078/data_split/test_self_drive_car(1087).csv')\n",
    "\n",
    "# concat test data\n",
    "dataframe_test = [df_test_3C, df_test_others, df_self_drive_car]\n",
    "df_test = pd.concat(dataframe_test)\n",
    "print(df_test.shape)\n",
    "df_test.head()"
   ]
  },
  {
   "cell_type": "code",
   "execution_count": 4,
   "metadata": {},
   "outputs": [
    {
     "name": "stdout",
     "output_type": "stream",
     "text": [
      "(65475, 5)\n"
     ]
    },
    {
     "data": {
      "text/html": [
       "<div>\n",
       "<style scoped>\n",
       "    .dataframe tbody tr th:only-of-type {\n",
       "        vertical-align: middle;\n",
       "    }\n",
       "\n",
       "    .dataframe tbody tr th {\n",
       "        vertical-align: top;\n",
       "    }\n",
       "\n",
       "    .dataframe thead th {\n",
       "        text-align: right;\n",
       "    }\n",
       "</style>\n",
       "<table border=\"1\" class=\"dataframe\">\n",
       "  <thead>\n",
       "    <tr style=\"text-align: right;\">\n",
       "      <th></th>\n",
       "      <th>content</th>\n",
       "      <th>label</th>\n",
       "      <th>sentences</th>\n",
       "      <th>sentences_1000</th>\n",
       "      <th>sentences_1000_str</th>\n",
       "    </tr>\n",
       "  </thead>\n",
       "  <tbody>\n",
       "    <tr>\n",
       "      <th>0</th>\n",
       "      <td>1、為什麼選你，而不是別人？不少職場人都被問過這個問題，面試得好好的，突然面試官說：一句話/...</td>\n",
       "      <td>8</td>\n",
       "      <td>['選', '職場', '人', '問過', '問題', '面試', '好好', '突然',...</td>\n",
       "      <td>['選', '職場', '人', '問過', '問題', '面試', '好好', '突然',...</td>\n",
       "      <td>選 職場 人 問過 問題 面試 好好 突然 面試官 說 一句 話 一分鐘 告訴 選擇 其他人...</td>\n",
       "    </tr>\n",
       "    <tr>\n",
       "      <th>1</th>\n",
       "      <td>「帕金森氏症」是台灣老年人三大疾病中的一種，主要是慢性中樞神經系統退化而影響到運動神經系統的...</td>\n",
       "      <td>7</td>\n",
       "      <td>['「', '帕金森氏症', '台灣', '老年人', '三大', '疾病', '中', '...</td>\n",
       "      <td>['「', '帕金森氏症', '台灣', '老年人', '三大', '疾病', '中', '...</td>\n",
       "      <td>「 帕金森氏症 台灣 老年人 三大 疾病 中 一種 主要 慢性 中樞神經 系統 退化 影響 ...</td>\n",
       "    </tr>\n",
       "    <tr>\n",
       "      <th>2</th>\n",
       "      <td>不過是吃頓飯，有什麼困難？偏偏家有學前兒的爸媽，餐餐都得耗盡心力。輕忽嬰幼兒的飲食，過敏體質...</td>\n",
       "      <td>7</td>\n",
       "      <td>['吃', '頓飯', '困難', '家有', '學前', '兒', '爸媽', '餐餐',...</td>\n",
       "      <td>['吃', '頓飯', '困難', '家有', '學前', '兒', '爸媽', '餐餐',...</td>\n",
       "      <td>吃 頓飯 困難 家有 學前 兒 爸媽 餐餐 耗盡 心力 輕忽 嬰幼兒 飲食 過敏 體質 孩子...</td>\n",
       "    </tr>\n",
       "    <tr>\n",
       "      <th>3</th>\n",
       "      <td>首頁專題讀者投書就是這麼直白：給女生的印度文就是這麼直白：給女生的印度文2017/03/07...</td>\n",
       "      <td>4</td>\n",
       "      <td>['首頁', '專題', '讀者', '投書', '直白', '女生', '印度', '文'...</td>\n",
       "      <td>['首頁', '專題', '讀者', '投書', '直白', '女生', '印度', '文'...</td>\n",
       "      <td>首頁 專題 讀者 投書 直白 女生 印度 文 直白 女生 印度 文 讀者 投書 K 女生 想...</td>\n",
       "    </tr>\n",
       "    <tr>\n",
       "      <th>4</th>\n",
       "      <td>經典裸棕、微醺紅調、夢幻藍光，2017秋冬指定色！每樣新品都想收！PicSee-Shorte...</td>\n",
       "      <td>5</td>\n",
       "      <td>['經典', '裸棕', '微醺', '紅調', '夢幻', '藍光', '秋冬', '指定...</td>\n",
       "      <td>['經典', '裸棕', '微醺', '紅調', '夢幻', '藍光', '秋冬', '指定...</td>\n",
       "      <td>經典 裸棕 微醺 紅調 夢幻 藍光 秋冬 指定 色 每樣 新品 想 收 PicSee Sho...</td>\n",
       "    </tr>\n",
       "  </tbody>\n",
       "</table>\n",
       "</div>"
      ],
      "text/plain": [
       "                                             content  label  \\\n",
       "0  1、為什麼選你，而不是別人？不少職場人都被問過這個問題，面試得好好的，突然面試官說：一句話/...      8   \n",
       "1  「帕金森氏症」是台灣老年人三大疾病中的一種，主要是慢性中樞神經系統退化而影響到運動神經系統的...      7   \n",
       "2  不過是吃頓飯，有什麼困難？偏偏家有學前兒的爸媽，餐餐都得耗盡心力。輕忽嬰幼兒的飲食，過敏體質...      7   \n",
       "3  首頁專題讀者投書就是這麼直白：給女生的印度文就是這麼直白：給女生的印度文2017/03/07...      4   \n",
       "4  經典裸棕、微醺紅調、夢幻藍光，2017秋冬指定色！每樣新品都想收！PicSee-Shorte...      5   \n",
       "\n",
       "                                           sentences  \\\n",
       "0  ['選', '職場', '人', '問過', '問題', '面試', '好好', '突然',...   \n",
       "1  ['「', '帕金森氏症', '台灣', '老年人', '三大', '疾病', '中', '...   \n",
       "2  ['吃', '頓飯', '困難', '家有', '學前', '兒', '爸媽', '餐餐',...   \n",
       "3  ['首頁', '專題', '讀者', '投書', '直白', '女生', '印度', '文'...   \n",
       "4  ['經典', '裸棕', '微醺', '紅調', '夢幻', '藍光', '秋冬', '指定...   \n",
       "\n",
       "                                      sentences_1000  \\\n",
       "0  ['選', '職場', '人', '問過', '問題', '面試', '好好', '突然',...   \n",
       "1  ['「', '帕金森氏症', '台灣', '老年人', '三大', '疾病', '中', '...   \n",
       "2  ['吃', '頓飯', '困難', '家有', '學前', '兒', '爸媽', '餐餐',...   \n",
       "3  ['首頁', '專題', '讀者', '投書', '直白', '女生', '印度', '文'...   \n",
       "4  ['經典', '裸棕', '微醺', '紅調', '夢幻', '藍光', '秋冬', '指定...   \n",
       "\n",
       "                                  sentences_1000_str  \n",
       "0  選 職場 人 問過 問題 面試 好好 突然 面試官 說 一句 話 一分鐘 告訴 選擇 其他人...  \n",
       "1  「 帕金森氏症 台灣 老年人 三大 疾病 中 一種 主要 慢性 中樞神經 系統 退化 影響 ...  \n",
       "2  吃 頓飯 困難 家有 學前 兒 爸媽 餐餐 耗盡 心力 輕忽 嬰幼兒 飲食 過敏 體質 孩子...  \n",
       "3  首頁 專題 讀者 投書 直白 女生 印度 文 直白 女生 印度 文 讀者 投書 K 女生 想...  \n",
       "4  經典 裸棕 微醺 紅調 夢幻 藍光 秋冬 指定 色 每樣 新品 想 收 PicSee Sho...  "
      ]
     },
     "execution_count": 4,
     "metadata": {},
     "output_type": "execute_result"
    }
   ],
   "source": [
    "# load res_other_kmeans data\n",
    "df_res_kmeans = pd.read_csv('/project/jt071-group23/jt071079/res_others_DBSCAN(65475).csv')\n",
    "\n",
    "print(df_res_kmeans.shape)\n",
    "df_res_kmeans.head()"
   ]
  },
  {
   "cell_type": "code",
   "execution_count": 5,
   "metadata": {},
   "outputs": [],
   "source": [
    "df = df_res_kmeans.copy()"
   ]
  },
  {
   "cell_type": "code",
   "execution_count": 6,
   "metadata": {},
   "outputs": [],
   "source": [
    "df.drop(df[pd.isnull(df['sentences_1000_str'])].index, inplace=True)"
   ]
  },
  {
   "cell_type": "code",
   "execution_count": 7,
   "metadata": {},
   "outputs": [],
   "source": [
    "df.drop(df[df['content'].str.len()<30].index, inplace=True)"
   ]
  },
  {
   "cell_type": "code",
   "execution_count": 8,
   "metadata": {},
   "outputs": [
    {
     "data": {
      "text/plain": [
       "(65272, 5)"
      ]
     },
     "execution_count": 8,
     "metadata": {},
     "output_type": "execute_result"
    }
   ],
   "source": [
    "df.shape"
   ]
  },
  {
   "cell_type": "code",
   "execution_count": 9,
   "metadata": {},
   "outputs": [],
   "source": [
    "from keras.preprocessing.text import Tokenizer\n",
    "from keras.preprocessing.sequence import pad_sequences\n",
    "from keras.utils import to_categorical\n",
    "import numpy as np"
   ]
  },
  {
   "cell_type": "code",
   "execution_count": 10,
   "metadata": {},
   "outputs": [],
   "source": [
    "MAX_SEQUENCE_LENGTH = 1000\n",
    "EMBEDDING_DIM = 200\n",
    "\n",
    "\n",
    "tokenizer = Tokenizer()\n",
    "tokenizer.fit_on_texts(df['sentences_1000_str'])\n",
    "sequences = tokenizer.texts_to_sequences(df['sentences_1000_str'])"
   ]
  },
  {
   "cell_type": "code",
   "execution_count": 11,
   "metadata": {},
   "outputs": [],
   "source": [
    "os.chdir('../')"
   ]
  },
  {
   "cell_type": "code",
   "execution_count": 12,
   "metadata": {},
   "outputs": [
    {
     "data": {
      "text/plain": [
       "'/project/jt071-group23/jt071079'"
      ]
     },
     "execution_count": 12,
     "metadata": {},
     "output_type": "execute_result"
    }
   ],
   "source": [
    "os.getcwd()"
   ]
  },
  {
   "cell_type": "code",
   "execution_count": 13,
   "metadata": {},
   "outputs": [],
   "source": [
    "with open('train_result_step2/DBSCAN_tokenizer.pickle', 'wb') as handle:\n",
    "    pickle.dump(tokenizer, handle, protocol=pickle.HIGHEST_PROTOCOL)"
   ]
  },
  {
   "cell_type": "code",
   "execution_count": 14,
   "metadata": {},
   "outputs": [],
   "source": [
    "word_index = tokenizer.word_index"
   ]
  },
  {
   "cell_type": "code",
   "execution_count": 15,
   "metadata": {},
   "outputs": [
    {
     "name": "stdout",
     "output_type": "stream",
     "text": [
      "Shape of data tensor: (65272, 1000)\n",
      "Shape of label tensor: (65272, 14)\n"
     ]
    }
   ],
   "source": [
    "all_data = pad_sequences(sequences, maxlen=MAX_SEQUENCE_LENGTH)\n",
    "labels = to_categorical(np.asarray(df['label']))\n",
    "print('Shape of data tensor:', all_data.shape)\n",
    "print('Shape of label tensor:', labels.shape)"
   ]
  },
  {
   "cell_type": "code",
   "execution_count": 16,
   "metadata": {},
   "outputs": [],
   "source": [
    "from sklearn.model_selection import train_test_split\n",
    "x_train,x_val,y_train,y_val = train_test_split(all_data,labels,test_size=0.15,stratify=labels,random_state = 42)"
   ]
  },
  {
   "cell_type": "code",
   "execution_count": 17,
   "metadata": {},
   "outputs": [
    {
     "data": {
      "text/plain": [
       "((55481, 1000), (55481, 14))"
      ]
     },
     "execution_count": 17,
     "metadata": {},
     "output_type": "execute_result"
    }
   ],
   "source": [
    "x_train.shape,y_train.shape"
   ]
  },
  {
   "cell_type": "markdown",
   "metadata": {},
   "source": [
    "#### CNN Model_1"
   ]
  },
  {
   "cell_type": "code",
   "execution_count": null,
   "metadata": {},
   "outputs": [],
   "source": [
    "# from keras.layers import Dense, Input, Flatten, Dropout\n",
    "# from keras.layers import Conv1D, MaxPooling1D, Embedding, GlobalMaxPooling1D\n",
    "# from keras.models import Sequential\n",
    "\n",
    "# model = Sequential()\n",
    "# model.add(Embedding(len(word_index) + 1, EMBEDDING_DIM, input_length=MAX_SEQUENCE_LENGTH))\n",
    "# model.add(Dropout(0.2))\n",
    "# model.add(Conv1D(250, 3, padding='valid', activation='relu', strides=1))\n",
    "# model.add(MaxPooling1D(3))\n",
    "# model.add(Flatten())\n",
    "# model.add(Dense(EMBEDDING_DIM, activation='relu'))\n",
    "# model.add(Dense(labels.shape[1], activation='softmax'))\n",
    "# model.summary()\n",
    "# #plot_model(model, to_file='model.png',show_shapes=True)\n",
    "\n",
    "# model.compile(loss='categorical_crossentropy',\n",
    "#               optimizer='adam',\n",
    "#               metrics=['acc'])\n",
    "# print(model.metrics_names)"
   ]
  },
  {
   "cell_type": "code",
   "execution_count": null,
   "metadata": {},
   "outputs": [],
   "source": [
    "# model.fit(x_train, y_train, validation_data=(x_val, y_val), epochs=5, batch_size=128)"
   ]
  },
  {
   "cell_type": "markdown",
   "metadata": {},
   "source": [
    "#### CNN Model_2"
   ]
  },
  {
   "cell_type": "code",
   "execution_count": 18,
   "metadata": {},
   "outputs": [],
   "source": [
    "from keras.layers import Input, Dense, Embedding, Conv2D, MaxPool2D\n",
    "from keras.layers import Reshape, Flatten, Dropout, Concatenate\n",
    "from keras.optimizers import Adam\n",
    "from keras.models import Model\n",
    "from keras.utils import multi_gpu_model"
   ]
  },
  {
   "cell_type": "code",
   "execution_count": 20,
   "metadata": {},
   "outputs": [
    {
     "name": "stdout",
     "output_type": "stream",
     "text": [
      "__________________________________________________________________________________________________\n",
      "Layer (type)                    Output Shape         Param #     Connected to                     \n",
      "==================================================================================================\n",
      "input_2 (InputLayer)            (None, 1000)         0                                            \n",
      "__________________________________________________________________________________________________\n",
      "embedding_2 (Embedding)         (None, 1000, 200)    124602600   input_2[0][0]                    \n",
      "__________________________________________________________________________________________________\n",
      "reshape_2 (Reshape)             (None, 1000, 200, 1) 0           embedding_2[0][0]                \n",
      "__________________________________________________________________________________________________\n",
      "conv2d_4 (Conv2D)               (None, 998, 1, 512)  307712      reshape_2[0][0]                  \n",
      "__________________________________________________________________________________________________\n",
      "conv2d_5 (Conv2D)               (None, 997, 1, 512)  410112      reshape_2[0][0]                  \n",
      "__________________________________________________________________________________________________\n",
      "conv2d_6 (Conv2D)               (None, 996, 1, 512)  512512      reshape_2[0][0]                  \n",
      "__________________________________________________________________________________________________\n",
      "max_pooling2d_4 (MaxPooling2D)  (None, 1, 1, 512)    0           conv2d_4[0][0]                   \n",
      "__________________________________________________________________________________________________\n",
      "max_pooling2d_5 (MaxPooling2D)  (None, 1, 1, 512)    0           conv2d_5[0][0]                   \n",
      "__________________________________________________________________________________________________\n",
      "max_pooling2d_6 (MaxPooling2D)  (None, 1, 1, 512)    0           conv2d_6[0][0]                   \n",
      "__________________________________________________________________________________________________\n",
      "concatenate_2 (Concatenate)     (None, 3, 1, 512)    0           max_pooling2d_4[0][0]            \n",
      "                                                                 max_pooling2d_5[0][0]            \n",
      "                                                                 max_pooling2d_6[0][0]            \n",
      "__________________________________________________________________________________________________\n",
      "flatten_2 (Flatten)             (None, 1536)         0           concatenate_2[0][0]              \n",
      "__________________________________________________________________________________________________\n",
      "dropout_2 (Dropout)             (None, 1536)         0           flatten_2[0][0]                  \n",
      "__________________________________________________________________________________________________\n",
      "dense_2 (Dense)                 (None, 14)           21518       dropout_2[0][0]                  \n",
      "==================================================================================================\n",
      "Total params: 125,854,454\n",
      "Trainable params: 125,854,454\n",
      "Non-trainable params: 0\n",
      "__________________________________________________________________________________________________\n"
     ]
    }
   ],
   "source": [
    "filter_sizes = [3,4,5]\n",
    "num_filters = 512\n",
    "drop = 0.5\n",
    "\n",
    "epochs = 30\n",
    "batch_size = 128\n",
    "\n",
    "\n",
    "inputs = Input(shape=(MAX_SEQUENCE_LENGTH,), dtype='int32')\n",
    "embedding = Embedding(len(word_index)+1, EMBEDDING_DIM, input_length=MAX_SEQUENCE_LENGTH)(inputs)\n",
    "reshape = Reshape((MAX_SEQUENCE_LENGTH,EMBEDDING_DIM,1))(embedding)\n",
    "\n",
    "conv_0 = Conv2D(num_filters, kernel_size=(filter_sizes[0], EMBEDDING_DIM), padding='valid', kernel_initializer='normal', activation='relu')(reshape)\n",
    "conv_1 = Conv2D(num_filters, kernel_size=(filter_sizes[1], EMBEDDING_DIM), padding='valid', kernel_initializer='normal', activation='relu')(reshape)\n",
    "conv_2 = Conv2D(num_filters, kernel_size=(filter_sizes[2], EMBEDDING_DIM), padding='valid', kernel_initializer='normal', activation='relu')(reshape)\n",
    "\n",
    "maxpool_0 = MaxPool2D(pool_size=(MAX_SEQUENCE_LENGTH - filter_sizes[0] + 1, 1), strides=(1,1), padding='valid')(conv_0)\n",
    "maxpool_1 = MaxPool2D(pool_size=(MAX_SEQUENCE_LENGTH - filter_sizes[1] + 1, 1), strides=(1,1), padding='valid')(conv_1)\n",
    "maxpool_2 = MaxPool2D(pool_size=(MAX_SEQUENCE_LENGTH - filter_sizes[2] + 1, 1), strides=(1,1), padding='valid')(conv_2)\n",
    "\n",
    "concatenated_tensor = Concatenate(axis=1)([maxpool_0, maxpool_1, maxpool_2])\n",
    "flatten = Flatten()(concatenated_tensor)\n",
    "dropout = Dropout(drop)(flatten)\n",
    "output = Dense(units=labels.shape[1], activation='softmax')(dropout)\n",
    "\n",
    "model = Model(inputs=inputs, outputs=output)\n",
    "\n",
    "adam = Adam(lr=1e-4, beta_1=0.9, beta_2=0.999, epsilon=1e-08, decay=0.0)\n",
    "\n",
    "#paralled_model = multi_gpu_model(model,2)   #用兩個cpu\n",
    "paralled_model = model                      #用一個cpu\n",
    "paralled_model.compile(optimizer=adam, loss='categorical_crossentropy', metrics=['accuracy'])\n",
    "paralled_model.summary()"
   ]
  },
  {
   "cell_type": "code",
   "execution_count": 21,
   "metadata": {},
   "outputs": [],
   "source": [
    "# save weight\n",
    "savePath = 'train_result_step2/DBSCAN_weights_model_cnntext-v2(65475).h5'\n",
    "# paralled_model.save_weights('train_result/weights_model_cnntext-v2(71484).h5')"
   ]
  },
  {
   "cell_type": "code",
   "execution_count": 22,
   "metadata": {},
   "outputs": [
    {
     "name": "stderr",
     "output_type": "stream",
     "text": [
      "/opt/conda/lib/python3.6/site-packages/tensorflow/python/ops/gradients_impl.py:93: UserWarning: Converting sparse IndexedSlices to a dense Tensor with 124602600 elements. This may consume a large amount of memory.\n",
      "  \"This may consume a large amount of memory.\" % num_elements)\n",
      "/opt/conda/lib/python3.6/site-packages/tensorflow/python/ops/gradients_impl.py:93: UserWarning: Converting sparse IndexedSlices to a dense Tensor with 124602600 elements. This may consume a large amount of memory.\n",
      "  \"This may consume a large amount of memory.\" % num_elements)\n"
     ]
    },
    {
     "name": "stdout",
     "output_type": "stream",
     "text": [
      "Train on 55481 samples, validate on 9791 samples\n",
      "Epoch 1/30\n",
      "55424/55481 [============================>.] - ETA: 0s - loss: 2.2267 - acc: 0.3329\n",
      "Epoch 00001: val_acc improved from -inf to 0.66755, saving model to train_result_step2/DBSCAN_weights_model_cnntext-v2(65475).h5\n",
      "55481/55481 [==============================] - 196s 4ms/step - loss: 2.2261 - acc: 0.3333 - val_loss: 1.5481 - val_acc: 0.6676\n",
      "Epoch 2/30\n",
      "55424/55481 [============================>.] - ETA: 0s - loss: 1.0832 - acc: 0.7255\n",
      "Epoch 00002: val_acc improved from 0.66755 to 0.78296, saving model to train_result_step2/DBSCAN_weights_model_cnntext-v2(65475).h5\n",
      "55481/55481 [==============================] - 186s 3ms/step - loss: 1.0830 - acc: 0.7255 - val_loss: 0.8029 - val_acc: 0.7830\n",
      "Epoch 3/30\n",
      "55424/55481 [============================>.] - ETA: 0s - loss: 0.7098 - acc: 0.7973\n",
      "Epoch 00003: val_acc improved from 0.78296 to 0.81800, saving model to train_result_step2/DBSCAN_weights_model_cnntext-v2(65475).h5\n",
      "55481/55481 [==============================] - 186s 3ms/step - loss: 0.7098 - acc: 0.7973 - val_loss: 0.6156 - val_acc: 0.8180\n",
      "Epoch 4/30\n",
      "55424/55481 [============================>.] - ETA: 0s - loss: 0.5591 - acc: 0.8323\n",
      "Epoch 00004: val_acc improved from 0.81800 to 0.84006, saving model to train_result_step2/DBSCAN_weights_model_cnntext-v2(65475).h5\n",
      "55481/55481 [==============================] - 185s 3ms/step - loss: 0.5593 - acc: 0.8323 - val_loss: 0.5223 - val_acc: 0.8401\n",
      "Epoch 5/30\n",
      "55424/55481 [============================>.] - ETA: 0s - loss: 0.4750 - acc: 0.8544\n",
      "Epoch 00005: val_acc improved from 0.84006 to 0.85211, saving model to train_result_step2/DBSCAN_weights_model_cnntext-v2(65475).h5\n",
      "55481/55481 [==============================] - 186s 3ms/step - loss: 0.4750 - acc: 0.8544 - val_loss: 0.4727 - val_acc: 0.8521\n",
      "Epoch 6/30\n",
      "55424/55481 [============================>.] - ETA: 0s - loss: 0.4187 - acc: 0.8716\n",
      "Epoch 00006: val_acc improved from 0.85211 to 0.86059, saving model to train_result_step2/DBSCAN_weights_model_cnntext-v2(65475).h5\n",
      "55481/55481 [==============================] - 186s 3ms/step - loss: 0.4188 - acc: 0.8715 - val_loss: 0.4401 - val_acc: 0.8606\n",
      "Epoch 7/30\n",
      "55424/55481 [============================>.] - ETA: 0s - loss: 0.3702 - acc: 0.8856\n",
      "Epoch 00007: val_acc improved from 0.86059 to 0.86661, saving model to train_result_step2/DBSCAN_weights_model_cnntext-v2(65475).h5\n",
      "55481/55481 [==============================] - 185s 3ms/step - loss: 0.3701 - acc: 0.8856 - val_loss: 0.4168 - val_acc: 0.8666\n",
      "Epoch 8/30\n",
      "55424/55481 [============================>.] - ETA: 0s - loss: 0.3303 - acc: 0.8998\n",
      "Epoch 00008: val_acc improved from 0.86661 to 0.87294, saving model to train_result_step2/DBSCAN_weights_model_cnntext-v2(65475).h5\n",
      "55481/55481 [==============================] - 186s 3ms/step - loss: 0.3303 - acc: 0.8998 - val_loss: 0.3986 - val_acc: 0.8729\n",
      "Epoch 9/30\n",
      "55424/55481 [============================>.] - ETA: 0s - loss: 0.2937 - acc: 0.9113\n",
      "Epoch 00009: val_acc improved from 0.87294 to 0.87723, saving model to train_result_step2/DBSCAN_weights_model_cnntext-v2(65475).h5\n",
      "55481/55481 [==============================] - 185s 3ms/step - loss: 0.2938 - acc: 0.9112 - val_loss: 0.3846 - val_acc: 0.8772\n",
      "Epoch 10/30\n",
      "55424/55481 [============================>.] - ETA: 0s - loss: 0.2607 - acc: 0.9213\n",
      "Epoch 00010: val_acc improved from 0.87723 to 0.87795, saving model to train_result_step2/DBSCAN_weights_model_cnntext-v2(65475).h5\n",
      "55481/55481 [==============================] - 186s 3ms/step - loss: 0.2608 - acc: 0.9212 - val_loss: 0.3725 - val_acc: 0.8779\n",
      "Epoch 11/30\n",
      "55424/55481 [============================>.] - ETA: 0s - loss: 0.2278 - acc: 0.9337\n",
      "Epoch 00011: val_acc improved from 0.87795 to 0.88050, saving model to train_result_step2/DBSCAN_weights_model_cnntext-v2(65475).h5\n",
      "55481/55481 [==============================] - 185s 3ms/step - loss: 0.2278 - acc: 0.9337 - val_loss: 0.3618 - val_acc: 0.8805\n",
      "Epoch 12/30\n",
      "55424/55481 [============================>.] - ETA: 0s - loss: 0.2006 - acc: 0.9430\n",
      "Epoch 00012: val_acc improved from 0.88050 to 0.88244, saving model to train_result_step2/DBSCAN_weights_model_cnntext-v2(65475).h5\n",
      "55481/55481 [==============================] - 186s 3ms/step - loss: 0.2005 - acc: 0.9430 - val_loss: 0.3538 - val_acc: 0.8824\n",
      "Epoch 13/30\n",
      "55424/55481 [============================>.] - ETA: 0s - loss: 0.1739 - acc: 0.9520\n",
      "Epoch 00013: val_acc improved from 0.88244 to 0.88326, saving model to train_result_step2/DBSCAN_weights_model_cnntext-v2(65475).h5\n",
      "55481/55481 [==============================] - 185s 3ms/step - loss: 0.1740 - acc: 0.9520 - val_loss: 0.3476 - val_acc: 0.8833\n",
      "Epoch 14/30\n",
      "55424/55481 [============================>.] - ETA: 0s - loss: 0.1487 - acc: 0.9607\n",
      "Epoch 00014: val_acc improved from 0.88326 to 0.88520, saving model to train_result_step2/DBSCAN_weights_model_cnntext-v2(65475).h5\n",
      "55481/55481 [==============================] - 186s 3ms/step - loss: 0.1487 - acc: 0.9607 - val_loss: 0.3412 - val_acc: 0.8852\n",
      "Epoch 15/30\n",
      "55424/55481 [============================>.] - ETA: 0s - loss: 0.1262 - acc: 0.9676\n",
      "Epoch 00015: val_acc improved from 0.88520 to 0.88735, saving model to train_result_step2/DBSCAN_weights_model_cnntext-v2(65475).h5\n",
      "55481/55481 [==============================] - 185s 3ms/step - loss: 0.1263 - acc: 0.9676 - val_loss: 0.3379 - val_acc: 0.8873\n",
      "Epoch 16/30\n",
      "55424/55481 [============================>.] - ETA: 0s - loss: 0.1075 - acc: 0.9740\n",
      "Epoch 00016: val_acc improved from 0.88735 to 0.88939, saving model to train_result_step2/DBSCAN_weights_model_cnntext-v2(65475).h5\n",
      "55481/55481 [==============================] - 185s 3ms/step - loss: 0.1075 - acc: 0.9740 - val_loss: 0.3341 - val_acc: 0.8894\n",
      "Epoch 17/30\n",
      "55424/55481 [============================>.] - ETA: 0s - loss: 0.0889 - acc: 0.9801\n",
      "Epoch 00017: val_acc improved from 0.88939 to 0.89031, saving model to train_result_step2/DBSCAN_weights_model_cnntext-v2(65475).h5\n",
      "55481/55481 [==============================] - 185s 3ms/step - loss: 0.0889 - acc: 0.9801 - val_loss: 0.3317 - val_acc: 0.8903\n",
      "Epoch 18/30\n",
      "55424/55481 [============================>.] - ETA: 0s - loss: 0.0728 - acc: 0.9854\n",
      "Epoch 00018: val_acc improved from 0.89031 to 0.89143, saving model to train_result_step2/DBSCAN_weights_model_cnntext-v2(65475).h5\n",
      "55481/55481 [==============================] - 185s 3ms/step - loss: 0.0729 - acc: 0.9854 - val_loss: 0.3326 - val_acc: 0.8914\n",
      "Epoch 19/30\n",
      "55424/55481 [============================>.] - ETA: 0s - loss: 0.0588 - acc: 0.9897\n",
      "Epoch 00019: val_acc did not improve\n",
      "55481/55481 [==============================] - 175s 3ms/step - loss: 0.0588 - acc: 0.9897 - val_loss: 0.3324 - val_acc: 0.8910\n",
      "Epoch 20/30\n",
      "55424/55481 [============================>.] - ETA: 0s - loss: 0.0488 - acc: 0.9919\n",
      "Epoch 00020: val_acc improved from 0.89143 to 0.89184, saving model to train_result_step2/DBSCAN_weights_model_cnntext-v2(65475).h5\n",
      "55481/55481 [==============================] - 189s 3ms/step - loss: 0.0488 - acc: 0.9919 - val_loss: 0.3332 - val_acc: 0.8918\n",
      "Epoch 21/30\n",
      "55424/55481 [============================>.] - ETA: 0s - loss: 0.0389 - acc: 0.9941\n",
      "Epoch 00021: val_acc improved from 0.89184 to 0.89266, saving model to train_result_step2/DBSCAN_weights_model_cnntext-v2(65475).h5\n",
      "55481/55481 [==============================] - 185s 3ms/step - loss: 0.0388 - acc: 0.9941 - val_loss: 0.3350 - val_acc: 0.8927\n",
      "Epoch 22/30\n",
      "55424/55481 [============================>.] - ETA: 0s - loss: 0.0312 - acc: 0.9957\n",
      "Epoch 00022: val_acc did not improve\n",
      "55481/55481 [==============================] - 175s 3ms/step - loss: 0.0312 - acc: 0.9957 - val_loss: 0.3405 - val_acc: 0.8924\n",
      "Epoch 00022: early stopping\n"
     ]
    }
   ],
   "source": [
    "from keras.callbacks import ModelCheckpoint, ReduceLROnPlateau, EarlyStopping\n",
    "\n",
    "checkpoint = ModelCheckpoint(savePath, save_weights_only=True, monitor='val_acc', verbose=1, save_best_only=True, mode='auto')\n",
    "earlystop = EarlyStopping(monitor='val_loss', patience=5, verbose=1)\n",
    "# reduce_lr = ReduceLROnPlateau(monitor='val_loss', factor=0.5, patience=2, verbose=1, mode='min', cooldown=0)\n",
    "\n",
    "# starts training\n",
    "model_history = paralled_model.fit(x_train, y_train,\n",
    "                                  batch_size=batch_size,\n",
    "                                  epochs=epochs, \n",
    "                                  verbose=1, \n",
    "                                  validation_data=(x_val, y_val),\n",
    "                                  callbacks=[earlystop,checkpoint]) "
   ]
  },
  {
   "cell_type": "markdown",
   "metadata": {},
   "source": [
    "#### Score trained model"
   ]
  },
  {
   "cell_type": "code",
   "execution_count": 23,
   "metadata": {},
   "outputs": [
    {
     "name": "stdout",
     "output_type": "stream",
     "text": [
      "9791/9791 [==============================] - 7s 719us/step\n",
      "Valid loss 0.340456371863\n",
      "Valid accuracy 0.89235011737\n"
     ]
    }
   ],
   "source": [
    "scores = paralled_model.evaluate(x_val, y_val, verbose=1)\n",
    "print('Valid loss', scores[0])\n",
    "print('Valid accuracy', scores[1])"
   ]
  },
  {
   "cell_type": "code",
   "execution_count": 24,
   "metadata": {},
   "outputs": [
    {
     "data": {
      "text/plain": [
       "'/project/jt071-group23/jt071079'"
      ]
     },
     "execution_count": 24,
     "metadata": {},
     "output_type": "execute_result"
    }
   ],
   "source": [
    "os.getcwd()"
   ]
  },
  {
   "cell_type": "markdown",
   "metadata": {},
   "source": [
    "#### Plot performance"
   ]
  },
  {
   "cell_type": "code",
   "execution_count": 25,
   "metadata": {},
   "outputs": [
    {
     "data": {
      "text/plain": [
       "<matplotlib.legend.Legend at 0x7fe2dd44f860>"
      ]
     },
     "execution_count": 25,
     "metadata": {},
     "output_type": "execute_result"
    },
    {
     "data": {
      "image/png": "[encoded data removed]",
      "text/plain": [
       "<Figure size 360x360 with 1 Axes>"
      ]
     },
     "metadata": {},
     "output_type": "display_data"
    },
    {
     "data": {
      "image/png": "[encoded data removed]",
      "text/plain": [
       "<Figure size 360x360 with 1 Axes>"
      ]
     },
     "metadata": {},
     "output_type": "display_data"
    }
   ],
   "source": [
    "training_loss = model_history.history['loss']\n",
    "val_loss = model_history.history['val_loss']\n",
    "\n",
    "train_acc = model_history.history['acc']\n",
    "val_acc = model_history.history['val_acc']\n",
    "\n",
    "plt.figure(figsize=(5,5))\n",
    "\n",
    "plt.plot(training_loss, label='training_loss')\n",
    "plt.plot(val_loss, label='validation_loss')\n",
    "plt.xlabel('Epochs')\n",
    "plt.ylabel('Loss')\n",
    "plt.title('Learning Curve')\n",
    "plt.legend(loc='best')\n",
    "\n",
    "plt.figure(figsize=(5,5))\n",
    "#plt.subplot(122)\n",
    "plt.plot(train_acc, label=\"training_acc\")\n",
    "plt.plot(val_acc, label=\"validation_acc\")\n",
    "plt.xlabel(\"Epochs\")\n",
    "plt.ylabel(\"Accuracy\")\n",
    "plt.title(\"Learning Curve\")\n",
    "plt.legend(loc='best')\n"
   ]
  },
  {
   "cell_type": "markdown",
   "metadata": {},
   "source": [
    "## Save training result"
   ]
  },
  {
   "cell_type": "code",
   "execution_count": 26,
   "metadata": {},
   "outputs": [
    {
     "data": {
      "text/plain": [
       "'/project/jt071-group23/jt071079'"
      ]
     },
     "execution_count": 26,
     "metadata": {},
     "output_type": "execute_result"
    }
   ],
   "source": [
    "os.getcwd()"
   ]
  },
  {
   "cell_type": "code",
   "execution_count": 27,
   "metadata": {},
   "outputs": [],
   "source": [
    "#  import pickle????"
   ]
  },
  {
   "cell_type": "code",
   "execution_count": 28,
   "metadata": {},
   "outputs": [],
   "source": [
    "from keras.models import load_model\n",
    "\n",
    "# save model\n",
    "paralled_model.save('DBSCAN_model_cnntext-v2(65475).h5')"
   ]
  },
  {
   "cell_type": "code",
   "execution_count": 29,
   "metadata": {},
   "outputs": [],
   "source": [
    "# save history\n",
    "with open('train_result_step2/DBSCAN_history_model_cnntext-v2(65475)', 'wb') as train_history:\n",
    "    pickle.dump(model_history.history, train_history)"
   ]
  },
  {
   "cell_type": "markdown",
   "metadata": {},
   "source": [
    "## Predict test data"
   ]
  },
  {
   "cell_type": "markdown",
   "metadata": {},
   "source": [
    "#### load model and weights"
   ]
  },
  {
   "cell_type": "code",
   "execution_count": 31,
   "metadata": {},
   "outputs": [
    {
     "ename": "ValueError",
     "evalue": "No model found in config file.",
     "output_type": "error",
     "traceback": [
      "\u001b[0;31m---------------------------------------------------------------------------\u001b[0m",
      "\u001b[0;31mValueError\u001b[0m                                Traceback (most recent call last)",
      "\u001b[0;32m<ipython-input-31-502f01fbb11b>\u001b[0m in \u001b[0;36m<module>\u001b[0;34m()\u001b[0m\n\u001b[1;32m      1\u001b[0m \u001b[0;32mfrom\u001b[0m \u001b[0mkeras\u001b[0m\u001b[0;34m.\u001b[0m\u001b[0mmodels\u001b[0m \u001b[0;32mimport\u001b[0m \u001b[0mload_model\u001b[0m\u001b[0;34m\u001b[0m\u001b[0m\n\u001b[1;32m      2\u001b[0m \u001b[0;34m\u001b[0m\u001b[0m\n\u001b[0;32m----> 3\u001b[0;31m \u001b[0mparalled_model\u001b[0m \u001b[0;34m=\u001b[0m \u001b[0mload_model\u001b[0m\u001b[0;34m(\u001b[0m\u001b[0;34m'train_result_step2/DBSCAN_model_cnntext-v2(65475).h5'\u001b[0m\u001b[0;34m)\u001b[0m\u001b[0;34m\u001b[0m\u001b[0m\n\u001b[0m\u001b[1;32m      4\u001b[0m \u001b[0mparalled_model\u001b[0m\u001b[0;34m.\u001b[0m\u001b[0mload_weights\u001b[0m\u001b[0;34m(\u001b[0m\u001b[0;34m'train_result_step2/DBSCAN_weights_model_cnntext-v2(65475).h5'\u001b[0m\u001b[0;34m)\u001b[0m\u001b[0;34m\u001b[0m\u001b[0m\n",
      "\u001b[0;32m/opt/conda/lib/python3.6/site-packages/keras/models.py\u001b[0m in \u001b[0;36mload_model\u001b[0;34m(filepath, custom_objects, compile)\u001b[0m\n\u001b[1;32m    239\u001b[0m         \u001b[0mmodel_config\u001b[0m \u001b[0;34m=\u001b[0m \u001b[0mf\u001b[0m\u001b[0;34m.\u001b[0m\u001b[0mattrs\u001b[0m\u001b[0;34m.\u001b[0m\u001b[0mget\u001b[0m\u001b[0;34m(\u001b[0m\u001b[0;34m'model_config'\u001b[0m\u001b[0;34m)\u001b[0m\u001b[0;34m\u001b[0m\u001b[0m\n\u001b[1;32m    240\u001b[0m         \u001b[0;32mif\u001b[0m \u001b[0mmodel_config\u001b[0m \u001b[0;32mis\u001b[0m \u001b[0;32mNone\u001b[0m\u001b[0;34m:\u001b[0m\u001b[0;34m\u001b[0m\u001b[0m\n\u001b[0;32m--> 241\u001b[0;31m             \u001b[0;32mraise\u001b[0m \u001b[0mValueError\u001b[0m\u001b[0;34m(\u001b[0m\u001b[0;34m'No model found in config file.'\u001b[0m\u001b[0;34m)\u001b[0m\u001b[0;34m\u001b[0m\u001b[0m\n\u001b[0m\u001b[1;32m    242\u001b[0m         \u001b[0mmodel_config\u001b[0m \u001b[0;34m=\u001b[0m \u001b[0mjson\u001b[0m\u001b[0;34m.\u001b[0m\u001b[0mloads\u001b[0m\u001b[0;34m(\u001b[0m\u001b[0mmodel_config\u001b[0m\u001b[0;34m.\u001b[0m\u001b[0mdecode\u001b[0m\u001b[0;34m(\u001b[0m\u001b[0;34m'utf-8'\u001b[0m\u001b[0;34m)\u001b[0m\u001b[0;34m)\u001b[0m\u001b[0;34m\u001b[0m\u001b[0m\n\u001b[1;32m    243\u001b[0m         \u001b[0mmodel\u001b[0m \u001b[0;34m=\u001b[0m \u001b[0mmodel_from_config\u001b[0m\u001b[0;34m(\u001b[0m\u001b[0mmodel_config\u001b[0m\u001b[0;34m,\u001b[0m \u001b[0mcustom_objects\u001b[0m\u001b[0;34m=\u001b[0m\u001b[0mcustom_objects\u001b[0m\u001b[0;34m)\u001b[0m\u001b[0;34m\u001b[0m\u001b[0m\n",
      "\u001b[0;31mValueError\u001b[0m: No model found in config file."
     ]
    }
   ],
   "source": [
    "from keras.models import load_model\n",
    "\n",
    "paralled_model = load_model('train_result_step2/DBSCAN_model_cnntext-v2(65475).h5')\n",
    "paralled_model.load_weights('train_result_step2/DBSCAN_weights_model_cnntext-v2(65475).h5')"
   ]
  },
  {
   "cell_type": "markdown",
   "metadata": {},
   "source": [
    "#### load tokenizer"
   ]
  },
  {
   "cell_type": "code",
   "execution_count": 33,
   "metadata": {},
   "outputs": [],
   "source": [
    "import pickle\n",
    "\n",
    "with open('train_result_step2/DBSCAN_tokenizer.pickle', 'rb') as handle:\n",
    "    tokenizer = pickle.load(handle)"
   ]
  },
  {
   "cell_type": "code",
   "execution_count": 35,
   "metadata": {},
   "outputs": [
    {
     "data": {
      "text/plain": [
       "(9382, 5)"
      ]
     },
     "execution_count": 35,
     "metadata": {},
     "output_type": "execute_result"
    }
   ],
   "source": [
    "df_test.drop(df_test[pd.isnull(df_test['sentences_1000_str'])].index, inplace=True)\n",
    "df_test.drop(df_test[df_test['sentences_1000_str'].str.len()<30].index, inplace=True)\n",
    "df_test.shape"
   ]
  },
  {
   "cell_type": "code",
   "execution_count": 36,
   "metadata": {},
   "outputs": [],
   "source": [
    "MAX_SEQUENCE_LENGTH = 1000\n",
    "EMBEDDING_DIM = 200\n",
    "\n",
    "# tokenizer = Tokenizer()\n",
    "# tokenizer.fit_on_texts(df_test['sentences_1000_str'])\n",
    "sequences = tokenizer.texts_to_sequences(df_test['sentences_1000_str'])"
   ]
  },
  {
   "cell_type": "code",
   "execution_count": 37,
   "metadata": {},
   "outputs": [],
   "source": [
    "# word_index = tokenizer.word_index"
   ]
  },
  {
   "cell_type": "code",
   "execution_count": 38,
   "metadata": {},
   "outputs": [
    {
     "name": "stdout",
     "output_type": "stream",
     "text": [
      "x_test tensor: (9382, 1000)\n",
      "y_test tensor: (9382, 14)\n"
     ]
    }
   ],
   "source": [
    "from keras.preprocessing.sequence import pad_sequences\n",
    "from keras.utils import to_categorical\n",
    "\n",
    "x_test = pad_sequences(sequences, maxlen=MAX_SEQUENCE_LENGTH)\n",
    "y_test = to_categorical(df_test['label'])\n",
    "print('x_test tensor:', x_test.shape)\n",
    "print('y_test tensor:', y_test.shape)"
   ]
  },
  {
   "cell_type": "code",
   "execution_count": 39,
   "metadata": {},
   "outputs": [
    {
     "name": "stdout",
     "output_type": "stream",
     "text": [
      "9382/9382 [==============================] - 7s 701us/step\n",
      "Test Accuracy 0.781283308469\n"
     ]
    }
   ],
   "source": [
    "# calculate score\n",
    "test_score = paralled_model.evaluate(x_test, y_test, verbose=1)\n",
    "print('Test Accuracy', test_score[1])"
   ]
  },
  {
   "cell_type": "code",
   "execution_count": 40,
   "metadata": {},
   "outputs": [
    {
     "data": {
      "text/plain": [
       "0.7812833084630143"
      ]
     },
     "execution_count": 40,
     "metadata": {},
     "output_type": "execute_result"
    }
   ],
   "source": [
    "# prdict test data\n",
    "y_predict = paralled_model.predict(x_test)\n",
    "\n",
    "# calculate score\n",
    "y_predict_label = []\n",
    "for i in range(y_predict.shape[0]):\n",
    "    y_predict_label.append(y_predict[i].argmax())\n",
    "\n",
    "y_test_label = []\n",
    "for i in range(y_test.shape[0]):\n",
    "    y_test_label.append(y_test[i].argmax())\n",
    "\n",
    "score=0\n",
    "for i in range(len(y_predict_label)):\n",
    "    if y_predict_label[i]==y_test_label[i]:\n",
    "        score+=1\n",
    "\n",
    "score = score/len(y_predict_label)\n",
    "score"
   ]
  },
  {
   "cell_type": "markdown",
   "metadata": {},
   "source": [
    "## heat map"
   ]
  },
  {
   "cell_type": "code",
   "execution_count": 41,
   "metadata": {},
   "outputs": [],
   "source": [
    "from sklearn.metrics import confusion_matrix, accuracy_score"
   ]
  },
  {
   "cell_type": "code",
   "execution_count": 42,
   "metadata": {},
   "outputs": [],
   "source": [
    "e_type_dict = {\n",
    "    0: 'apple',\n",
    "    1: 'AI',\n",
    "    2: 'car', \n",
    "    3: 'finance',\n",
    "    4: 'travel',\n",
    "    5: 'cosmetic',\n",
    "    6: '3C',\n",
    "    7: 'health',\n",
    "    8: 'job', \n",
    "    9: 'food',\n",
    "    10: 'money',\n",
    "    11: 'drone',\n",
    "    12:'house',\n",
    "    13:'blockchain'\n",
    "}"
   ]
  },
  {
   "cell_type": "code",
   "execution_count": 43,
   "metadata": {},
   "outputs": [],
   "source": [
    "# Creates a confusion matrix\n",
    "cm = confusion_matrix(y_test_label, y_predict_label)\n",
    "\n",
    "# # 顯示小數點兩位\n",
    "# np.set_printoptions(suppress=True)\n",
    "\n",
    "# normalize\n",
    "cm = cm.astype('float') / cm.sum(axis=1)[:, np.newaxis]*100"
   ]
  },
  {
   "cell_type": "code",
   "execution_count": 44,
   "metadata": {},
   "outputs": [],
   "source": [
    "# Transform to df for easier plotting\n",
    "index = e_type_dict.values()\n",
    "cm_df = pd.DataFrame(cm, index=index, columns=index)"
   ]
  },
  {
   "cell_type": "code",
   "execution_count": 45,
   "metadata": {},
   "outputs": [
    {
     "data": {
      "image/png": "[encoded data removed]",
      "text/plain": [
       "<Figure size 792x576 with 2 Axes>"
      ]
     },
     "metadata": {},
     "output_type": "display_data"
    }
   ],
   "source": [
    "plt.figure(figsize=(11,8))\n",
    "sns.heatmap(cm_df, annot=True, cmap='Blues')\n",
    "plt.title('k-means_cnntext-v2 \\nAccuracy:{0:.3f}'.format(accuracy_score(y_test_label, y_predict_label)))\n",
    "plt.ylabel('True label')\n",
    "plt.xlabel('Predicted label')\n",
    "plt.show()"
   ]
  },
  {
   "cell_type": "code",
   "execution_count": null,
   "metadata": {},
   "outputs": [],
   "source": [
    "#DBSCAN的方法不行  在高維狀況下  eps的設定較為困難"
   ]
  }
 ],
 "metadata": {
  "kernelspec": {
   "display_name": "Python 3",
   "language": "python",
   "name": "python3"
  },
  "language_info": {
   "codemirror_mode": {
    "name": "ipython",
    "version": 3
   },
   "file_extension": ".py",
   "mimetype": "text/x-python",
   "name": "python",
   "nbconvert_exporter": "python",
   "pygments_lexer": "ipython3",
   "version": "3.6.4"
  }
 },
 "nbformat": 4,
 "nbformat_minor": 2
}
